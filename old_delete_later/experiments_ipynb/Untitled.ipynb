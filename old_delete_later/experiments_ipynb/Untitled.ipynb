{
 "cells": [
  {
   "cell_type": "code",
   "execution_count": 1,
   "id": "810c95ad",
   "metadata": {},
   "outputs": [],
   "source": [
    "from prompter import Prompter"
   ]
  },
  {
   "cell_type": "code",
   "execution_count": 4,
   "id": "18278284",
   "metadata": {},
   "outputs": [
    {
     "name": "stdout",
     "output_type": "stream",
     "text": [
      "/root/ipynb/prompter/templates/\n"
     ]
    }
   ],
   "source": [
    "prompter = Prompter()"
   ]
  },
  {
   "cell_type": "code",
   "execution_count": 40,
   "id": "c7fbc043",
   "metadata": {},
   "outputs": [
    {
     "name": "stdout",
     "output_type": "stream",
     "text": [
      "/root/ipynb/prompter/templates/\n"
     ]
    }
   ],
   "source": []
  },
  {
   "cell_type": "code",
   "execution_count": 41,
   "id": "1047763c",
   "metadata": {},
   "outputs": [
    {
     "name": "stdout",
     "output_type": "stream",
     "text": [
      "Below is an instruction that describes a task. Write a response that appropriately completes the request.\n",
      "\n",
      "### Instruction:\n",
      "a\n",
      "\n",
      "### Response:\n",
      "c\n"
     ]
    }
   ],
   "source": [
    "print(generate_prompt({\"instruction\": \"a\",\n",
    "#      \"input\": None,\n",
    "     \"output\": \"c\"})\n",
    "     )"
   ]
  },
  {
   "cell_type": "code",
   "execution_count": null,
   "id": "f59d9f62",
   "metadata": {},
   "outputs": [],
   "source": [
    "prompter.generate_prompt(instruction = ,\n",
    "                         input = ,\n",
    "                         label = \n",
    "                        )"
   ]
  },
  {
   "cell_type": "code",
   "execution_count": 10,
   "id": "f34efc2c",
   "metadata": {},
   "outputs": [
    {
     "ename": "TypeError",
     "evalue": "Prompter.generate_prompt() missing 1 required positional argument: 'instruction'",
     "output_type": "error",
     "traceback": [
      "\u001b[0;31m---------------------------------------------------------------------------\u001b[0m",
      "\u001b[0;31mTypeError\u001b[0m                                 Traceback (most recent call last)",
      "Cell \u001b[0;32mIn[10], line 1\u001b[0m\n\u001b[0;32m----> 1\u001b[0m \u001b[38;5;28mprint\u001b[39m(\u001b[43mprompter\u001b[49m\u001b[38;5;241;43m.\u001b[39;49m\u001b[43mgenerate_prompt\u001b[49m\u001b[43m(\u001b[49m\u001b[43m)\u001b[49m)\n",
      "\u001b[0;31mTypeError\u001b[0m: Prompter.generate_prompt() missing 1 required positional argument: 'instruction'"
     ]
    }
   ],
   "source": [
    "print(prompter.generate_prompt())"
   ]
  },
  {
   "cell_type": "code",
   "execution_count": 4,
   "id": "8fffb232",
   "metadata": {},
   "outputs": [
    {
     "data": {
      "text/plain": [
       "['__name__',\n",
       " '__doc__',\n",
       " '__package__',\n",
       " '__loader__',\n",
       " '__spec__',\n",
       " '__path__',\n",
       " '__file__',\n",
       " '__cached__',\n",
       " '__builtins__',\n",
       " 'prompter']"
      ]
     },
     "execution_count": 4,
     "metadata": {},
     "output_type": "execute_result"
    }
   ],
   "source": [
    "prompter.__dir__()"
   ]
  },
  {
   "cell_type": "code",
   "execution_count": 2,
   "id": "f3fe7c8e",
   "metadata": {},
   "outputs": [
    {
     "name": "stdout",
     "output_type": "stream",
     "text": [
      "EvaluateTestSet.py\t\tYT_Alpaca_7B_LoRa_v9.ipynb\r\n",
      "ParamsIterator.py\t\t__pycache__\r\n",
      "T2CEvaluator.py\t\t\tbleu_metric_test.ipynb\r\n",
      "Untitled.ipynb\t\t\texperiment_config.json\r\n",
      "YT_Alpaca_7B_LoRa_v4.ipynb\tlora-alpaca\r\n",
      "YT_Alpaca_7B_LoRa_v4_old.ipynb\tprompter\r\n",
      "YT_Alpaca_7B_LoRa_v5.ipynb\ttemp\r\n",
      "YT_Alpaca_7B_LoRa_v6.ipynb\ttemp.txt\r\n",
      "YT_Alpaca_7B_LoRa_v7.ipynb\ttest_load_model.ipynb\r\n",
      "YT_Alpaca_7B_LoRa_v8.ipynb\tutils.py\r\n"
     ]
    }
   ],
   "source": [
    "!ls"
   ]
  },
  {
   "cell_type": "code",
   "execution_count": null,
   "id": "6f13b4cc",
   "metadata": {},
   "outputs": [],
   "source": [
    "Prompter"
   ]
  },
  {
   "cell_type": "code",
   "execution_count": 4,
   "id": "e38feab8",
   "metadata": {},
   "outputs": [
    {
     "name": "stdout",
     "output_type": "stream",
     "text": [
      "ls: cannot access 'prompter/prompter': No such file or directory\r\n"
     ]
    }
   ],
   "source": [
    "!ls prompter/prompter"
   ]
  },
  {
   "cell_type": "code",
   "execution_count": null,
   "id": "4589748f",
   "metadata": {},
   "outputs": [],
   "source": []
  }
 ],
 "metadata": {
  "kernelspec": {
   "display_name": "Python 3 (ipykernel)",
   "language": "python",
   "name": "python3"
  },
  "language_info": {
   "codemirror_mode": {
    "name": "ipython",
    "version": 3
   },
   "file_extension": ".py",
   "mimetype": "text/x-python",
   "name": "python",
   "nbconvert_exporter": "python",
   "pygments_lexer": "ipython3",
   "version": "3.10.9"
  }
 },
 "nbformat": 4,
 "nbformat_minor": 5
}
