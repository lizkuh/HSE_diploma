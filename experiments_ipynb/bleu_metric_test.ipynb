{
 "cells": [
  {
   "cell_type": "code",
   "execution_count": 1,
   "id": "5b9d65a0",
   "metadata": {},
   "outputs": [],
   "source": [
    "fn_answers     = '/root/data/answers.json'\n",
    "# fn_predictions = '/root/results/2023-05-04-12_53_56.txt'"
   ]
  },
  {
   "cell_type": "code",
   "execution_count": 2,
   "id": "2e09530e",
   "metadata": {},
   "outputs": [],
   "source": [
    "fn_predictions_list = [\"/root/results/2023-04-30-21_01_11.txt\"  ,\n",
    "                       \"/root/results/2023-05-01-22_30_58.txt\"  ,\n",
    "                       \"/root/results/2023-05-02-21_42_04.txt\"  ,\n",
    "                       \"/root/results/2023-05-01-06_42_40.txt\"  ,\n",
    "                        \"/root/results/2023-05-01-23_20_30.txt\"  ,\n",
    "                        \"/root/results/2023-05-03-08_20_57.txt\",\n",
    "                        \"/root/results/2023-05-01-22_13_30.txt\"  ,\n",
    "                        \"/root/results/2023-05-02-21_17_36.txt\"  ,\n",
    "                        \"/root/results/2023-05-04-12_53_56.txt\"]"
   ]
  },
  {
   "cell_type": "code",
   "execution_count": 3,
   "id": "bdf6917d",
   "metadata": {},
   "outputs": [
    {
     "name": "stdout",
     "output_type": "stream",
     "text": [
      "/root/results/2023-04-30-21_01_11.txt\n",
      "INFO:__main__:BLEU: 9.56, EM: 0.0\n",
      "{'EM': 0.0, 'BLEU': 0.09559306017454255, 'brevity_penalty': 0.6567345865799272, 'ratio': 0.703989703989704, 'translation_length': 2188, 'reference_length': 3108, 'precisions_0': 0.3074463225216994, 'precisions_1': 0.19435136428913355, 'precisions_2': 0.11389297987236131, 'precisions_3': 0.06596173212487412}\n",
      "/root/results/2023-05-01-22_30_58.txt\n",
      "INFO:__main__:BLEU: 6.82, EM: 0.0\n",
      "{'EM': 0.0, 'BLEU': 0.06819640430415487, 'brevity_penalty': 0.7251124219221319, 'ratio': 0.7567567567567568, 'translation_length': 2352, 'reference_length': 3108, 'precisions_0': 0.1878453038674033, 'precisions_1': 0.12028406569019086, 'precisions_2': 0.07345651194231635, 'precisions_3': 0.0471395881006865}\n",
      "/root/results/2023-05-02-21_42_04.txt\n",
      "INFO:__main__:BLEU: 5.27, EM: 0.0\n",
      "{'EM': 0.0, 'BLEU': 0.0527028556912851, 'brevity_penalty': 0.48166219569389485, 'ratio': 0.5778635778635779, 'translation_length': 1796, 'reference_length': 3108, 'precisions_0': 0.24318308291597107, 'precisions_1': 0.1390689451974072, 'precisions_2': 0.08048048048048048, 'precisions_3': 0.052663808940600125}\n",
      "/root/results/2023-05-01-06_42_40.txt\n",
      "INFO:__main__:BLEU: 11.22, EM: 0.0\n",
      "{'EM': 0.0, 'BLEU': 0.11217978797619815, 'brevity_penalty': 1.0, 'ratio': 1.2567567567567568, 'translation_length': 3906, 'reference_length': 3108, 'precisions_0': 0.25262349628871256, 'precisions_1': 0.1486734961912267, 'precisions_2': 0.08453718566078117, 'precisions_3': 0.04987735077677841}\n",
      "/root/results/2023-05-01-23_20_30.txt\n",
      "INFO:__main__:BLEU: 6.13, EM: 0.0\n",
      "{'EM': 0.0, 'BLEU': 0.06127141614621381, 'brevity_penalty': 0.6144170544052205, 'ratio': 0.6724581724581724, 'translation_length': 2090, 'reference_length': 3108, 'precisions_0': 0.23577235772357724, 'precisions_1': 0.12807634354595682, 'precisions_2': 0.0740929994890138, 'precisions_3': 0.044201768070722826}\n",
      "/root/results/2023-05-03-08_20_57.txt\n",
      "INFO:__main__:BLEU: 6.38, EM: 0.0\n",
      "{'EM': 0.0, 'BLEU': 0.06375017875132673, 'brevity_penalty': 0.7509442674730463, 'ratio': 0.7773487773487774, 'translation_length': 2416, 'reference_length': 3108, 'precisions_0': 0.1824575920562681, 'precisions_1': 0.11307725507121277, 'precisions_2': 0.06301969365426696, 'precisions_3': 0.03994673768308921}\n",
      "/root/results/2023-05-01-22_13_30.txt\n",
      "INFO:__main__:BLEU: 11.13, EM: 0.0\n",
      "{'EM': 0.0, 'BLEU': 0.1112505208065569, 'brevity_penalty': 0.9321626765398044, 'ratio': 0.9343629343629344, 'translation_length': 2904, 'reference_length': 3108, 'precisions_0': 0.22030981067125646, 'precisions_1': 0.1443850267379679, 'precisions_2': 0.0967391304347826, 'precisions_3': 0.06593001841620626}\n",
      "/root/results/2023-05-02-21_17_36.txt\n",
      "INFO:__main__:BLEU: 7.9, EM: 0.0\n",
      "{'EM': 0.0, 'BLEU': 0.078962783032299, 'brevity_penalty': 0.6131050578560173, 'ratio': 0.6714929214929215, 'translation_length': 2087, 'reference_length': 3108, 'precisions_0': 0.25622605363984674, 'precisions_1': 0.15643863179074446, 'precisions_2': 0.10015329586101175, 'precisions_3': 0.06853582554517133}\n",
      "/root/results/2023-05-04-12_53_56.txt\n",
      "INFO:__main__:BLEU: 9.41, EM: 0.0\n",
      "{'EM': 0.0, 'BLEU': 0.09414554673739628, 'brevity_penalty': 1.0, 'ratio': 1.0386100386100385, 'translation_length': 3228, 'reference_length': 3108, 'precisions_0': 0.2003716320842366, 'precisions_1': 0.12304250559284116, 'precisions_2': 0.07168342523516055, 'precisions_3': 0.04445176160684886}\n"
     ]
    }
   ],
   "source": [
    "from T2CEvaluator import T2CEvaluator\n",
    "evaluator = T2CEvaluator()\n",
    "for fn_predictions in fn_predictions_list:\n",
    "    print(fn_predictions)\n",
    "    !python /root/code/CodeXGLUE_t2c_evaluator/evaluator.py -a {fn_answers} -p {fn_predictions}\n",
    "    print(evaluator.calculate_metrics(fn_answers = fn_answers, \n",
    "                                      fn_predictions = fn_predictions)\n",
    "         )"
   ]
  },
  {
   "cell_type": "code",
   "execution_count": 2,
   "id": "9e7d1edd",
   "metadata": {},
   "outputs": [
    {
     "data": {
      "text/plain": [
       "<T2CEvaluator.T2CEvaluator at 0x7fcd4c4a5ba0>"
      ]
     },
     "execution_count": 2,
     "metadata": {},
     "output_type": "execute_result"
    }
   ],
   "source": []
  },
  {
   "cell_type": "code",
   "execution_count": 2,
   "id": "2964d91c",
   "metadata": {},
   "outputs": [
    {
     "name": "stdout",
     "output_type": "stream",
     "text": [
      "T2CEvaluator.py\t\t\t__pycache__\t\ttemp.txt\r\n",
      "YT_Alpaca_7B_LoRa_v4.ipynb\tbleu_metric_test.ipynb\r\n",
      "YT_Alpaca_7B_LoRa_v4_old.ipynb\tlora-alpaca\r\n"
     ]
    }
   ],
   "source": [
    "!ls"
   ]
  },
  {
   "cell_type": "code",
   "execution_count": 3,
   "id": "4814692a",
   "metadata": {},
   "outputs": [
    {
     "name": "stdout",
     "output_type": "stream",
     "text": [
      "2023-04-30-21_01_11.txt  2023-05-01-22_30_58.txt  2023-05-02-21_42_04.txt\r\n",
      "2023-05-01-06_42_40.txt  2023-05-01-23_20_30.txt  2023-05-03-08_20_57.txt\r\n",
      "2023-05-01-22_13_30.txt  2023-05-02-21_17_36.txt  2023-05-04-12_53_56.txt\r\n"
     ]
    }
   ],
   "source": [
    "!ls /root/results/"
   ]
  },
  {
   "cell_type": "code",
   "execution_count": null,
   "id": "c9227517",
   "metadata": {},
   "outputs": [],
   "source": [
    "for fn_predictions in fn_predictions_list:\n",
    "    print(fn_predictions)\n",
    "    !python /root/code/CodeXGLUE_t2c_evaluator/evaluator.py -a {fn_answers} -p {fn_predictions}"
   ]
  },
  {
   "cell_type": "code",
   "execution_count": 4,
   "id": "5cd74eda",
   "metadata": {},
   "outputs": [
    {
     "name": "stdout",
     "output_type": "stream",
     "text": [
      "INFO:__main__:BLEU: 9.41, EM: 0.0\r\n"
     ]
    }
   ],
   "source": [
    "!python /root/code/CodeXGLUE_t2c_evaluator/evaluator.py -a {fn_answers} -p {fn_predictions}"
   ]
  },
  {
   "cell_type": "code",
   "execution_count": 3,
   "id": "4f3db7ce",
   "metadata": {},
   "outputs": [],
   "source": [
    "# # Copyright 2017 Google Inc. All Rights Reserved.\n",
    "# #\n",
    "# # Licensed under the Apache License, Version 2.0 (the \"License\");\n",
    "# # you may not use this file except in compliance with the License.\n",
    "# # You may obtain a copy of the License at\n",
    "# #\n",
    "# #     http://www.apache.org/licenses/LICENSE-2.0\n",
    "# #\n",
    "# # Unless required by applicable law or agreed to in writing, software\n",
    "# # distributed under the License is distributed on an \"AS IS\" BASIS,\n",
    "# # WITHOUT WARRANTIES OR CONDITIONS OF ANY KIND, either express or implied.\n",
    "# # See the License for the specific language governing permissions and\n",
    "# # limitations under the License.\n",
    "# # ==============================================================================\n",
    "\n",
    "# \"\"\"Python implementation of BLEU and smooth-BLEU.\n",
    "# This module provides a Python implementation of BLEU and smooth-BLEU.\n",
    "# Smooth BLEU is computed following the method outlined in the paper:\n",
    "# Chin-Yew Lin, Franz Josef Och. ORANGE: a method for evaluating automatic\n",
    "# evaluation metrics for machine translation. COLING 2004.\n",
    "# \"\"\"\n",
    "\n",
    "# import collections\n",
    "# import math\n",
    "# # import os\n",
    "# # from bleu import _bleu\n",
    "# import json\n",
    "# import os\n",
    "# from typing import Dict\n",
    "\n",
    "# class T2CEvaluator:\n",
    "#     def __init__(self, max_order = 4, smooth = True,  verbose = False):\n",
    "#         self.verbose = verbose\n",
    "#         self.max_order = max_order\n",
    "#         self.smooth = smooth\n",
    "        \n",
    "    \n",
    "#     @classmethod\n",
    "#     def _preprocess_answers(cls, s):\n",
    "#         s = s.replace('\\n', ' ')\n",
    "\n",
    "#         while '  ' in s:\n",
    "#             s = s.replace('  ', ' ')\n",
    "\n",
    "#         while s and s[-1]==' ':\n",
    "#             s = s[:-1]\n",
    "\n",
    "#         return s\n",
    "\n",
    "#     def calculate_metrics(self, fn_answers, fn_predictions, verbose = True) -> Dict:\n",
    "#         \"\"\"\n",
    "#             return EM score, bleu metrics, and others\n",
    "#         \"\"\"\n",
    "#         res  = {}\n",
    "#         preds = open(fn_predictions, \"r\").readlines()\n",
    "#         gts   = open(fn_answers, \"r\").readlines()\n",
    "\n",
    "#         assert len(preds) == len(gts), f\"Samples of predictions and answers are not equal, {len(preds)}: {len(gts)}\"\n",
    "\n",
    "#         total = len(gts)\n",
    "#         EM = 0.0\n",
    "\n",
    "#         translation_corpus = []\n",
    "#         reference_corpus = []\n",
    "\n",
    "#         #read the data in correct format\n",
    "#         for pred, gt in zip(preds, gts):\n",
    "#             pred = pred.strip()\n",
    "#             gt = json.loads(gt)[\"code\"]\n",
    "#             reference_corpus.append([gt.split(' ')])\n",
    "#             translation_corpus.append(T2CEvaluator._preprocess_answers(pred).split(' '))\n",
    "#             if pred.split() == gt.split():\n",
    "#                 EM += 1\n",
    "\n",
    "#         res['EM'] = EM\n",
    "\n",
    "#         # 3-Tuple with the BLEU score, n-gram precisions, geometric mean of n-gram\n",
    "#         #  precisions and brevity penalty.\n",
    "\n",
    "#         bleu_score, precisions, bp, ratio, translation_length, reference_length = self.compute_bleu(reference_corpus = reference_corpus, \n",
    "#                                                                                          translation_corpus= translation_corpus, \n",
    "#                                                                                          max_order = self.max_order,\n",
    "#                                                                                          smooth = self.smooth\n",
    "#                                                                                         )\n",
    "#         res['BLEU'] = bleu_score\n",
    "#         res['brevity_penalty'] = bp\n",
    "#         res['ratio'] = ratio\n",
    "#         res['translation_length'] = translation_length\n",
    "#         res['reference_length'] = reference_length\n",
    "#         for i in range(len(precisions)):\n",
    "#             res[f'precisions_{i}'] = precisions[i]\n",
    "\n",
    "#         if self.verbose:\n",
    "#             print(f\"INFO:__main__:BLEU: {round(100 * bleu_score,2)}, EM: {round(EM/total*100, 2)}\") \n",
    "\n",
    "#         return res\n",
    "    \n",
    "#     @classmethod\n",
    "#     def _get_ngrams(cls, segment, max_order):\n",
    "#         \"\"\"Extracts all n-grams upto a given maximum order from an input segment.\n",
    "#         Args:\n",
    "#           segment: text segment from which n-grams will be extracted.\n",
    "#           max_order: maximum length in tokens of the n-grams returned by this\n",
    "#               methods.\n",
    "#         Returns:\n",
    "#           The Counter containing all n-grams upto max_order in segment\n",
    "#           with a count of how many times each n-gram occurred.\n",
    "#         \"\"\"\n",
    "#         ngram_counts = collections.Counter()\n",
    "#         for order in range(1, max_order + 1):\n",
    "#             for i in range(0, len(segment) - order + 1):\n",
    "#                 ngram = tuple(segment[i:i+order])\n",
    "#                 ngram_counts[ngram] += 1\n",
    "#         return ngram_counts\n",
    "\n",
    "#     @classmethod\n",
    "#     def compute_bleu(cls, reference_corpus, translation_corpus, max_order=4,\n",
    "#                      smooth=False):\n",
    "#         \"\"\"Computes BLEU score of translated segments against one or more references.\n",
    "#         Args:\n",
    "#           reference_corpus: list of lists of references for each translation. Each\n",
    "#               reference should be tokenized into a list of tokens.\n",
    "#           translation_corpus: list of translations to score. Each translation\n",
    "#               should be tokenized into a list of tokens.\n",
    "#           max_order: Maximum n-gram order to use when computing BLEU score.\n",
    "#           smooth: Whether or not to apply Lin et al. 2004 smoothing.\n",
    "#         Returns:\n",
    "#           3-Tuple with the BLEU score, n-gram precisions, geometric mean of n-gram\n",
    "#           precisions and brevity penalty.\n",
    "#         \"\"\"\n",
    "#         matches_by_order = [0] * max_order\n",
    "#         possible_matches_by_order = [0] * max_order\n",
    "#         reference_length = 0\n",
    "#         translation_length = 0\n",
    "#         for (references, translation) in zip(reference_corpus,\n",
    "#                                              translation_corpus):\n",
    "#             reference_length += min(len(r) for r in references)\n",
    "#             translation_length += len(translation)\n",
    "\n",
    "#             merged_ref_ngram_counts = collections.Counter()\n",
    "#             for reference in references:\n",
    "#                 merged_ref_ngram_counts |= cls._get_ngrams(reference, max_order)\n",
    "#             translation_ngram_counts = cls._get_ngrams(translation, max_order)\n",
    "#             overlap = translation_ngram_counts & merged_ref_ngram_counts\n",
    "#             for ngram in overlap:\n",
    "#                 matches_by_order[len(ngram)-1] += overlap[ngram]\n",
    "#             for order in range(1, max_order+1):\n",
    "#                 possible_matches = len(translation) - order + 1\n",
    "#                 if possible_matches > 0:\n",
    "#                     possible_matches_by_order[order-1] += possible_matches\n",
    "\n",
    "#         precisions = [0] * max_order\n",
    "#         for i in range(0, max_order):\n",
    "#             if smooth:\n",
    "#                 precisions[i] = ((matches_by_order[i] + 1.) /\n",
    "#                                  (possible_matches_by_order[i] + 1.))\n",
    "#             else:\n",
    "#                 if possible_matches_by_order[i] > 0:\n",
    "#                     precisions[i] = (float(matches_by_order[i]) /\n",
    "#                                      possible_matches_by_order[i])\n",
    "#                 else:\n",
    "#                     precisions[i] = 0.0\n",
    "\n",
    "#         if min(precisions) > 0:\n",
    "#             p_log_sum = sum((1. / max_order) * math.log(p) for p in precisions)\n",
    "#             geo_mean = math.exp(p_log_sum)\n",
    "#         else:\n",
    "#             geo_mean = 0\n",
    "\n",
    "#         ratio = float(translation_length) / reference_length\n",
    "\n",
    "#         if ratio > 1.0:\n",
    "#             bp = 1.\n",
    "#         else:\n",
    "#             bp = math.exp(1 - 1. / ratio)\n",
    "\n",
    "#         bleu = geo_mean * bp\n",
    "\n",
    "#         return (bleu, precisions, bp, ratio, translation_length, reference_length)"
   ]
  },
  {
   "cell_type": "code",
   "execution_count": 29,
   "id": "9b64bd44",
   "metadata": {},
   "outputs": [],
   "source": [
    "# t2c_evaluator = T2CEvaluator()\n",
    "\n",
    "# for fn_predictions in fn_predictions_list:\n",
    "#     print(fn_predictions)\n",
    "#     !python /root/code/CodeXGLUE_t2c_evaluator/evaluator.py -a {fn_answers} -p {fn_predictions}\n",
    "\n",
    "#     print(t2c_evaluator.calculate_metrics(fn_answers = fn_answers, \n",
    "#                                     fn_predictions = fn_predictions\n",
    "#                                     )[\"BLEU\"]*100\n",
    "#          )"
   ]
  },
  {
   "cell_type": "code",
   "execution_count": 6,
   "id": "0ff4d2be",
   "metadata": {},
   "outputs": [
    {
     "name": "stdout",
     "output_type": "stream",
     "text": [
      "INFO:__main__:BLEU: 9.41, EM: 0.0\n"
     ]
    },
    {
     "data": {
      "text/plain": [
       "{'EM': 0.0,\n",
       " 'BLEU': 0.09414554673739628,\n",
       " 'brevity_penalty': 1.0,\n",
       " 'ratio': 1.0386100386100385,\n",
       " 'translation_length': 3228,\n",
       " 'reference_length': 3108,\n",
       " 'precisions_0': 0.2003716320842366,\n",
       " 'precisions_1': 0.12304250559284116,\n",
       " 'precisions_2': 0.07168342523516055,\n",
       " 'precisions_3': 0.04445176160684886}"
      ]
     },
     "execution_count": 6,
     "metadata": {},
     "output_type": "execute_result"
    }
   ],
   "source": [
    "# # import os\n",
    "# # from bleu import _bleu\n",
    "# import json\n",
    "# import os\n",
    "\n",
    "# def _preprocess_answers(s):\n",
    "#     s = s.replace('\\n', ' ')\n",
    "    \n",
    "#     while '  ' in s:\n",
    "#         s = s.replace('  ', ' ')\n",
    "        \n",
    "#     while s and s[-1]==' ':\n",
    "#         s = s[:-1]\n",
    "    \n",
    "#     return s\n",
    "\n",
    "# def calculate_metrics(fn_answers, fn_predictions, verbose = True):\n",
    "#     \"\"\"\n",
    "#         return bleu metrics and EM score\n",
    "#     \"\"\"\n",
    "#     res  = {}\n",
    "#     preds = open(fn_predictions, \"r\").readlines()\n",
    "#     gts   = open(fn_answers, \"r\").readlines()\n",
    "\n",
    "#     assert len(preds) == len(gts), f\"Samples of predictions and answers are not equal, {len(preds)}: {len(gts)}\"\n",
    "\n",
    "#     total = len(gts)\n",
    "#     EM = 0.0\n",
    "    \n",
    "#     translation_corpus = []\n",
    "#     reference_corpus = []\n",
    "\n",
    "#     #read the data in correct format\n",
    "#     for pred, gt in zip(preds, gts):\n",
    "#         pred = pred.strip()\n",
    "#         gt = json.loads(gt)[\"code\"]\n",
    "#         reference_corpus.append([gt.split(' ')])\n",
    "#         translation_corpus.append(_preprocess_answers(pred).split(' '))\n",
    "#         if pred.split() == gt.split():\n",
    "#             EM += 1\n",
    "    \n",
    "#     res['EM'] = EM\n",
    "\n",
    "#     # 3-Tuple with the BLEU score, n-gram precisions, geometric mean of n-gram\n",
    "#     #  precisions and brevity penalty.\n",
    "\n",
    "#     bleu_score, precisions, bp, ratio, translation_length, reference_length = compute_bleu(reference_corpus = reference_corpus, \n",
    "#                                                                                      translation_corpus= translation_corpus, \n",
    "#                                                                                      max_order = 4, \n",
    "#                                                                                      smooth = True\n",
    "#                                                                                     )\n",
    "#     res['BLEU'] = bleu_score\n",
    "#     res['brevity_penalty'] = bp\n",
    "#     res['ratio'] = ratio\n",
    "#     res['translation_length'] = translation_length\n",
    "#     res['reference_length'] = reference_length\n",
    "#     for i in range(len(precisions)):\n",
    "#         res[f'precisions_{i}'] = precisions[i]\n",
    "        \n",
    "#     if verbose:\n",
    "#         print(f\"INFO:__main__:BLEU: {round(100 * bleu_score,2)}, EM: {round(EM/total*100, 2)}\") \n",
    "    \n",
    "#     return res\n",
    "\n",
    "# calculate_metrics(fn_answers = fn_answers, \n",
    "#                   fn_predictions = fn_predictions\n",
    "#                  )"
   ]
  },
  {
   "cell_type": "code",
   "execution_count": 7,
   "id": "91940ac5",
   "metadata": {},
   "outputs": [],
   "source": [
    "# compute_bleu(reference_corpus = reference_corpus, \n",
    "#                                              translation_corpus= translation_corpus, \n",
    "#                                              max_order = 4, \n",
    "#                                              smooth = True\n",
    "#                                             )"
   ]
  },
  {
   "cell_type": "code",
   "execution_count": 9,
   "id": "76a582b3",
   "metadata": {},
   "outputs": [
    {
     "name": "stdout",
     "output_type": "stream",
     "text": [
      "/root/results/2023-04-30-21_01_11.txt\n",
      "INFO:__main__:BLEU: 9.56, EM: 0.0\n",
      "INFO:__main__:BLEU: 9.56, EM: 0.0\n",
      "{'EM': 0.0, 'BLEU': 0.09559306017454255, 'brevity_penalty': 0.6567345865799272, 'ratio': 0.703989703989704, 'translation_length': 2188, 'reference_length': 3108, 'precisions_0': 0.3074463225216994, 'precisions_1': 0.19435136428913355, 'precisions_2': 0.11389297987236131, 'precisions_3': 0.06596173212487412}\n",
      "/root/results/2023-05-01-22_30_58.txt\n",
      "INFO:__main__:BLEU: 6.82, EM: 0.0\n",
      "INFO:__main__:BLEU: 6.82, EM: 0.0\n",
      "{'EM': 0.0, 'BLEU': 0.06819640430415487, 'brevity_penalty': 0.7251124219221319, 'ratio': 0.7567567567567568, 'translation_length': 2352, 'reference_length': 3108, 'precisions_0': 0.1878453038674033, 'precisions_1': 0.12028406569019086, 'precisions_2': 0.07345651194231635, 'precisions_3': 0.0471395881006865}\n",
      "/root/results/2023-05-02-21_42_04.txt\n",
      "INFO:__main__:BLEU: 5.27, EM: 0.0\n",
      "INFO:__main__:BLEU: 5.27, EM: 0.0\n",
      "{'EM': 0.0, 'BLEU': 0.0527028556912851, 'brevity_penalty': 0.48166219569389485, 'ratio': 0.5778635778635779, 'translation_length': 1796, 'reference_length': 3108, 'precisions_0': 0.24318308291597107, 'precisions_1': 0.1390689451974072, 'precisions_2': 0.08048048048048048, 'precisions_3': 0.052663808940600125}\n",
      "/root/results/2023-05-01-06_42_40.txt\n",
      "INFO:__main__:BLEU: 11.22, EM: 0.0\n",
      "INFO:__main__:BLEU: 11.22, EM: 0.0\n",
      "{'EM': 0.0, 'BLEU': 0.11217978797619815, 'brevity_penalty': 1.0, 'ratio': 1.2567567567567568, 'translation_length': 3906, 'reference_length': 3108, 'precisions_0': 0.25262349628871256, 'precisions_1': 0.1486734961912267, 'precisions_2': 0.08453718566078117, 'precisions_3': 0.04987735077677841}\n",
      "/root/results/2023-05-01-23_20_30.txt\n",
      "INFO:__main__:BLEU: 6.13, EM: 0.0\n",
      "INFO:__main__:BLEU: 6.13, EM: 0.0\n",
      "{'EM': 0.0, 'BLEU': 0.06127141614621381, 'brevity_penalty': 0.6144170544052205, 'ratio': 0.6724581724581724, 'translation_length': 2090, 'reference_length': 3108, 'precisions_0': 0.23577235772357724, 'precisions_1': 0.12807634354595682, 'precisions_2': 0.0740929994890138, 'precisions_3': 0.044201768070722826}\n",
      "/root/results/2023-05-03-08_20_57.txt\n",
      "INFO:__main__:BLEU: 6.38, EM: 0.0\n",
      "INFO:__main__:BLEU: 6.38, EM: 0.0\n",
      "{'EM': 0.0, 'BLEU': 0.06375017875132673, 'brevity_penalty': 0.7509442674730463, 'ratio': 0.7773487773487774, 'translation_length': 2416, 'reference_length': 3108, 'precisions_0': 0.1824575920562681, 'precisions_1': 0.11307725507121277, 'precisions_2': 0.06301969365426696, 'precisions_3': 0.03994673768308921}\n",
      "/root/results/2023-05-01-22_13_30.txt\n",
      "INFO:__main__:BLEU: 11.13, EM: 0.0\n",
      "INFO:__main__:BLEU: 11.13, EM: 0.0\n",
      "{'EM': 0.0, 'BLEU': 0.1112505208065569, 'brevity_penalty': 0.9321626765398044, 'ratio': 0.9343629343629344, 'translation_length': 2904, 'reference_length': 3108, 'precisions_0': 0.22030981067125646, 'precisions_1': 0.1443850267379679, 'precisions_2': 0.0967391304347826, 'precisions_3': 0.06593001841620626}\n",
      "/root/results/2023-05-02-21_17_36.txt\n",
      "INFO:__main__:BLEU: 7.9, EM: 0.0\n",
      "INFO:__main__:BLEU: 7.9, EM: 0.0\n",
      "{'EM': 0.0, 'BLEU': 0.078962783032299, 'brevity_penalty': 0.6131050578560173, 'ratio': 0.6714929214929215, 'translation_length': 2087, 'reference_length': 3108, 'precisions_0': 0.25622605363984674, 'precisions_1': 0.15643863179074446, 'precisions_2': 0.10015329586101175, 'precisions_3': 0.06853582554517133}\n",
      "/root/results/2023-05-04-12_53_56.txt\n",
      "INFO:__main__:BLEU: 9.41, EM: 0.0\n",
      "INFO:__main__:BLEU: 9.41, EM: 0.0\n",
      "{'EM': 0.0, 'BLEU': 0.09414554673739628, 'brevity_penalty': 1.0, 'ratio': 1.0386100386100385, 'translation_length': 3228, 'reference_length': 3108, 'precisions_0': 0.2003716320842366, 'precisions_1': 0.12304250559284116, 'precisions_2': 0.07168342523516055, 'precisions_3': 0.04445176160684886}\n"
     ]
    }
   ],
   "source": [
    "for fn_predictions in fn_predictions_list:\n",
    "    print(fn_predictions)\n",
    "    !python /root/code/CodeXGLUE_t2c_evaluator/evaluator.py -a {fn_answers} -p {fn_predictions}\n",
    "    print(calculate_metrics(fn_answers = fn_answers, \n",
    "                  fn_predictions = fn_predictions\n",
    "                 )\n",
    "         )"
   ]
  },
  {
   "cell_type": "code",
   "execution_count": 155,
   "id": "cd30dada",
   "metadata": {},
   "outputs": [
    {
     "data": {
      "text/plain": [
       "'int function ( ) { _total = extractList ( ) . size ( ) ; return _total ; }'"
      ]
     },
     "execution_count": 155,
     "metadata": {},
     "output_type": "execute_result"
    }
   ],
   "source": [
    "gt_list[0]"
   ]
  },
  {
   "cell_type": "code",
   "execution_count": 158,
   "id": "0484b9de",
   "metadata": {},
   "outputs": [
    {
     "data": {
      "text/plain": [
       "'int function ( ) { _total = extractList ( ) . size ( ) ; return _total ; }\\n'"
      ]
     },
     "execution_count": 158,
     "metadata": {},
     "output_type": "execute_result"
    }
   ],
   "source": [
    "reference_text[0][0]"
   ]
  },
  {
   "cell_type": "code",
   "execution_count": 165,
   "id": "923b464f",
   "metadata": {},
   "outputs": [
    {
     "data": {
      "text/plain": [
       "['int',\n",
       " 'function',\n",
       " '(',\n",
       " ')',\n",
       " '{',\n",
       " '_total',\n",
       " '=',\n",
       " 'extractList',\n",
       " '(',\n",
       " ')',\n",
       " '.',\n",
       " 'size',\n",
       " '(',\n",
       " ')',\n",
       " ';',\n",
       " 'return',\n",
       " '_total',\n",
       " ';',\n",
       " '}']"
      ]
     },
     "execution_count": 165,
     "metadata": {},
     "output_type": "execute_result"
    }
   ],
   "source": []
  },
  {
   "cell_type": "code",
   "execution_count": 167,
   "id": "86a3fba5",
   "metadata": {},
   "outputs": [
    {
     "data": {
      "text/plain": [
       "[True,\n",
       " True,\n",
       " True,\n",
       " True,\n",
       " True,\n",
       " True,\n",
       " True,\n",
       " True,\n",
       " True,\n",
       " True,\n",
       " True,\n",
       " True,\n",
       " True,\n",
       " True,\n",
       " True,\n",
       " True,\n",
       " True,\n",
       " True,\n",
       " True,\n",
       " True,\n",
       " True,\n",
       " True,\n",
       " True,\n",
       " True,\n",
       " True,\n",
       " True,\n",
       " True,\n",
       " True,\n",
       " True,\n",
       " True,\n",
       " True,\n",
       " True,\n",
       " True,\n",
       " True,\n",
       " True,\n",
       " True,\n",
       " True,\n",
       " True,\n",
       " True,\n",
       " True,\n",
       " True,\n",
       " True,\n",
       " True,\n",
       " True,\n",
       " True,\n",
       " True,\n",
       " True,\n",
       " True,\n",
       " True,\n",
       " True,\n",
       " True,\n",
       " True,\n",
       " True,\n",
       " True,\n",
       " True,\n",
       " True,\n",
       " True,\n",
       " True,\n",
       " True,\n",
       " True,\n",
       " True,\n",
       " True,\n",
       " True,\n",
       " True,\n",
       " True,\n",
       " True,\n",
       " True,\n",
       " True,\n",
       " True,\n",
       " True,\n",
       " True,\n",
       " True,\n",
       " True,\n",
       " True,\n",
       " True,\n",
       " True,\n",
       " True,\n",
       " True,\n",
       " True,\n",
       " True,\n",
       " True,\n",
       " True,\n",
       " True,\n",
       " True,\n",
       " True,\n",
       " True,\n",
       " True,\n",
       " True,\n",
       " True,\n",
       " True,\n",
       " True,\n",
       " True,\n",
       " True,\n",
       " True,\n",
       " True,\n",
       " True,\n",
       " True,\n",
       " True,\n",
       " True,\n",
       " True]"
      ]
     },
     "execution_count": 167,
     "metadata": {},
     "output_type": "execute_result"
    }
   ],
   "source": [
    "# reference_text\n",
    "# gt_list\n",
    "# reference_text\n"
   ]
  },
  {
   "cell_type": "code",
   "execution_count": 121,
   "id": "c89aefa6",
   "metadata": {},
   "outputs": [
    {
     "data": {
      "text/plain": [
       "('void removeAll void removeAll void removeAll void removeAll void removeAll void removeAll void removeAll void removeAll void removeAll void removeAll void removeAll void removeAll void removeAll ',\n",
       " 'void removeAll void removeAll void removeAll void removeAll void removeAll void removeAll void removeAll void removeAll void removeAll void removeAll void removeAll void removeAll void removeAll')"
      ]
     },
     "execution_count": 121,
     "metadata": {},
     "output_type": "execute_result"
    }
   ],
   "source": [
    "preds[-14].replace('\\n', ''),' '.join(translations[-14])"
   ]
  },
  {
   "cell_type": "code",
   "execution_count": 128,
   "id": "6c2e4baa",
   "metadata": {},
   "outputs": [
    {
     "data": {
      "text/plain": [
       "(0.09414554673739628,\n",
       " [0.2003716320842366,\n",
       "  0.12304250559284116,\n",
       "  0.07168342523516055,\n",
       "  0.04445176160684886],\n",
       " 1.0,\n",
       " 1.0386100386100385,\n",
       " 3228,\n",
       " 3108)"
      ]
     },
     "execution_count": 128,
     "metadata": {},
     "output_type": "execute_result"
    }
   ],
   "source": [
    "per_segment_references = []\n",
    "for references in zip(*reference_text):\n",
    "    reference_list = []\n",
    "    for reference in references:\n",
    "        reference_list.append(reference.strip().split())\n",
    "    per_segment_references.append(reference_list)\n",
    "\n",
    "def simple_preprocess(s):\n",
    "    s = s.replace('\\n', ' ')\n",
    "    \n",
    "    while '  ' in s:\n",
    "        s = s.replace('  ', ' ')\n",
    "        \n",
    "    while s and s[-1]==' ':\n",
    "        s = s[:-1]\n",
    "    \n",
    "    return s\n",
    "\n",
    "compute_bleu(reference_corpus = per_segment_references, \n",
    "             translation_corpus = translations,\n",
    "             max_order = 4, \n",
    "             smooth = True)"
   ]
  },
  {
   "cell_type": "code",
   "execution_count": 122,
   "id": "f4f3b57c",
   "metadata": {},
   "outputs": [],
   "source": [
    "# [p.replace('\\n', '').split(' ')==y for p, y in zip(preds, translations)][:-13]"
   ]
  },
  {
   "cell_type": "code",
   "execution_count": 129,
   "id": "5c179d5f",
   "metadata": {},
   "outputs": [
    {
     "data": {
      "text/plain": [
       "['int function ( ) { _total = extractList ( ) . size ( ) ; return _total ; }\\n',\n",
       " 'void function ( boolean arg0 ) { fStatementsRecovery = arg0 ; }\\n',\n",
       " 'boolean function ( ) { return false ; }\\n',\n",
       " 'String function ( String arg0 ) { return ZKUtil . joinZNode ( getIdentitiesZNode ( ) , arg0 ) ; }\\n',\n",
       " 'int function ( GenVector < C > arg0 ) { if ( ! modul . equals ( arg0 . modul ) ) { return - 1 ; } List < C > loc0 = arg0 . val ; int loc1 = 0 ; for ( C loc2 : val ) { int loc3 = loc2 . compareTo ( loc0 . get ( loc1 ++ ) ) ; if ( loc3 != 0 ) { return loc3 ; } } return 0 ; }\\n',\n",
       " 'void function ( int arg0 , int arg1 ) { fTagPosition = new Region ( arg0 , arg1 ) ; }\\n',\n",
       " 'double function ( UnivariateRealFunction arg0 , double arg1 , double arg2 ) { setup ( arg0 ) ; return factory . newDefaultSolver ( arg0 ) . solve ( arg1 , arg2 ) ; }\\n',\n",
       " 'boolean function ( ) { return Platform . isWindows ( ) || Platform . isOSX ( ) || Platform . JAVA_VERSION < Platform . JAVA_1_3 ; }\\n',\n",
       " 'Integer function ( ) { return null == intervalQualifier ? null : intervalQualifier . getFractionalSecondPrecisionPreservingDefault ( ) ; }\\n',\n",
       " 'byte [ ] function ( Drawable arg0 ) { return bitmapToByte ( drawableToBitmap ( arg0 ) ) ; }\\n',\n",
       " 'void function ( ) { migrationDone = false ; }\\n',\n",
       " 'void function ( ) { }\\n',\n",
       " 'Dialog function ( RefactoringStatus arg0 , Shell arg1 , String arg2 , boolean arg3 ) { return new RefactoringStatusDialog ( arg0 , arg1 , arg2 , arg3 ) ; }\\n',\n",
       " 'BaseColor function ( ) { return strokeColor ; }\\n',\n",
       " 'void function ( ) { SecurityConfiguration . getApplicationPolicy ( \"srini_string\" ) ; }\\n',\n",
       " 'Transformer [ ] function ( Transformer [ ] arg0 ) { if ( arg0 == null ) { return null ; } return ( Transformer [ ] ) arg0 . clone ( ) ; }\\n',\n",
       " 'int function ( ) { return this . getMarcador ( ) ; }\\n',\n",
       " 'IJavaElement function ( JavaEditor arg0 , boolean arg1 ) { ITypeRoot loc0 = getInput ( arg0 , arg1 ) ; if ( loc0 != null ) return getElementAtOffset ( loc0 , ( ITextSelection ) arg0 . getSelectionProvider ( ) . getSelection ( ) ) ; return null ; }\\n',\n",
       " 'LoadPlan function ( LoadPlanBuildingAssociationVisitationStrategy arg0 , EntityPersister arg1 ) { MetamodelGraphWalker . visitEntity ( arg0 , arg1 ) ; return arg0 . buildLoadPlan ( ) ; }\\n',\n",
       " 'HG function ( HG arg0 ) { MathVector loc0 = new MathVector ( ) ; loc0 . subtraction ( pos , arg0 . pos0 ) ; double loc1 = loc0 . dotProduct ( ) + ( EPS * EPS ) ; double loc2 = Math . sqrt ( loc1 ) ; double loc3 = mass / loc2 ; arg0 . phi0 -= loc3 ; double loc4 = loc3 / loc1 ; loc0 . multScalar ( loc4 ) ; arg0 . acc0 . addition ( loc0 ) ; return arg0 ; }\\n',\n",
       " 'void function ( String arg0 ) { this . catalogName = arg0 ; }\\n',\n",
       " 'ColumnValues < T > function ( int arg0 ) { return new ColumnValues < T > ( columns [ arg0 ] ) ; }\\n',\n",
       " 'void function ( State arg0 ) { setSyncResultSoftError ( ) ; latch . offer ( Result . Error ) ; }\\n',\n",
       " 'IMember function ( IMember arg0 ) { final LinkedList < IMember > loc0 = new LinkedList < > ( ) ; addElements ( arg0 , loc0 ) ; final IMember [ ] loc1 = convertElements ( loc0 . toArray ( new IMember [ 0 ] ) ) ; return loc1 [ loc1 . length - 1 ] ; }\\n',\n",
       " 'Rational function ( int arg0 ) { VideoTrack loc0 = tracks . get ( arg0 ) ; return new Rational ( loc0 . count , 30 ) ; }\\n',\n",
       " 'void function ( ) { int loc0 = rand . nextInt ( size ) ; int loc1 = rand . nextInt ( size ) ; log . debug ( \"srini_string\" + Simulator . getCurrentTime ( ) + \"srini_string\" + loc0 + \"srini_string\" + loc1 ) ; keyPopularity . add ( loc1 , keyPopularity . remove ( loc0 ) ) ; getKeyForLookup ( ) ; }\\n',\n",
       " 'List function ( ) { return list ; }\\n',\n",
       " 'boolean function ( @ NotNull ResourceEntity arg0 , @ NotNull ReleaseEntity arg1 ) { return arg0 . equals ( getResourceEntityForRelease ( arg0 . getResourceGroup ( ) , arg1 ) ) ; }\\n',\n",
       " 'URI function ( ) { return uri ; }\\n',\n",
       " 'Getcontentlanguage function ( ) { return getcontentlanguage ; }\\n',\n",
       " 'boolean function ( ) { return coalescing ; }\\n',\n",
       " 'int function ( ) { return this . leased ; }\\n',\n",
       " 'void function ( Object arg0 , Throwable arg1 ) { if ( is12 ) { getLogger ( ) . log ( FQCN , ( Priority ) Level . ERROR , arg0 , arg1 ) ; } else { getLogger ( ) . log ( FQCN , Level . ERROR , arg0 , arg1 ) ; } }\\n',\n",
       " 'Element function ( Node arg0 , String arg1 ) { NodeList loc0 = arg0 . getChildNodes ( ) ; for ( int loc1 = 0 ; loc1 < loc0 . getLength ( ) ; loc1 ++ ) { Node loc2 = loc0 . item ( loc1 ) ; if ( loc2 . getNodeType ( ) == Node . ELEMENT_NODE && arg1 . equals ( loc2 . getNodeName ( ) ) ) return ( Element ) loc2 ; } return null ; }\\n',\n",
       " 'String function ( ) { return fcLink ; }\\n',\n",
       " 'boolean function ( ) { return ( type == DICTIONARY ) ; }\\n',\n",
       " 'void function ( int arg0 ) { this . n = arg0 ; }\\n',\n",
       " 'List < GenSolvablePolynomial < C >> function ( int arg0 , List < GenSolvablePolynomial < C >> arg1 ) { return sbb . twosidedGB ( arg0 , arg1 ) ; }\\n',\n",
       " 'void function ( boolean arg0 ) { fResolveBindings = arg0 ; }\\n',\n",
       " 'void function ( int arg0 ) { int [ ] loc0 = extractKeys ( arg0 ) ; for ( int loc1 = loc0 . length - 1 ; loc1 >= 0 ; -- loc1 ) doKeyUp ( loc0 [ loc1 ] ) ; }\\n',\n",
       " 'Local < C > function ( ) { return new Local < C > ( ring , num . abs ( ) , den , true ) ; }\\n',\n",
       " 'boolean function ( Object arg0 , Object arg1 ) { return arg0 == arg1 || ( arg0 == null ? arg1 == null : arg0 . equals ( arg1 ) ) ; }\\n',\n",
       " 'void function ( ) { Arrays . fill ( probes , false ) ; }\\n',\n",
       " 'ProvidedPortID function ( ) { return new ProvidedPortID ( ) ; }\\n',\n",
       " 'void function ( final ISourceFileLocator arg0 ) { delegates . add ( arg0 ) ; }\\n',\n",
       " 'UnivPowerSeries < C > function ( java . math . BigInteger arg0 ) { return ONE . multiply ( coFac . fromInteger ( arg0 ) ) ; }\\n',\n",
       " 'void function ( final Shell arg0 ) { Robot . syncExec ( arg0 . getDisplay ( ) , null , new Runnable ( ) { public void run ( ) { arg0 . forceActive ( ) ; arg0 . setFocus ( ) ; } } ) ; Robot . waitForIdle ( arg0 . getDisplay ( ) ) ; }\\n',\n",
       " 'Limit function ( ) { final Limit loc0 = new Limit ( ) ; this . limits . add ( loc0 ) ; return loc0 ; }\\n',\n",
       " 'void function ( ) { pos ++ ; }\\n',\n",
       " 'void function ( String [ ] arg0 ) { JAXBContext loc0 = JAXBContext . newInstance ( Session . class ) ; writeSession ( readSession ( new File ( \"srini_string\" ) , loc0 ) , new File ( \"srini_string\" ) , loc0 ) ; }\\n',\n",
       " 'String function ( ) { return name ; }\\n',\n",
       " 'void function ( boolean arg0 ) { this . useCriterion4 = arg0 ; }\\n',\n",
       " 'Vector < FieldDoc > function ( ClassDoc arg0 , String arg1 ) { Vector < FieldDoc > loc0 = new Vector < FieldDoc > ( ) ; for ( FieldDoc loc1 : arg0 . fields ( ) ) { if ( loc1 . name ( ) . startsWith ( arg1 ) ) loc0 . add ( loc1 ) ; } return ( loc0 ) ; }\\n',\n",
       " 'Property function ( ) { return property ; }\\n',\n",
       " 'void function ( KademliaOverlayKey arg0 , OperationCallback < DHTObject > arg1 ) { KademliaOperation < DHTObject > loc0 = myNode . getOperationFactory ( ) . getDataLookupOperation ( arg0 , arg1 ) ; loc0 . scheduleImmediately ( ) ; }\\n',\n",
       " 'void function ( NetMessage arg0 , NetID arg1 ) { addReceivedMsg ( arg0 ) ; receivedMsg ++ ; }\\n',\n",
       " 'void function ( Throwable arg0 ) { if ( Platform . isRunning ( ) ) Logger . log ( arg0 ) ; else { if ( sendToConsole ) arg0 . printStackTrace ( ) ; } }\\n',\n",
       " 'Item [ ] function ( ) { synchronized ( items ) { Item loc0 [ ] = new Item [ this . items . size ( ) ] ; return ( ( Item [ ] ) this . items . toArray ( loc0 ) ) ; } }\\n',\n",
       " 'String function ( ) { return name ; }\\n',\n",
       " 'StackKeeper function ( ) { try { return this . queue . removeFirst ( ) ; } catch ( NoSuchElementException loc0 ) { throw new NoStackException ( ) ; } }\\n',\n",
       " 'GenVector < C > function ( ) { return ZERO ; }\\n',\n",
       " 'void function ( int arg0 ) { this . level = arg0 ; }\\n',\n",
       " 'void function ( RPCContext arg0 ) { }\\n',\n",
       " 'void function ( String arg0 , Object arg1 ) { mParameters . put ( arg0 , arg1 ) ; }\\n',\n",
       " 'Set < String > function ( InputSource arg0 ) { XmlNamespaceFinder loc0 = createNamespaceFinder ( ) ; Set < String > loc1 = loc0 . parseContents ( arg0 ) ; if ( factory == null ) { factory = loc0 . getFactory ( ) ; } return loc1 ; }\\n',\n",
       " 'void function ( List < Integer > arg0 ) { takeLock . lock ( ) ; try { taskIdsQueue . add ( arg0 ) ; notEmpty . signal ( ) ; } finally { takeLock . unlock ( ) ; } }\\n',\n",
       " 'void function ( boolean arg0 ) { debug = arg0 ; }\\n',\n",
       " 'String function ( IPath arg0 , boolean arg1 ) { String loc0 ; if ( arg1 ) { loc0 = arg0 . toOSString ( ) ; } else { loc0 = arg0 . makeRelative ( ) . toString ( ) ; } return Strings . markLTR ( loc0 ) ; }\\n',\n",
       " 'ConditionMonitor function ( ) { return INSTANCE ; }\\n',\n",
       " 'long function ( ) { return this . ours ; }\\n',\n",
       " 'java . math . BigInteger function ( ) { return coFac . characteristic ( ) ; }\\n',\n",
       " 'void function ( @ ArquillianResource URL arg0 ) { final String loc0 = \"srini_string\" + arg0 . getHost ( ) + \"srini_string\" + arg0 . getPort ( ) + \"srini_string\" + JarClass . class . getName ( ) ; final String loc1 = HttpRequest . get ( loc0 , 2 , TimeUnit . SECONDS ) ; Assert . assertEquals ( Servlet . SUCCESS , loc1 ) ; }\\n',\n",
       " 'int function ( String arg0 ) { File loc0 = new File ( arg0 ) ; if ( ! loc0 . exists ( ) || ! loc0 . isDirectory ( ) ) return 0 ; File loc1 [ ] = loc0 . listFiles ( ) ; if ( loc1 == null ) return 0 ; int loc2 = 0 ; for ( int loc3 = 0 ; loc3 < loc1 . length ; ++ loc3 ) { loc2 += insertFile ( loc1 [ loc3 ] ) ; } return loc2 ; }\\n',\n",
       " 'void function ( String arg0 , Object arg1 ) { if ( Tracer . isDebugging ( ) ) printLog ( sysOut , arg0 , arg1 ) ; IStatus loc0 = createLogStatus ( arg0 , arg1 , \"srini_string\" ) ; try { log . log ( loc0 ) ; } catch ( Throwable loc1 ) { } }\\n',\n",
       " 'void function ( BigInteger arg0 ) { this . nresults = arg0 ; }\\n',\n",
       " 'void function ( String arg0 ) { String loc0 = getUsage ( ) ; if ( arg0 != null ) { MessageFormat loc1 = new MessageFormat ( Strings . get ( \"srini_string\" ) ) ; loc0 = loc1 . format ( new Object [ ] { loc0 , arg0 } ) ; } setScriptError ( new InvalidScriptException ( loc0 ) ) ; }\\n',\n",
       " 'boolean function ( ) { return ui . findAll ( locator ) . length == 1 ; }\\n',\n",
       " 'VectorXZ function ( double arg0 ) { return new VectorXZ ( sin ( arg0 ) , cos ( arg0 ) ) ; }\\n',\n",
       " 'int function ( ImageInputStream arg0 ) { int loc0 = arg0 . readUnsignedShort ( ) ; return ( ( loc0 & 0xf800 ) << 8 ) | ( ( loc0 & 0x3800 ) << 5 ) | ( ( loc0 & 0x07e0 ) << 5 ) | ( ( loc0 & 0x0060 ) << 3 ) | ( ( loc0 & 0x001f ) << 3 ) | ( ( loc0 & 0x0007 ) ) ; }\\n',\n",
       " 'void function ( Object arg0 ) { for ( int loc0 = 0 ; loc0 < iPredicates . length ; loc0 ++ ) { if ( iPredicates [ loc0 ] . evaluate ( arg0 ) == true ) { iClosures [ loc0 ] . execute ( arg0 ) ; return ; } } iDefault . execute ( arg0 ) ; }\\n',\n",
       " 'boolean function ( ArrayList < Byte > arg0 ) { try { FileInputStream loc0 = new FileInputStream ( inputFile ) ; byte [ ] loc1 = new byte [ 1 ] ; while ( loc0 . read ( loc1 ) != - 1 ) { arg0 . add ( new Byte ( loc1 [ 0 ] ) ) ; } loc0 . close ( ) ; return true ; } catch ( Exception loc3 ) { loc3 . printStackTrace ( ) ; } return false ; }\\n',\n",
       " 'UnivariateRealFunction function ( ) { return polynomialSplineDerivative ( ) ; }\\n',\n",
       " 'void function ( Object arg0 ) { throw new FunctorException ( \"srini_string\" ) ; }\\n',\n",
       " 'int function ( ) { return type ; }\\n',\n",
       " 'double function ( ) { return mu ; }\\n',\n",
       " 'DoubleListIterator function ( ListIterator arg0 ) { return null == arg0 ? null : new ListIteratorDoubleListIterator ( arg0 ) ; }\\n',\n",
       " 'void function ( Set < String > arg0 ) { countryLookup . keySet ( ) . retainAll ( arg0 ) ; }\\n',\n",
       " 'Parser function ( Class arg0 , Parser arg1 ) { Parser loc0 = ( Parser ) parsers . get ( arg0 ) ; parsers . put ( arg0 , arg1 ) ; return loc0 ; }\\n',\n",
       " 'List < T > function ( Collection < T > arg0 ) { return Collections . unmodifiableList ( new ArrayList < T > ( arg0 ) ) ; }\\n',\n",
       " 'int function ( ) { int loc0 = startupOptions . getIntegerOption ( KdcServerOption . KDC_TCP_PORT ) ; if ( loc0 < 1 ) { loc0 = kdcConfig . getKdcTcpPort ( ) ; } if ( loc0 < 1 ) { loc0 = getKdcPort ( ) ; } return loc0 ; }\\n',\n",
       " 'Map function ( ) { loadMaps ( ) ; return characterMap ; }\\n',\n",
       " \"String function ( String arg0 ) { char [ ] loc0 = arg0 . toCharArray ( ) ; for ( int loc1 = 0 ; loc1 < loc0 . length ; loc1 ++ ) { char loc2 = loc0 [ loc1 ] ; if ( ! Character . isJavaIdentifierPart ( loc2 ) ) { loc0 [ loc1 ] = '_' ; } } return new String ( loc0 ) ; }\\n\",\n",
       " 'int function ( ModInteger arg0 ) { java . math . BigInteger loc0 = arg0 . val ; if ( ring != arg0 . ring ) { loc0 = loc0 . mod ( ring . modul ) ; } return val . compareTo ( loc0 ) ; }\\n',\n",
       " 'CashAccount16 function ( String arg0 ) { CashAccount16 loc0 = new CashAccount16 ( ) ; AccountIdentification4Choice loc1 = new AccountIdentification4Choice ( ) ; loc1 . setIBAN ( arg0 ) ; loc0 . setId ( loc1 ) ; return loc0 ; }\\n',\n",
       " 'Unmarshaller function ( ) { try { return JAXB_CONTEXT . createUnmarshaller ( ) ; } catch ( JAXBException loc0 ) { throw new RuntimeException ( loc0 . getMessage ( ) , loc0 ) ; } }\\n',\n",
       " 'byte [ ] function ( byte [ ] arg0 ) { byte loc0 [ ] = new byte [ arg0 . length ] ; int loc1 = 0 ; for ( int loc2 = 0 ; loc2 < arg0 . length ; loc2 ++ ) { if ( isValidBase64Byte ( arg0 [ loc2 ] ) ) { loc0 [ loc1 ++ ] = arg0 [ loc2 ] ; } } byte loc3 [ ] = new byte [ loc1 ] ; System . arraycopy ( loc0 , 0 , loc3 , 0 , loc1 ) ; return loc3 ; }\\n',\n",
       " 'String function ( String arg0 , int arg1 ) { return getComposedMessage ( arg0 , String . valueOf ( arg1 ) , null , null , null ) ; }\\n',\n",
       " 'void function ( PropertyChangeListener arg0 ) { if ( arg0 == null ) { throw new IllegalArgumentException ( ) ; } pcsDelegate . addPropertyChangeListener ( arg0 ) ; }\\n',\n",
       " 'Object function ( ) { if ( _constructor == null ) { return null ; } return _constructor . newInstance ( _args ) ; }\\n',\n",
       " 'byte [ ] function ( int arg0 ) { byte [ ] loc0 = new byte [ 2 ] ; loc0 [ 0 ] = ( byte ) ( arg0 >> 8 ) ; loc0 [ 1 ] = ( byte ) ( ( arg0 << 8 ) >> 8 ) ; return loc0 ; }\\n']"
      ]
     },
     "execution_count": 129,
     "metadata": {},
     "output_type": "execute_result"
    }
   ],
   "source": [
    "reference_text[0]"
   ]
  },
  {
   "cell_type": "code",
   "execution_count": null,
   "id": "776a3db9",
   "metadata": {},
   "outputs": [],
   "source": [
    "any"
   ]
  },
  {
   "cell_type": "code",
   "execution_count": 127,
   "id": "ff46398b",
   "metadata": {},
   "outputs": [
    {
     "data": {
      "text/plain": [
       "(0.09414554673739628,\n",
       " [0.2003716320842366,\n",
       "  0.12304250559284116,\n",
       "  0.07168342523516055,\n",
       "  0.04445176160684886],\n",
       " 1.0,\n",
       " 1.0386100386100385,\n",
       " 3228,\n",
       " 3108)"
      ]
     },
     "execution_count": 127,
     "metadata": {},
     "output_type": "execute_result"
    }
   ],
   "source": [
    "per_segment_references = []\n",
    "for references in zip(*reference_text):\n",
    "    reference_list = []\n",
    "    for reference in references:\n",
    "        reference_list.append(reference.strip().split())\n",
    "    per_segment_references.append(reference_list)\n",
    "\n",
    "def simple_preprocess(s):\n",
    "    s = s.replace('\\n', ' ')\n",
    "    \n",
    "    while '  ' in s:\n",
    "        s = s.replace('  ', ' ')\n",
    "        \n",
    "    while s and s[-1]==' ':\n",
    "        s = s[:-1]\n",
    "    \n",
    "    return s\n",
    "\n",
    "compute_bleu(reference_corpus = per_segment_references, \n",
    "             translation_corpus = [simple_preprocess(p).split(' ') for p in preds], \n",
    "             max_order = 4, \n",
    "             smooth = True)"
   ]
  },
  {
   "cell_type": "code",
   "execution_count": 80,
   "id": "261e6397",
   "metadata": {},
   "outputs": [
    {
     "data": {
      "text/plain": [
       "('if ( fStatementsRecovery ) { fRewrite = fRewrite . getRewrite ( ) ; fImportRewrite = fImportRewrite . getRewrite ( ) ; fImportRemover = fImportRemover . getRewrite ( ) ; fResolveBindings = fResolveBindings . getRewrite ( ) ; } } return fStatementsRecovery ; } return false ; } } return fRewrite . getRewrite ( ) . getStatementsRecovery ( ) ; } } return false ; } } return fRewrite . getRewrite ( ) . getStatements\\n',\n",
       " '{\"code\": \"void function ( boolean arg0 ) { fStatementsRecovery = arg0 ; }\", \"nl\": \"controls whether the compiler should perform statements recovery . to be effective , this method must be called before any of #getroot , #getastrewrite , #getimportremover . this method has no effect if the target object has been created with #compilationunitrewrite icompilationunit , compilationunit . defaults to true do perform statements recovery . concode_field_sep ImportRewrite fImportRewrite concode_elem_sep ImportRemover fImportRemover concode_elem_sep WorkingCopyOwner fOwner concode_elem_sep ASTRewrite fRewrite concode_elem_sep boolean fStatementsRecovery concode_elem_sep List<TextEditGroup> fTextEditGroups concode_elem_sep ICompilationUnit fCu concode_elem_sep IDocument fRememberContent concode_elem_sep CompilationUnit fRoot concode_elem_sep boolean fResolveBindings concode_elem_sep boolean fBindingsRecovery concode_field_sep void clearASTRewrite concode_elem_sep ASTRewrite getASTRewrite concode_elem_sep void rememberContent concode_elem_sep AST getAST concode_elem_sep void setBindingRecovery concode_elem_sep ImportRemover getImportRemover concode_elem_sep CompilationUnitChange createChange concode_elem_sep org.eclipse.jdt.internal.corext.refactoring.changes.CompilationUnitChange createChange concode_elem_sep CompilationUnitChange createChange concode_elem_sep CompilationUnitChange createChange concode_elem_sep void clearASTAndImportRewrites concode_elem_sep CompilationUnitChange attachChange concode_elem_sep CategorizedTextEditGroup createCategorizedGroupDescription concode_elem_sep TextEditGroup createGroupDescription concode_elem_sep void setResolveBindings concode_elem_sep ImportRewrite getImportRewrite concode_elem_sep ICompilationUnit getCu concode_elem_sep void clearImportRewrites concode_elem_sep void clearGroupDescriptionEdits concode_elem_sep CompilationUnit getRoot concode_elem_sep boolean isEmptyEdit\"}\\n')"
      ]
     },
     "execution_count": 80,
     "metadata": {},
     "output_type": "execute_result"
    }
   ],
   "source": [
    "# preds[1], gts[1]"
   ]
  },
  {
   "cell_type": "code",
   "execution_count": 67,
   "id": "8c24efac",
   "metadata": {},
   "outputs": [
    {
     "data": {
      "text/plain": [
       "'int function ( ) { _total = extractList ( ) . size ( ) ; return _total ; }'"
      ]
     },
     "execution_count": 67,
     "metadata": {},
     "output_type": "execute_result"
    }
   ],
   "source": [
    "json.loads(gts[0])[\"code\"]"
   ]
  },
  {
   "cell_type": "code",
   "execution_count": 69,
   "id": "099f735c",
   "metadata": {},
   "outputs": [
    {
     "data": {
      "text/plain": [
       "['int function ( ) { _total = extractList ( ) . size ( ) ; return _total ; }',\n",
       " 'void function ( boolean arg0 ) { fStatementsRecovery = arg0 ; }',\n",
       " 'boolean function ( ) { return false ; }',\n",
       " 'String function ( String arg0 ) { return ZKUtil . joinZNode ( getIdentitiesZNode ( ) , arg0 ) ; }',\n",
       " 'int function ( GenVector < C > arg0 ) { if ( ! modul . equals ( arg0 . modul ) ) { return - 1 ; } List < C > loc0 = arg0 . val ; int loc1 = 0 ; for ( C loc2 : val ) { int loc3 = loc2 . compareTo ( loc0 . get ( loc1 ++ ) ) ; if ( loc3 != 0 ) { return loc3 ; } } return 0 ; }',\n",
       " 'void function ( int arg0 , int arg1 ) { fTagPosition = new Region ( arg0 , arg1 ) ; }',\n",
       " 'double function ( UnivariateRealFunction arg0 , double arg1 , double arg2 ) { setup ( arg0 ) ; return factory . newDefaultSolver ( arg0 ) . solve ( arg1 , arg2 ) ; }',\n",
       " 'boolean function ( ) { return Platform . isWindows ( ) || Platform . isOSX ( ) || Platform . JAVA_VERSION < Platform . JAVA_1_3 ; }',\n",
       " 'Integer function ( ) { return null == intervalQualifier ? null : intervalQualifier . getFractionalSecondPrecisionPreservingDefault ( ) ; }',\n",
       " 'byte [ ] function ( Drawable arg0 ) { return bitmapToByte ( drawableToBitmap ( arg0 ) ) ; }',\n",
       " 'void function ( ) { migrationDone = false ; }',\n",
       " 'void function ( ) { }',\n",
       " 'Dialog function ( RefactoringStatus arg0 , Shell arg1 , String arg2 , boolean arg3 ) { return new RefactoringStatusDialog ( arg0 , arg1 , arg2 , arg3 ) ; }',\n",
       " 'BaseColor function ( ) { return strokeColor ; }',\n",
       " 'void function ( ) { SecurityConfiguration . getApplicationPolicy ( \"srini_string\" ) ; }',\n",
       " 'Transformer [ ] function ( Transformer [ ] arg0 ) { if ( arg0 == null ) { return null ; } return ( Transformer [ ] ) arg0 . clone ( ) ; }',\n",
       " 'int function ( ) { return this . getMarcador ( ) ; }',\n",
       " 'IJavaElement function ( JavaEditor arg0 , boolean arg1 ) { ITypeRoot loc0 = getInput ( arg0 , arg1 ) ; if ( loc0 != null ) return getElementAtOffset ( loc0 , ( ITextSelection ) arg0 . getSelectionProvider ( ) . getSelection ( ) ) ; return null ; }',\n",
       " 'LoadPlan function ( LoadPlanBuildingAssociationVisitationStrategy arg0 , EntityPersister arg1 ) { MetamodelGraphWalker . visitEntity ( arg0 , arg1 ) ; return arg0 . buildLoadPlan ( ) ; }',\n",
       " 'HG function ( HG arg0 ) { MathVector loc0 = new MathVector ( ) ; loc0 . subtraction ( pos , arg0 . pos0 ) ; double loc1 = loc0 . dotProduct ( ) + ( EPS * EPS ) ; double loc2 = Math . sqrt ( loc1 ) ; double loc3 = mass / loc2 ; arg0 . phi0 -= loc3 ; double loc4 = loc3 / loc1 ; loc0 . multScalar ( loc4 ) ; arg0 . acc0 . addition ( loc0 ) ; return arg0 ; }',\n",
       " 'void function ( String arg0 ) { this . catalogName = arg0 ; }',\n",
       " 'ColumnValues < T > function ( int arg0 ) { return new ColumnValues < T > ( columns [ arg0 ] ) ; }',\n",
       " 'void function ( State arg0 ) { setSyncResultSoftError ( ) ; latch . offer ( Result . Error ) ; }',\n",
       " 'IMember function ( IMember arg0 ) { final LinkedList < IMember > loc0 = new LinkedList < > ( ) ; addElements ( arg0 , loc0 ) ; final IMember [ ] loc1 = convertElements ( loc0 . toArray ( new IMember [ 0 ] ) ) ; return loc1 [ loc1 . length - 1 ] ; }',\n",
       " 'Rational function ( int arg0 ) { VideoTrack loc0 = tracks . get ( arg0 ) ; return new Rational ( loc0 . count , 30 ) ; }',\n",
       " 'void function ( ) { int loc0 = rand . nextInt ( size ) ; int loc1 = rand . nextInt ( size ) ; log . debug ( \"srini_string\" + Simulator . getCurrentTime ( ) + \"srini_string\" + loc0 + \"srini_string\" + loc1 ) ; keyPopularity . add ( loc1 , keyPopularity . remove ( loc0 ) ) ; getKeyForLookup ( ) ; }',\n",
       " 'List function ( ) { return list ; }',\n",
       " 'boolean function ( @ NotNull ResourceEntity arg0 , @ NotNull ReleaseEntity arg1 ) { return arg0 . equals ( getResourceEntityForRelease ( arg0 . getResourceGroup ( ) , arg1 ) ) ; }',\n",
       " 'URI function ( ) { return uri ; }',\n",
       " 'Getcontentlanguage function ( ) { return getcontentlanguage ; }',\n",
       " 'boolean function ( ) { return coalescing ; }',\n",
       " 'int function ( ) { return this . leased ; }',\n",
       " 'void function ( Object arg0 , Throwable arg1 ) { if ( is12 ) { getLogger ( ) . log ( FQCN , ( Priority ) Level . ERROR , arg0 , arg1 ) ; } else { getLogger ( ) . log ( FQCN , Level . ERROR , arg0 , arg1 ) ; } }',\n",
       " 'Element function ( Node arg0 , String arg1 ) { NodeList loc0 = arg0 . getChildNodes ( ) ; for ( int loc1 = 0 ; loc1 < loc0 . getLength ( ) ; loc1 ++ ) { Node loc2 = loc0 . item ( loc1 ) ; if ( loc2 . getNodeType ( ) == Node . ELEMENT_NODE && arg1 . equals ( loc2 . getNodeName ( ) ) ) return ( Element ) loc2 ; } return null ; }',\n",
       " 'String function ( ) { return fcLink ; }',\n",
       " 'boolean function ( ) { return ( type == DICTIONARY ) ; }',\n",
       " 'void function ( int arg0 ) { this . n = arg0 ; }',\n",
       " 'List < GenSolvablePolynomial < C >> function ( int arg0 , List < GenSolvablePolynomial < C >> arg1 ) { return sbb . twosidedGB ( arg0 , arg1 ) ; }',\n",
       " 'void function ( boolean arg0 ) { fResolveBindings = arg0 ; }',\n",
       " 'void function ( int arg0 ) { int [ ] loc0 = extractKeys ( arg0 ) ; for ( int loc1 = loc0 . length - 1 ; loc1 >= 0 ; -- loc1 ) doKeyUp ( loc0 [ loc1 ] ) ; }',\n",
       " 'Local < C > function ( ) { return new Local < C > ( ring , num . abs ( ) , den , true ) ; }',\n",
       " 'boolean function ( Object arg0 , Object arg1 ) { return arg0 == arg1 || ( arg0 == null ? arg1 == null : arg0 . equals ( arg1 ) ) ; }',\n",
       " 'void function ( ) { Arrays . fill ( probes , false ) ; }',\n",
       " 'ProvidedPortID function ( ) { return new ProvidedPortID ( ) ; }',\n",
       " 'void function ( final ISourceFileLocator arg0 ) { delegates . add ( arg0 ) ; }',\n",
       " 'UnivPowerSeries < C > function ( java . math . BigInteger arg0 ) { return ONE . multiply ( coFac . fromInteger ( arg0 ) ) ; }',\n",
       " 'void function ( final Shell arg0 ) { Robot . syncExec ( arg0 . getDisplay ( ) , null , new Runnable ( ) { public void run ( ) { arg0 . forceActive ( ) ; arg0 . setFocus ( ) ; } } ) ; Robot . waitForIdle ( arg0 . getDisplay ( ) ) ; }',\n",
       " 'Limit function ( ) { final Limit loc0 = new Limit ( ) ; this . limits . add ( loc0 ) ; return loc0 ; }',\n",
       " 'void function ( ) { pos ++ ; }',\n",
       " 'void function ( String [ ] arg0 ) { JAXBContext loc0 = JAXBContext . newInstance ( Session . class ) ; writeSession ( readSession ( new File ( \"srini_string\" ) , loc0 ) , new File ( \"srini_string\" ) , loc0 ) ; }',\n",
       " 'String function ( ) { return name ; }',\n",
       " 'void function ( boolean arg0 ) { this . useCriterion4 = arg0 ; }',\n",
       " 'Vector < FieldDoc > function ( ClassDoc arg0 , String arg1 ) { Vector < FieldDoc > loc0 = new Vector < FieldDoc > ( ) ; for ( FieldDoc loc1 : arg0 . fields ( ) ) { if ( loc1 . name ( ) . startsWith ( arg1 ) ) loc0 . add ( loc1 ) ; } return ( loc0 ) ; }',\n",
       " 'Property function ( ) { return property ; }',\n",
       " 'void function ( KademliaOverlayKey arg0 , OperationCallback < DHTObject > arg1 ) { KademliaOperation < DHTObject > loc0 = myNode . getOperationFactory ( ) . getDataLookupOperation ( arg0 , arg1 ) ; loc0 . scheduleImmediately ( ) ; }',\n",
       " 'void function ( NetMessage arg0 , NetID arg1 ) { addReceivedMsg ( arg0 ) ; receivedMsg ++ ; }',\n",
       " 'void function ( Throwable arg0 ) { if ( Platform . isRunning ( ) ) Logger . log ( arg0 ) ; else { if ( sendToConsole ) arg0 . printStackTrace ( ) ; } }',\n",
       " 'Item [ ] function ( ) { synchronized ( items ) { Item loc0 [ ] = new Item [ this . items . size ( ) ] ; return ( ( Item [ ] ) this . items . toArray ( loc0 ) ) ; } }',\n",
       " 'String function ( ) { return name ; }',\n",
       " 'StackKeeper function ( ) { try { return this . queue . removeFirst ( ) ; } catch ( NoSuchElementException loc0 ) { throw new NoStackException ( ) ; } }',\n",
       " 'GenVector < C > function ( ) { return ZERO ; }',\n",
       " 'void function ( int arg0 ) { this . level = arg0 ; }',\n",
       " 'void function ( RPCContext arg0 ) { }',\n",
       " 'void function ( String arg0 , Object arg1 ) { mParameters . put ( arg0 , arg1 ) ; }',\n",
       " 'Set < String > function ( InputSource arg0 ) { XmlNamespaceFinder loc0 = createNamespaceFinder ( ) ; Set < String > loc1 = loc0 . parseContents ( arg0 ) ; if ( factory == null ) { factory = loc0 . getFactory ( ) ; } return loc1 ; }',\n",
       " 'void function ( List < Integer > arg0 ) { takeLock . lock ( ) ; try { taskIdsQueue . add ( arg0 ) ; notEmpty . signal ( ) ; } finally { takeLock . unlock ( ) ; } }',\n",
       " 'void function ( boolean arg0 ) { debug = arg0 ; }',\n",
       " 'String function ( IPath arg0 , boolean arg1 ) { String loc0 ; if ( arg1 ) { loc0 = arg0 . toOSString ( ) ; } else { loc0 = arg0 . makeRelative ( ) . toString ( ) ; } return Strings . markLTR ( loc0 ) ; }',\n",
       " 'ConditionMonitor function ( ) { return INSTANCE ; }',\n",
       " 'long function ( ) { return this . ours ; }',\n",
       " 'java . math . BigInteger function ( ) { return coFac . characteristic ( ) ; }',\n",
       " 'void function ( @ ArquillianResource URL arg0 ) { final String loc0 = \"srini_string\" + arg0 . getHost ( ) + \"srini_string\" + arg0 . getPort ( ) + \"srini_string\" + JarClass . class . getName ( ) ; final String loc1 = HttpRequest . get ( loc0 , 2 , TimeUnit . SECONDS ) ; Assert . assertEquals ( Servlet . SUCCESS , loc1 ) ; }',\n",
       " 'int function ( String arg0 ) { File loc0 = new File ( arg0 ) ; if ( ! loc0 . exists ( ) || ! loc0 . isDirectory ( ) ) return 0 ; File loc1 [ ] = loc0 . listFiles ( ) ; if ( loc1 == null ) return 0 ; int loc2 = 0 ; for ( int loc3 = 0 ; loc3 < loc1 . length ; ++ loc3 ) { loc2 += insertFile ( loc1 [ loc3 ] ) ; } return loc2 ; }',\n",
       " 'void function ( String arg0 , Object arg1 ) { if ( Tracer . isDebugging ( ) ) printLog ( sysOut , arg0 , arg1 ) ; IStatus loc0 = createLogStatus ( arg0 , arg1 , \"srini_string\" ) ; try { log . log ( loc0 ) ; } catch ( Throwable loc1 ) { } }',\n",
       " 'void function ( BigInteger arg0 ) { this . nresults = arg0 ; }',\n",
       " 'void function ( String arg0 ) { String loc0 = getUsage ( ) ; if ( arg0 != null ) { MessageFormat loc1 = new MessageFormat ( Strings . get ( \"srini_string\" ) ) ; loc0 = loc1 . format ( new Object [ ] { loc0 , arg0 } ) ; } setScriptError ( new InvalidScriptException ( loc0 ) ) ; }',\n",
       " 'boolean function ( ) { return ui . findAll ( locator ) . length == 1 ; }',\n",
       " 'VectorXZ function ( double arg0 ) { return new VectorXZ ( sin ( arg0 ) , cos ( arg0 ) ) ; }',\n",
       " 'int function ( ImageInputStream arg0 ) { int loc0 = arg0 . readUnsignedShort ( ) ; return ( ( loc0 & 0xf800 ) << 8 ) | ( ( loc0 & 0x3800 ) << 5 ) | ( ( loc0 & 0x07e0 ) << 5 ) | ( ( loc0 & 0x0060 ) << 3 ) | ( ( loc0 & 0x001f ) << 3 ) | ( ( loc0 & 0x0007 ) ) ; }',\n",
       " 'void function ( Object arg0 ) { for ( int loc0 = 0 ; loc0 < iPredicates . length ; loc0 ++ ) { if ( iPredicates [ loc0 ] . evaluate ( arg0 ) == true ) { iClosures [ loc0 ] . execute ( arg0 ) ; return ; } } iDefault . execute ( arg0 ) ; }',\n",
       " 'boolean function ( ArrayList < Byte > arg0 ) { try { FileInputStream loc0 = new FileInputStream ( inputFile ) ; byte [ ] loc1 = new byte [ 1 ] ; while ( loc0 . read ( loc1 ) != - 1 ) { arg0 . add ( new Byte ( loc1 [ 0 ] ) ) ; } loc0 . close ( ) ; return true ; } catch ( Exception loc3 ) { loc3 . printStackTrace ( ) ; } return false ; }',\n",
       " 'UnivariateRealFunction function ( ) { return polynomialSplineDerivative ( ) ; }',\n",
       " 'void function ( Object arg0 ) { throw new FunctorException ( \"srini_string\" ) ; }',\n",
       " 'int function ( ) { return type ; }',\n",
       " 'double function ( ) { return mu ; }',\n",
       " 'DoubleListIterator function ( ListIterator arg0 ) { return null == arg0 ? null : new ListIteratorDoubleListIterator ( arg0 ) ; }',\n",
       " 'void function ( Set < String > arg0 ) { countryLookup . keySet ( ) . retainAll ( arg0 ) ; }',\n",
       " 'Parser function ( Class arg0 , Parser arg1 ) { Parser loc0 = ( Parser ) parsers . get ( arg0 ) ; parsers . put ( arg0 , arg1 ) ; return loc0 ; }',\n",
       " 'List < T > function ( Collection < T > arg0 ) { return Collections . unmodifiableList ( new ArrayList < T > ( arg0 ) ) ; }',\n",
       " 'int function ( ) { int loc0 = startupOptions . getIntegerOption ( KdcServerOption . KDC_TCP_PORT ) ; if ( loc0 < 1 ) { loc0 = kdcConfig . getKdcTcpPort ( ) ; } if ( loc0 < 1 ) { loc0 = getKdcPort ( ) ; } return loc0 ; }',\n",
       " 'Map function ( ) { loadMaps ( ) ; return characterMap ; }',\n",
       " \"String function ( String arg0 ) { char [ ] loc0 = arg0 . toCharArray ( ) ; for ( int loc1 = 0 ; loc1 < loc0 . length ; loc1 ++ ) { char loc2 = loc0 [ loc1 ] ; if ( ! Character . isJavaIdentifierPart ( loc2 ) ) { loc0 [ loc1 ] = '_' ; } } return new String ( loc0 ) ; }\",\n",
       " 'int function ( ModInteger arg0 ) { java . math . BigInteger loc0 = arg0 . val ; if ( ring != arg0 . ring ) { loc0 = loc0 . mod ( ring . modul ) ; } return val . compareTo ( loc0 ) ; }',\n",
       " 'CashAccount16 function ( String arg0 ) { CashAccount16 loc0 = new CashAccount16 ( ) ; AccountIdentification4Choice loc1 = new AccountIdentification4Choice ( ) ; loc1 . setIBAN ( arg0 ) ; loc0 . setId ( loc1 ) ; return loc0 ; }',\n",
       " 'Unmarshaller function ( ) { try { return JAXB_CONTEXT . createUnmarshaller ( ) ; } catch ( JAXBException loc0 ) { throw new RuntimeException ( loc0 . getMessage ( ) , loc0 ) ; } }',\n",
       " 'byte [ ] function ( byte [ ] arg0 ) { byte loc0 [ ] = new byte [ arg0 . length ] ; int loc1 = 0 ; for ( int loc2 = 0 ; loc2 < arg0 . length ; loc2 ++ ) { if ( isValidBase64Byte ( arg0 [ loc2 ] ) ) { loc0 [ loc1 ++ ] = arg0 [ loc2 ] ; } } byte loc3 [ ] = new byte [ loc1 ] ; System . arraycopy ( loc0 , 0 , loc3 , 0 , loc1 ) ; return loc3 ; }',\n",
       " 'String function ( String arg0 , int arg1 ) { return getComposedMessage ( arg0 , String . valueOf ( arg1 ) , null , null , null ) ; }',\n",
       " 'void function ( PropertyChangeListener arg0 ) { if ( arg0 == null ) { throw new IllegalArgumentException ( ) ; } pcsDelegate . addPropertyChangeListener ( arg0 ) ; }',\n",
       " 'Object function ( ) { if ( _constructor == null ) { return null ; } return _constructor . newInstance ( _args ) ; }',\n",
       " 'byte [ ] function ( int arg0 ) { byte [ ] loc0 = new byte [ 2 ] ; loc0 [ 0 ] = ( byte ) ( arg0 >> 8 ) ; loc0 [ 1 ] = ( byte ) ( ( arg0 << 8 ) >> 8 ) ; return loc0 ; }']"
      ]
     },
     "execution_count": 69,
     "metadata": {},
     "output_type": "execute_result"
    }
   ],
   "source": [
    "[i[:-1] for i in reference_text[0]]"
   ]
  },
  {
   "cell_type": "code",
   "execution_count": 61,
   "id": "6b561212",
   "metadata": {},
   "outputs": [],
   "source": [
    "# from nltk.translate.bleu_score import sentence_bleu\n",
    "# from torchmetrics import BLEUScore\n",
    "# preds = ['the cat is on the mat']\n",
    "# target = [['there is a cat on the mat', 'a cat is on the mat']]\n",
    "# bleu = BLEUScore()\n",
    "# bleu(preds, target)"
   ]
  },
  {
   "cell_type": "code",
   "execution_count": 59,
   "id": "5a5a0c0a",
   "metadata": {},
   "outputs": [
    {
     "data": {
      "text/plain": [
       "['int function ( ) { _total = extractList ( ) . size ( ) ; return _total ; }',\n",
       " 'void function ( boolean arg0 ) { fStatementsRecovery = arg0 ; }',\n",
       " 'boolean function ( ) { return false ; }',\n",
       " 'String function ( String arg0 ) { return ZKUtil . joinZNode ( getIdentitiesZNode ( ) , arg0 ) ; }',\n",
       " 'int function ( GenVector < C > arg0 ) { if ( ! modul . equals ( arg0 . modul ) ) { return - 1 ; } List < C > loc0 = arg0 . val ; int loc1 = 0 ; for ( C loc2 : val ) { int loc3 = loc2 . compareTo ( loc0 . get ( loc1 ++ ) ) ; if ( loc3 != 0 ) { return loc3 ; } } return 0 ; }',\n",
       " 'void function ( int arg0 , int arg1 ) { fTagPosition = new Region ( arg0 , arg1 ) ; }',\n",
       " 'double function ( UnivariateRealFunction arg0 , double arg1 , double arg2 ) { setup ( arg0 ) ; return factory . newDefaultSolver ( arg0 ) . solve ( arg1 , arg2 ) ; }',\n",
       " 'boolean function ( ) { return Platform . isWindows ( ) || Platform . isOSX ( ) || Platform . JAVA_VERSION < Platform . JAVA_1_3 ; }',\n",
       " 'Integer function ( ) { return null == intervalQualifier ? null : intervalQualifier . getFractionalSecondPrecisionPreservingDefault ( ) ; }',\n",
       " 'byte [ ] function ( Drawable arg0 ) { return bitmapToByte ( drawableToBitmap ( arg0 ) ) ; }',\n",
       " 'void function ( ) { migrationDone = false ; }',\n",
       " 'void function ( ) { }',\n",
       " 'Dialog function ( RefactoringStatus arg0 , Shell arg1 , String arg2 , boolean arg3 ) { return new RefactoringStatusDialog ( arg0 , arg1 , arg2 , arg3 ) ; }',\n",
       " 'BaseColor function ( ) { return strokeColor ; }',\n",
       " 'void function ( ) { SecurityConfiguration . getApplicationPolicy ( \"srini_string\" ) ; }',\n",
       " 'Transformer [ ] function ( Transformer [ ] arg0 ) { if ( arg0 == null ) { return null ; } return ( Transformer [ ] ) arg0 . clone ( ) ; }',\n",
       " 'int function ( ) { return this . getMarcador ( ) ; }',\n",
       " 'IJavaElement function ( JavaEditor arg0 , boolean arg1 ) { ITypeRoot loc0 = getInput ( arg0 , arg1 ) ; if ( loc0 != null ) return getElementAtOffset ( loc0 , ( ITextSelection ) arg0 . getSelectionProvider ( ) . getSelection ( ) ) ; return null ; }',\n",
       " 'LoadPlan function ( LoadPlanBuildingAssociationVisitationStrategy arg0 , EntityPersister arg1 ) { MetamodelGraphWalker . visitEntity ( arg0 , arg1 ) ; return arg0 . buildLoadPlan ( ) ; }',\n",
       " 'HG function ( HG arg0 ) { MathVector loc0 = new MathVector ( ) ; loc0 . subtraction ( pos , arg0 . pos0 ) ; double loc1 = loc0 . dotProduct ( ) + ( EPS * EPS ) ; double loc2 = Math . sqrt ( loc1 ) ; double loc3 = mass / loc2 ; arg0 . phi0 -= loc3 ; double loc4 = loc3 / loc1 ; loc0 . multScalar ( loc4 ) ; arg0 . acc0 . addition ( loc0 ) ; return arg0 ; }',\n",
       " 'void function ( String arg0 ) { this . catalogName = arg0 ; }',\n",
       " 'ColumnValues < T > function ( int arg0 ) { return new ColumnValues < T > ( columns [ arg0 ] ) ; }',\n",
       " 'void function ( State arg0 ) { setSyncResultSoftError ( ) ; latch . offer ( Result . Error ) ; }',\n",
       " 'IMember function ( IMember arg0 ) { final LinkedList < IMember > loc0 = new LinkedList < > ( ) ; addElements ( arg0 , loc0 ) ; final IMember [ ] loc1 = convertElements ( loc0 . toArray ( new IMember [ 0 ] ) ) ; return loc1 [ loc1 . length - 1 ] ; }',\n",
       " 'Rational function ( int arg0 ) { VideoTrack loc0 = tracks . get ( arg0 ) ; return new Rational ( loc0 . count , 30 ) ; }',\n",
       " 'void function ( ) { int loc0 = rand . nextInt ( size ) ; int loc1 = rand . nextInt ( size ) ; log . debug ( \"srini_string\" + Simulator . getCurrentTime ( ) + \"srini_string\" + loc0 + \"srini_string\" + loc1 ) ; keyPopularity . add ( loc1 , keyPopularity . remove ( loc0 ) ) ; getKeyForLookup ( ) ; }',\n",
       " 'List function ( ) { return list ; }',\n",
       " 'boolean function ( @ NotNull ResourceEntity arg0 , @ NotNull ReleaseEntity arg1 ) { return arg0 . equals ( getResourceEntityForRelease ( arg0 . getResourceGroup ( ) , arg1 ) ) ; }',\n",
       " 'URI function ( ) { return uri ; }',\n",
       " 'Getcontentlanguage function ( ) { return getcontentlanguage ; }',\n",
       " 'boolean function ( ) { return coalescing ; }',\n",
       " 'int function ( ) { return this . leased ; }',\n",
       " 'void function ( Object arg0 , Throwable arg1 ) { if ( is12 ) { getLogger ( ) . log ( FQCN , ( Priority ) Level . ERROR , arg0 , arg1 ) ; } else { getLogger ( ) . log ( FQCN , Level . ERROR , arg0 , arg1 ) ; } }',\n",
       " 'Element function ( Node arg0 , String arg1 ) { NodeList loc0 = arg0 . getChildNodes ( ) ; for ( int loc1 = 0 ; loc1 < loc0 . getLength ( ) ; loc1 ++ ) { Node loc2 = loc0 . item ( loc1 ) ; if ( loc2 . getNodeType ( ) == Node . ELEMENT_NODE && arg1 . equals ( loc2 . getNodeName ( ) ) ) return ( Element ) loc2 ; } return null ; }',\n",
       " 'String function ( ) { return fcLink ; }',\n",
       " 'boolean function ( ) { return ( type == DICTIONARY ) ; }',\n",
       " 'void function ( int arg0 ) { this . n = arg0 ; }',\n",
       " 'List < GenSolvablePolynomial < C >> function ( int arg0 , List < GenSolvablePolynomial < C >> arg1 ) { return sbb . twosidedGB ( arg0 , arg1 ) ; }',\n",
       " 'void function ( boolean arg0 ) { fResolveBindings = arg0 ; }',\n",
       " 'void function ( int arg0 ) { int [ ] loc0 = extractKeys ( arg0 ) ; for ( int loc1 = loc0 . length - 1 ; loc1 >= 0 ; -- loc1 ) doKeyUp ( loc0 [ loc1 ] ) ; }',\n",
       " 'Local < C > function ( ) { return new Local < C > ( ring , num . abs ( ) , den , true ) ; }',\n",
       " 'boolean function ( Object arg0 , Object arg1 ) { return arg0 == arg1 || ( arg0 == null ? arg1 == null : arg0 . equals ( arg1 ) ) ; }',\n",
       " 'void function ( ) { Arrays . fill ( probes , false ) ; }',\n",
       " 'ProvidedPortID function ( ) { return new ProvidedPortID ( ) ; }',\n",
       " 'void function ( final ISourceFileLocator arg0 ) { delegates . add ( arg0 ) ; }',\n",
       " 'UnivPowerSeries < C > function ( java . math . BigInteger arg0 ) { return ONE . multiply ( coFac . fromInteger ( arg0 ) ) ; }',\n",
       " 'void function ( final Shell arg0 ) { Robot . syncExec ( arg0 . getDisplay ( ) , null , new Runnable ( ) { public void run ( ) { arg0 . forceActive ( ) ; arg0 . setFocus ( ) ; } } ) ; Robot . waitForIdle ( arg0 . getDisplay ( ) ) ; }',\n",
       " 'Limit function ( ) { final Limit loc0 = new Limit ( ) ; this . limits . add ( loc0 ) ; return loc0 ; }',\n",
       " 'void function ( ) { pos ++ ; }',\n",
       " 'void function ( String [ ] arg0 ) { JAXBContext loc0 = JAXBContext . newInstance ( Session . class ) ; writeSession ( readSession ( new File ( \"srini_string\" ) , loc0 ) , new File ( \"srini_string\" ) , loc0 ) ; }',\n",
       " 'String function ( ) { return name ; }',\n",
       " 'void function ( boolean arg0 ) { this . useCriterion4 = arg0 ; }',\n",
       " 'Vector < FieldDoc > function ( ClassDoc arg0 , String arg1 ) { Vector < FieldDoc > loc0 = new Vector < FieldDoc > ( ) ; for ( FieldDoc loc1 : arg0 . fields ( ) ) { if ( loc1 . name ( ) . startsWith ( arg1 ) ) loc0 . add ( loc1 ) ; } return ( loc0 ) ; }',\n",
       " 'Property function ( ) { return property ; }',\n",
       " 'void function ( KademliaOverlayKey arg0 , OperationCallback < DHTObject > arg1 ) { KademliaOperation < DHTObject > loc0 = myNode . getOperationFactory ( ) . getDataLookupOperation ( arg0 , arg1 ) ; loc0 . scheduleImmediately ( ) ; }',\n",
       " 'void function ( NetMessage arg0 , NetID arg1 ) { addReceivedMsg ( arg0 ) ; receivedMsg ++ ; }',\n",
       " 'void function ( Throwable arg0 ) { if ( Platform . isRunning ( ) ) Logger . log ( arg0 ) ; else { if ( sendToConsole ) arg0 . printStackTrace ( ) ; } }',\n",
       " 'Item [ ] function ( ) { synchronized ( items ) { Item loc0 [ ] = new Item [ this . items . size ( ) ] ; return ( ( Item [ ] ) this . items . toArray ( loc0 ) ) ; } }',\n",
       " 'String function ( ) { return name ; }',\n",
       " 'StackKeeper function ( ) { try { return this . queue . removeFirst ( ) ; } catch ( NoSuchElementException loc0 ) { throw new NoStackException ( ) ; } }',\n",
       " 'GenVector < C > function ( ) { return ZERO ; }',\n",
       " 'void function ( int arg0 ) { this . level = arg0 ; }',\n",
       " 'void function ( RPCContext arg0 ) { }',\n",
       " 'void function ( String arg0 , Object arg1 ) { mParameters . put ( arg0 , arg1 ) ; }',\n",
       " 'Set < String > function ( InputSource arg0 ) { XmlNamespaceFinder loc0 = createNamespaceFinder ( ) ; Set < String > loc1 = loc0 . parseContents ( arg0 ) ; if ( factory == null ) { factory = loc0 . getFactory ( ) ; } return loc1 ; }',\n",
       " 'void function ( List < Integer > arg0 ) { takeLock . lock ( ) ; try { taskIdsQueue . add ( arg0 ) ; notEmpty . signal ( ) ; } finally { takeLock . unlock ( ) ; } }',\n",
       " 'void function ( boolean arg0 ) { debug = arg0 ; }',\n",
       " 'String function ( IPath arg0 , boolean arg1 ) { String loc0 ; if ( arg1 ) { loc0 = arg0 . toOSString ( ) ; } else { loc0 = arg0 . makeRelative ( ) . toString ( ) ; } return Strings . markLTR ( loc0 ) ; }',\n",
       " 'ConditionMonitor function ( ) { return INSTANCE ; }',\n",
       " 'long function ( ) { return this . ours ; }',\n",
       " 'java . math . BigInteger function ( ) { return coFac . characteristic ( ) ; }',\n",
       " 'void function ( @ ArquillianResource URL arg0 ) { final String loc0 = \"srini_string\" + arg0 . getHost ( ) + \"srini_string\" + arg0 . getPort ( ) + \"srini_string\" + JarClass . class . getName ( ) ; final String loc1 = HttpRequest . get ( loc0 , 2 , TimeUnit . SECONDS ) ; Assert . assertEquals ( Servlet . SUCCESS , loc1 ) ; }',\n",
       " 'int function ( String arg0 ) { File loc0 = new File ( arg0 ) ; if ( ! loc0 . exists ( ) || ! loc0 . isDirectory ( ) ) return 0 ; File loc1 [ ] = loc0 . listFiles ( ) ; if ( loc1 == null ) return 0 ; int loc2 = 0 ; for ( int loc3 = 0 ; loc3 < loc1 . length ; ++ loc3 ) { loc2 += insertFile ( loc1 [ loc3 ] ) ; } return loc2 ; }',\n",
       " 'void function ( String arg0 , Object arg1 ) { if ( Tracer . isDebugging ( ) ) printLog ( sysOut , arg0 , arg1 ) ; IStatus loc0 = createLogStatus ( arg0 , arg1 , \"srini_string\" ) ; try { log . log ( loc0 ) ; } catch ( Throwable loc1 ) { } }',\n",
       " 'void function ( BigInteger arg0 ) { this . nresults = arg0 ; }',\n",
       " 'void function ( String arg0 ) { String loc0 = getUsage ( ) ; if ( arg0 != null ) { MessageFormat loc1 = new MessageFormat ( Strings . get ( \"srini_string\" ) ) ; loc0 = loc1 . format ( new Object [ ] { loc0 , arg0 } ) ; } setScriptError ( new InvalidScriptException ( loc0 ) ) ; }',\n",
       " 'boolean function ( ) { return ui . findAll ( locator ) . length == 1 ; }',\n",
       " 'VectorXZ function ( double arg0 ) { return new VectorXZ ( sin ( arg0 ) , cos ( arg0 ) ) ; }',\n",
       " 'int function ( ImageInputStream arg0 ) { int loc0 = arg0 . readUnsignedShort ( ) ; return ( ( loc0 & 0xf800 ) << 8 ) | ( ( loc0 & 0x3800 ) << 5 ) | ( ( loc0 & 0x07e0 ) << 5 ) | ( ( loc0 & 0x0060 ) << 3 ) | ( ( loc0 & 0x001f ) << 3 ) | ( ( loc0 & 0x0007 ) ) ; }',\n",
       " 'void function ( Object arg0 ) { for ( int loc0 = 0 ; loc0 < iPredicates . length ; loc0 ++ ) { if ( iPredicates [ loc0 ] . evaluate ( arg0 ) == true ) { iClosures [ loc0 ] . execute ( arg0 ) ; return ; } } iDefault . execute ( arg0 ) ; }',\n",
       " 'boolean function ( ArrayList < Byte > arg0 ) { try { FileInputStream loc0 = new FileInputStream ( inputFile ) ; byte [ ] loc1 = new byte [ 1 ] ; while ( loc0 . read ( loc1 ) != - 1 ) { arg0 . add ( new Byte ( loc1 [ 0 ] ) ) ; } loc0 . close ( ) ; return true ; } catch ( Exception loc3 ) { loc3 . printStackTrace ( ) ; } return false ; }',\n",
       " 'UnivariateRealFunction function ( ) { return polynomialSplineDerivative ( ) ; }',\n",
       " 'void function ( Object arg0 ) { throw new FunctorException ( \"srini_string\" ) ; }',\n",
       " 'int function ( ) { return type ; }',\n",
       " 'double function ( ) { return mu ; }',\n",
       " 'DoubleListIterator function ( ListIterator arg0 ) { return null == arg0 ? null : new ListIteratorDoubleListIterator ( arg0 ) ; }',\n",
       " 'void function ( Set < String > arg0 ) { countryLookup . keySet ( ) . retainAll ( arg0 ) ; }',\n",
       " 'Parser function ( Class arg0 , Parser arg1 ) { Parser loc0 = ( Parser ) parsers . get ( arg0 ) ; parsers . put ( arg0 , arg1 ) ; return loc0 ; }',\n",
       " 'List < T > function ( Collection < T > arg0 ) { return Collections . unmodifiableList ( new ArrayList < T > ( arg0 ) ) ; }',\n",
       " 'int function ( ) { int loc0 = startupOptions . getIntegerOption ( KdcServerOption . KDC_TCP_PORT ) ; if ( loc0 < 1 ) { loc0 = kdcConfig . getKdcTcpPort ( ) ; } if ( loc0 < 1 ) { loc0 = getKdcPort ( ) ; } return loc0 ; }',\n",
       " 'Map function ( ) { loadMaps ( ) ; return characterMap ; }',\n",
       " \"String function ( String arg0 ) { char [ ] loc0 = arg0 . toCharArray ( ) ; for ( int loc1 = 0 ; loc1 < loc0 . length ; loc1 ++ ) { char loc2 = loc0 [ loc1 ] ; if ( ! Character . isJavaIdentifierPart ( loc2 ) ) { loc0 [ loc1 ] = '_' ; } } return new String ( loc0 ) ; }\",\n",
       " 'int function ( ModInteger arg0 ) { java . math . BigInteger loc0 = arg0 . val ; if ( ring != arg0 . ring ) { loc0 = loc0 . mod ( ring . modul ) ; } return val . compareTo ( loc0 ) ; }',\n",
       " 'CashAccount16 function ( String arg0 ) { CashAccount16 loc0 = new CashAccount16 ( ) ; AccountIdentification4Choice loc1 = new AccountIdentification4Choice ( ) ; loc1 . setIBAN ( arg0 ) ; loc0 . setId ( loc1 ) ; return loc0 ; }',\n",
       " 'Unmarshaller function ( ) { try { return JAXB_CONTEXT . createUnmarshaller ( ) ; } catch ( JAXBException loc0 ) { throw new RuntimeException ( loc0 . getMessage ( ) , loc0 ) ; } }',\n",
       " 'byte [ ] function ( byte [ ] arg0 ) { byte loc0 [ ] = new byte [ arg0 . length ] ; int loc1 = 0 ; for ( int loc2 = 0 ; loc2 < arg0 . length ; loc2 ++ ) { if ( isValidBase64Byte ( arg0 [ loc2 ] ) ) { loc0 [ loc1 ++ ] = arg0 [ loc2 ] ; } } byte loc3 [ ] = new byte [ loc1 ] ; System . arraycopy ( loc0 , 0 , loc3 , 0 , loc1 ) ; return loc3 ; }',\n",
       " 'String function ( String arg0 , int arg1 ) { return getComposedMessage ( arg0 , String . valueOf ( arg1 ) , null , null , null ) ; }',\n",
       " 'void function ( PropertyChangeListener arg0 ) { if ( arg0 == null ) { throw new IllegalArgumentException ( ) ; } pcsDelegate . addPropertyChangeListener ( arg0 ) ; }',\n",
       " 'Object function ( ) { if ( _constructor == null ) { return null ; } return _constructor . newInstance ( _args ) ; }',\n",
       " 'byte [ ] function ( int arg0 ) { byte [ ] loc0 = new byte [ 2 ] ; loc0 [ 0 ] = ( byte ) ( arg0 >> 8 ) ; loc0 [ 1 ] = ( byte ) ( ( arg0 << 8 ) >> 8 ) ; return loc0 ; }']"
      ]
     },
     "execution_count": 59,
     "metadata": {},
     "output_type": "execute_result"
    }
   ],
   "source": []
  },
  {
   "cell_type": "code",
   "execution_count": 51,
   "id": "63cbea27",
   "metadata": {},
   "outputs": [
    {
     "data": {
      "text/plain": [
       "'-\\n'"
      ]
     },
     "execution_count": 51,
     "metadata": {},
     "output_type": "execute_result"
    }
   ],
   "source": [
    "preds[0]"
   ]
  },
  {
   "cell_type": "code",
   "execution_count": 56,
   "id": "39b603fd",
   "metadata": {},
   "outputs": [
    {
     "data": {
      "text/plain": [
       "'int function ( ) { _total = extractList ( ) . size ( ) ; return _total ; }'"
      ]
     },
     "execution_count": 56,
     "metadata": {},
     "output_type": "execute_result"
    }
   ],
   "source": [
    "json.loads(gts[0])[\"code\"]"
   ]
  },
  {
   "cell_type": "code",
   "execution_count": 57,
   "id": "0a52818d",
   "metadata": {},
   "outputs": [
    {
     "data": {
      "text/plain": [
       "'int function ( ) { _total = extractList ( ) . size ( ) ; return _total ; }\\n'"
      ]
     },
     "execution_count": 57,
     "metadata": {},
     "output_type": "execute_result"
    }
   ],
   "source": [
    "reference_text[0][0]#, translations "
   ]
  },
  {
   "cell_type": "code",
   "execution_count": 58,
   "id": "dcbf43dc",
   "metadata": {},
   "outputs": [
    {
     "data": {
      "text/plain": [
       "'{\"code\": \"void function ( boolean arg0 ) { fStatementsRecovery = arg0 ; }\", \"nl\": \"controls whether the compiler should perform statements recovery . to be effective , this method must be called before any of #getroot , #getastrewrite , #getimportremover . this method has no effect if the target object has been created with #compilationunitrewrite icompilationunit , compilationunit . defaults to true do perform statements recovery . concode_field_sep ImportRewrite fImportRewrite concode_elem_sep ImportRemover fImportRemover concode_elem_sep WorkingCopyOwner fOwner concode_elem_sep ASTRewrite fRewrite concode_elem_sep boolean fStatementsRecovery concode_elem_sep List<TextEditGroup> fTextEditGroups concode_elem_sep ICompilationUnit fCu concode_elem_sep IDocument fRememberContent concode_elem_sep CompilationUnit fRoot concode_elem_sep boolean fResolveBindings concode_elem_sep boolean fBindingsRecovery concode_field_sep void clearASTRewrite concode_elem_sep ASTRewrite getASTRewrite concode_elem_sep void rememberContent concode_elem_sep AST getAST concode_elem_sep void setBindingRecovery concode_elem_sep ImportRemover getImportRemover concode_elem_sep CompilationUnitChange createChange concode_elem_sep org.eclipse.jdt.internal.corext.refactoring.changes.CompilationUnitChange createChange concode_elem_sep CompilationUnitChange createChange concode_elem_sep CompilationUnitChange createChange concode_elem_sep void clearASTAndImportRewrites concode_elem_sep CompilationUnitChange attachChange concode_elem_sep CategorizedTextEditGroup createCategorizedGroupDescription concode_elem_sep TextEditGroup createGroupDescription concode_elem_sep void setResolveBindings concode_elem_sep ImportRewrite getImportRewrite concode_elem_sep ICompilationUnit getCu concode_elem_sep void clearImportRewrites concode_elem_sep void clearGroupDescriptionEdits concode_elem_sep CompilationUnit getRoot concode_elem_sep boolean isEmptyEdit\"}\\n'"
      ]
     },
     "execution_count": 58,
     "metadata": {},
     "output_type": "execute_result"
    }
   ],
   "source": [
    "gts[1]"
   ]
  },
  {
   "cell_type": "code",
   "execution_count": null,
   "id": "1361e563",
   "metadata": {},
   "outputs": [],
   "source": []
  }
 ],
 "metadata": {
  "kernelspec": {
   "display_name": "Python 3 (ipykernel)",
   "language": "python",
   "name": "python3"
  },
  "language_info": {
   "codemirror_mode": {
    "name": "ipython",
    "version": 3
   },
   "file_extension": ".py",
   "mimetype": "text/x-python",
   "name": "python",
   "nbconvert_exporter": "python",
   "pygments_lexer": "ipython3",
   "version": "3.10.9"
  }
 },
 "nbformat": 4,
 "nbformat_minor": 5
}
