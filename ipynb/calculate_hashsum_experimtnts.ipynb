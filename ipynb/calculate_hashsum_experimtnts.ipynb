{
 "cells": [
  {
   "cell_type": "code",
   "execution_count": 1,
   "id": "336b74df",
   "metadata": {},
   "outputs": [],
   "source": [
    "import os"
   ]
  },
  {
   "cell_type": "code",
   "execution_count": 10,
   "id": "85dc7557",
   "metadata": {},
   "outputs": [
    {
     "name": "stdout",
     "output_type": "stream",
     "text": [
      "total 3.1G\r\n",
      "drwxr-xr-x 8 root root 4.0K May 25 06:38 .\r\n",
      "drwxr-xr-x 9 root root  249 May 24 20:47 ..\r\n",
      "drwxr-xr-x 2 root root   64 May 24 20:47 1684702442.0964742\r\n",
      "drwxr-xr-x 2 root root   64 May 24 20:47 1684702685.6640449\r\n",
      "drwxr-xr-x 2 root root   64 May 24 20:47 1684875698.2082248\r\n",
      "drwxr-xr-x 2 root root   64 May 24 20:47 1684875738.6857948\r\n",
      "drwxr-xr-x 2 root root   64 May 24 21:12 1684962769.4956152\r\n",
      "-rw-r--r-- 1 root root  343 May 25 18:36 adapter_config.json\r\n",
      "-rw-r--r-- 1 root root 3.1G May 25 18:36 adapter_model.bin\r\n",
      "drwxr-xr-x 2 root root  243 May 25 06:38 checkpoint-26000\r\n",
      "-rw-r--r-- 1 root root 4.1K May 24 20:47 events.out.tfevents.1684702442.c71a00d70d2c.3733.0\r\n",
      "-rw-r--r-- 1 root root 366K May 24 20:47 events.out.tfevents.1684702685.c71a00d70d2c.3814.0\r\n",
      "-rw-r--r-- 1 root root 4.5K May 24 20:47 events.out.tfevents.1684875698.c71a00d70d2c.4208.0\r\n",
      "-rw-r--r-- 1 root root  42K May 24 20:47 events.out.tfevents.1684875738.c71a00d70d2c.4208.2\r\n",
      "-rw-r--r-- 1 root root  85K May 25 07:34 events.out.tfevents.1684962769.c71a00d70d2c.4718.0\r\n",
      "-rw-r--r-- 1 root root  831 May 24 21:09 experiment_config.json\r\n"
     ]
    }
   ],
   "source": [
    "# fn = \n",
    "!ls -lah /root/experiments/t2c_concode_220428_v38_plustwoepoch/"
   ]
  },
  {
   "cell_type": "code",
   "execution_count": 4,
   "id": "25c97112",
   "metadata": {},
   "outputs": [
    {
     "data": {
      "text/plain": [
       "'f33ae7e26d20987772b037ecd61f3021'"
      ]
     },
     "execution_count": 4,
     "metadata": {},
     "output_type": "execute_result"
    }
   ],
   "source": [
    "# import hashlib\n",
    "# hashlib.md5(open('/root/experiments/t2c_concode_220428_v38_plustwoepoch/adapter_model.bin',\n",
    "#                  'rb').read()).hexdigest()"
   ]
  },
  {
   "cell_type": "code",
   "execution_count": 50,
   "id": "2a6c1078",
   "metadata": {},
   "outputs": [
    {
     "name": "stdout",
     "output_type": "stream",
     "text": [
      "adapter_model.bin:f33ae7e26d20987772b037ecd61f3021;experiment_config.json:797e81040a91cc07ac0de76ca9f581ee;adapter_config.json:5958f9f83cf24af529350e802b565fb0\n"
     ]
    }
   ],
   "source": [
    "import os\n",
    "import hashlib\n",
    "import json\n",
    "\n",
    "\n",
    "def get_hash(fn):\n",
    "    res = hashlib.md5(open(fn, 'rb').read()).hexdigest()\n",
    "    return res\n",
    "\n",
    "def get_hash_experiment(experiment_name, experiment_path, filename_list):\n",
    "    hash_dict = {}\n",
    "    for filename in filename_list:\n",
    "        fn = os.path.join(experiment_path, experiment_name, filename)\n",
    "        if os.path.exists(fn):\n",
    "            hash_dict[fn] = get_hash(fn)\n",
    "        else:\n",
    "            hash_dict[fn] = \"None\"\n",
    "    return \";\".join([fn.split('/')[-1]+\":\"+h for fn, h in hash_dict.items()])\n",
    "\n",
    "\n",
    "res = get_hash_experiment(experiment_name = \"t2c_concode_220428_v38_plustwoepoch\", \n",
    "                          experiment_path = \"/root/experiments/\",\n",
    "                          filename_list = [\"adapter_model.bin\", \n",
    "                                           'experiment_config.json',\n",
    "                                           \"adapter_config.json\"]\n",
    "                         )\n",
    "\n",
    "\n",
    "print(res)\n",
    "# experiment_path = \"/root/experiments/\"\n",
    "# experiment_name = \"t2c_concode_220428_v38_plustwoepoch\"\n",
    "# filename_list = [\"adapter_model\", 'experiment_config.json', \"adapter_config.json\"]\n",
    "\n",
    "# fn = os.path.join(experiment_path, experiment_name, filename_list[1])\n",
    "# print(fn, get_hash(fn))\n"
   ]
  },
  {
   "cell_type": "code",
   "execution_count": 51,
   "id": "96246938",
   "metadata": {},
   "outputs": [
    {
     "name": "stdout",
     "output_type": "stream",
     "text": [
      "t2c_concode_220428_v34\n",
      "t2c_concode_220428_v35_prefix\n",
      "t2c_concode_220428_v36\n",
      "t2c_concode_220428_v37\n",
      "t2c_concode_220428_v38\n",
      "t2c_concode_220428_v38_plusoneepoch\n",
      "t2c_concode_220428_v38_plustwoepoch\n",
      "t2c_concode_220428_v38_plustwoepoch_test_copy\n"
     ]
    }
   ],
   "source": [
    "res = {}\n",
    "\n",
    "experiment_path = \"/root/experiments/\"\n",
    "for experiment_name in os.listdir(\"/root/experiments/\"):\n",
    "    print(experiment_name)\n",
    "    res[experiment_name] = get_hash_experiment(experiment_name = experiment_name, \n",
    "                                               experiment_path = \"/root/experiments/\",\n",
    "                                               filename_list = [\"adapter_model.bin\", \n",
    "                                                                \"experiment_config.json\",\n",
    "                                                                \"adapter_config.json\"]\n",
    "                                              )\n",
    "    "
   ]
  },
  {
   "cell_type": "code",
   "execution_count": 54,
   "id": "006c493c",
   "metadata": {},
   "outputs": [],
   "source": [
    "import json\n",
    "json.dump(res, open(\"vps_8889.json\", \"w+\"))"
   ]
  },
  {
   "cell_type": "code",
   "execution_count": 52,
   "id": "70fb4895",
   "metadata": {},
   "outputs": [
    {
     "data": {
      "text/plain": [
       "'adapter_model.bin:f33ae7e26d20987772b037ecd61f3021;experiment_config.json:797e81040a91cc07ac0de76ca9f581ee;adapter_config.json:5958f9f83cf24af529350e802b565fb0'"
      ]
     },
     "execution_count": 52,
     "metadata": {},
     "output_type": "execute_result"
    }
   ],
   "source": [
    "res['t2c_concode_220428_v38_plustwoepoch']"
   ]
  },
  {
   "cell_type": "code",
   "execution_count": 49,
   "id": "2a712ef5",
   "metadata": {},
   "outputs": [
    {
     "name": "stdout",
     "output_type": "stream",
     "text": [
      "1684527445.7057822\r\n",
      "1684527445.712787\r\n",
      "1684527834.9031746\r\n",
      "1684527834.911328\r\n",
      "1684529628.8883417\r\n",
      "1684530582.9622457\r\n",
      "1684532226.7500134\r\n",
      "1684532379.5380716\r\n",
      "events.out.tfevents.1684527445.c71a00d70d2c.1905.0\r\n",
      "events.out.tfevents.1684527445.c71a00d70d2c.1905.2\r\n",
      "events.out.tfevents.1684527834.c71a00d70d2c.1905.4\r\n",
      "events.out.tfevents.1684527834.c71a00d70d2c.1905.6\r\n",
      "events.out.tfevents.1684529628.c71a00d70d2c.2113.0\r\n",
      "events.out.tfevents.1684530582.c71a00d70d2c.2211.0\r\n",
      "events.out.tfevents.1684532226.c71a00d70d2c.2373.0\r\n",
      "events.out.tfevents.1684532379.c71a00d70d2c.2373.2\r\n",
      "experiment_config.json\r\n"
     ]
    }
   ],
   "source": [
    "!ls /root/experiments/t2c_concode_220428_v35_prefix"
   ]
  },
  {
   "cell_type": "code",
   "execution_count": 47,
   "id": "e9535190",
   "metadata": {},
   "outputs": [
    {
     "data": {
      "text/plain": [
       "t2c_concode_220428_v34                           adapter_model.bin:f33ae7e26d20987772b037ecd61f...\n",
       "t2c_concode_220428_v35_prefix                    adapter_model.bin:f33ae7e26d20987772b037ecd61f...\n",
       "t2c_concode_220428_v36                           adapter_model.bin:f33ae7e26d20987772b037ecd61f...\n",
       "t2c_concode_220428_v37                           adapter_model.bin:f33ae7e26d20987772b037ecd61f...\n",
       "t2c_concode_220428_v38                           adapter_model.bin:f33ae7e26d20987772b037ecd61f...\n",
       "t2c_concode_220428_v38_plusoneepoch              adapter_model.bin:f33ae7e26d20987772b037ecd61f...\n",
       "t2c_concode_220428_v38_plustwoepoch              adapter_model.bin:f33ae7e26d20987772b037ecd61f...\n",
       "t2c_concode_220428_v38_plustwoepoch_test_copy    adapter_model.bin:f33ae7e26d20987772b037ecd61f...\n",
       "dtype: object"
      ]
     },
     "execution_count": 47,
     "metadata": {},
     "output_type": "execute_result"
    }
   ],
   "source": [
    "import pandas as pd\n",
    "pd.Series(res)"
   ]
  },
  {
   "cell_type": "code",
   "execution_count": 18,
   "id": "f3144a4f",
   "metadata": {},
   "outputs": [
    {
     "ename": "FileNotFoundError",
     "evalue": "[Errno 2] No such file or directory: '/root/experiments/t2c_concode_220428_v38_plustsldkfjwoepoch/adapter_model.bin'",
     "output_type": "error",
     "traceback": [
      "\u001b[0;31m---------------------------------------------------------------------------\u001b[0m",
      "\u001b[0;31mFileNotFoundError\u001b[0m                         Traceback (most recent call last)",
      "Cell \u001b[0;32mIn[18], line 1\u001b[0m\n\u001b[0;32m----> 1\u001b[0m \u001b[43mget_hash_experiment\u001b[49m\u001b[43m(\u001b[49m\u001b[43mexperiment_name\u001b[49m\u001b[43m \u001b[49m\u001b[38;5;241;43m=\u001b[39;49m\u001b[43m \u001b[49m\u001b[38;5;124;43m\"\u001b[39;49m\u001b[38;5;124;43mt2c_concode_220428_v38_plustsldkfjwoepoch\u001b[39;49m\u001b[38;5;124;43m\"\u001b[39;49m\u001b[43m,\u001b[49m\u001b[43m \u001b[49m\n\u001b[1;32m      2\u001b[0m \u001b[43m                          \u001b[49m\u001b[43mexperiment_path\u001b[49m\u001b[43m \u001b[49m\u001b[38;5;241;43m=\u001b[39;49m\u001b[43m \u001b[49m\u001b[38;5;124;43m\"\u001b[39;49m\u001b[38;5;124;43m/root/experiments/\u001b[39;49m\u001b[38;5;124;43m\"\u001b[39;49m\u001b[43m,\u001b[49m\n\u001b[1;32m      3\u001b[0m \u001b[43m                          \u001b[49m\u001b[43mfilename_list\u001b[49m\u001b[43m \u001b[49m\u001b[38;5;241;43m=\u001b[39;49m\u001b[43m \u001b[49m\u001b[43m[\u001b[49m\u001b[38;5;124;43m\"\u001b[39;49m\u001b[38;5;124;43madapter_model.bin\u001b[39;49m\u001b[38;5;124;43m\"\u001b[39;49m\u001b[43m,\u001b[49m\u001b[43m \u001b[49m\n\u001b[1;32m      4\u001b[0m \u001b[43m                                           \u001b[49m\u001b[38;5;124;43m'\u001b[39;49m\u001b[38;5;124;43mexperiment_config.json\u001b[39;49m\u001b[38;5;124;43m'\u001b[39;49m\u001b[43m,\u001b[49m\n\u001b[1;32m      5\u001b[0m \u001b[43m                                           \u001b[49m\u001b[38;5;124;43m\"\u001b[39;49m\u001b[38;5;124;43madapter_config.json\u001b[39;49m\u001b[38;5;124;43m\"\u001b[39;49m\u001b[43m]\u001b[49m\n\u001b[1;32m      6\u001b[0m \u001b[43m                         \u001b[49m\u001b[43m)\u001b[49m\n",
      "Cell \u001b[0;32mIn[14], line 11\u001b[0m, in \u001b[0;36mget_hash_experiment\u001b[0;34m(experiment_name, experiment_path, filename_list)\u001b[0m\n\u001b[1;32m      9\u001b[0m \u001b[38;5;28;01mfor\u001b[39;00m filename \u001b[38;5;129;01min\u001b[39;00m filename_list:\n\u001b[1;32m     10\u001b[0m     fn \u001b[38;5;241m=\u001b[39m os\u001b[38;5;241m.\u001b[39mpath\u001b[38;5;241m.\u001b[39mjoin(experiment_path, experiment_name, filename)\n\u001b[0;32m---> 11\u001b[0m     hash_dict[fn] \u001b[38;5;241m=\u001b[39m \u001b[43mget_hash\u001b[49m\u001b[43m(\u001b[49m\u001b[43mfn\u001b[49m\u001b[43m)\u001b[49m\n\u001b[1;32m     12\u001b[0m \u001b[38;5;28;01mreturn\u001b[39;00m \u001b[38;5;124m\"\u001b[39m\u001b[38;5;124m;\u001b[39m\u001b[38;5;124m\"\u001b[39m\u001b[38;5;241m.\u001b[39mjoin([fn\u001b[38;5;241m+\u001b[39m\u001b[38;5;124m\"\u001b[39m\u001b[38;5;124m-\u001b[39m\u001b[38;5;124m\"\u001b[39m\u001b[38;5;241m+\u001b[39mh \u001b[38;5;28;01mfor\u001b[39;00m fn, h \u001b[38;5;129;01min\u001b[39;00m hash_dict\u001b[38;5;241m.\u001b[39mitems()])\n",
      "Cell \u001b[0;32mIn[14], line 4\u001b[0m, in \u001b[0;36mget_hash\u001b[0;34m(fn)\u001b[0m\n\u001b[1;32m      3\u001b[0m \u001b[38;5;28;01mdef\u001b[39;00m \u001b[38;5;21mget_hash\u001b[39m(fn):\n\u001b[0;32m----> 4\u001b[0m     res \u001b[38;5;241m=\u001b[39m hashlib\u001b[38;5;241m.\u001b[39mmd5(\u001b[38;5;28;43mopen\u001b[39;49m\u001b[43m(\u001b[49m\u001b[43mfn\u001b[49m\u001b[43m,\u001b[49m\u001b[43m \u001b[49m\u001b[38;5;124;43m'\u001b[39;49m\u001b[38;5;124;43mrb\u001b[39;49m\u001b[38;5;124;43m'\u001b[39;49m\u001b[43m)\u001b[49m\u001b[38;5;241m.\u001b[39mread())\u001b[38;5;241m.\u001b[39mhexdigest()\n\u001b[1;32m      5\u001b[0m     \u001b[38;5;28;01mreturn\u001b[39;00m res\n",
      "File \u001b[0;32m/opt/conda/lib/python3.10/site-packages/IPython/core/interactiveshell.py:282\u001b[0m, in \u001b[0;36m_modified_open\u001b[0;34m(file, *args, **kwargs)\u001b[0m\n\u001b[1;32m    275\u001b[0m \u001b[38;5;28;01mif\u001b[39;00m file \u001b[38;5;129;01min\u001b[39;00m {\u001b[38;5;241m0\u001b[39m, \u001b[38;5;241m1\u001b[39m, \u001b[38;5;241m2\u001b[39m}:\n\u001b[1;32m    276\u001b[0m     \u001b[38;5;28;01mraise\u001b[39;00m \u001b[38;5;167;01mValueError\u001b[39;00m(\n\u001b[1;32m    277\u001b[0m         \u001b[38;5;124mf\u001b[39m\u001b[38;5;124m\"\u001b[39m\u001b[38;5;124mIPython won\u001b[39m\u001b[38;5;124m'\u001b[39m\u001b[38;5;124mt let you open fd=\u001b[39m\u001b[38;5;132;01m{\u001b[39;00mfile\u001b[38;5;132;01m}\u001b[39;00m\u001b[38;5;124m by default \u001b[39m\u001b[38;5;124m\"\u001b[39m\n\u001b[1;32m    278\u001b[0m         \u001b[38;5;124m\"\u001b[39m\u001b[38;5;124mas it is likely to crash IPython. If you know what you are doing, \u001b[39m\u001b[38;5;124m\"\u001b[39m\n\u001b[1;32m    279\u001b[0m         \u001b[38;5;124m\"\u001b[39m\u001b[38;5;124myou can use builtins\u001b[39m\u001b[38;5;124m'\u001b[39m\u001b[38;5;124m open.\u001b[39m\u001b[38;5;124m\"\u001b[39m\n\u001b[1;32m    280\u001b[0m     )\n\u001b[0;32m--> 282\u001b[0m \u001b[38;5;28;01mreturn\u001b[39;00m \u001b[43mio_open\u001b[49m\u001b[43m(\u001b[49m\u001b[43mfile\u001b[49m\u001b[43m,\u001b[49m\u001b[43m \u001b[49m\u001b[38;5;241;43m*\u001b[39;49m\u001b[43margs\u001b[49m\u001b[43m,\u001b[49m\u001b[43m \u001b[49m\u001b[38;5;241;43m*\u001b[39;49m\u001b[38;5;241;43m*\u001b[39;49m\u001b[43mkwargs\u001b[49m\u001b[43m)\u001b[49m\n",
      "\u001b[0;31mFileNotFoundError\u001b[0m: [Errno 2] No such file or directory: '/root/experiments/t2c_concode_220428_v38_plustsldkfjwoepoch/adapter_model.bin'"
     ]
    }
   ],
   "source": [
    "get_hash_experiment(experiment_name = \"t2c_concode_220428_v38_plustwoepoch\", \n",
    "                          experiment_path = \"/root/experiments/\",\n",
    "                          filename_list = [\"adapter_model.bin\", \n",
    "                                           'experiment_config.json',\n",
    "                                           \"adapter_config.json\"]\n",
    "                         )"
   ]
  },
  {
   "cell_type": "code",
   "execution_count": 39,
   "id": "711ab4ca",
   "metadata": {},
   "outputs": [
    {
     "name": "stdout",
     "output_type": "stream",
     "text": [
      "Fri May 26 12:17:21 2023       \r\n",
      "+-----------------------------------------------------------------------------+\r\n",
      "| NVIDIA-SMI 525.105.17   Driver Version: 525.105.17   CUDA Version: 12.0     |\r\n",
      "|-------------------------------+----------------------+----------------------+\r\n",
      "| GPU  Name        Persistence-M| Bus-Id        Disp.A | Volatile Uncorr. ECC |\r\n",
      "| Fan  Temp  Perf  Pwr:Usage/Cap|         Memory-Usage | GPU-Util  Compute M. |\r\n",
      "|                               |                      |               MIG M. |\r\n",
      "|===============================+======================+======================|\r\n",
      "|   0  NVIDIA GeForce ...  On   | 00000000:41:00.0 Off |                  N/A |\r\n",
      "| 30%   25C    P8    14W / 350W |      1MiB / 24576MiB |      0%      Default |\r\n",
      "|                               |                      |                  N/A |\r\n",
      "+-------------------------------+----------------------+----------------------+\r\n",
      "                                                                               \r\n",
      "+-----------------------------------------------------------------------------+\r\n",
      "| Processes:                                                                  |\r\n",
      "|  GPU   GI   CI        PID   Type   Process name                  GPU Memory |\r\n",
      "|        ID   ID                                                   Usage      |\r\n",
      "|=============================================================================|\r\n",
      "|  No running processes found                                                 |\r\n",
      "+-----------------------------------------------------------------------------+\r\n"
     ]
    }
   ],
   "source": [
    "!nvidia-smi"
   ]
  },
  {
   "cell_type": "code",
   "execution_count": 24,
   "id": "479885d7",
   "metadata": {},
   "outputs": [],
   "source": [
    "!mkdir /root/experiments/t2c_concode_220428_v38_plustwoepoch_test_copy"
   ]
  },
  {
   "cell_type": "code",
   "execution_count": 34,
   "id": "a25f5c84",
   "metadata": {},
   "outputs": [],
   "source": [
    "# !cp /root/experiments/t2c_concode_220428_v38_plustwoepoch/adapter_model.bin /root/experiments/t2c_concode_220428_v38_plustwoepoch_test_copy\n",
    "# !cp /root/experiments/t2c_concode_220428_v38_plustwoepoch/experiment_config.json /root/experiments/t2c_concode_220428_v38_plustwoepoch_test_copy\n",
    "# !cp /root/experiments/t2c_concode_220428_v38_plustwoepoch/adapter_config.json /root/experiments/t2c_concode_220428_v38_plustwoepoch_test_copy\n",
    "\n",
    "\n"
   ]
  },
  {
   "cell_type": "code",
   "execution_count": 30,
   "id": "8bda1218",
   "metadata": {},
   "outputs": [
    {
     "name": "stdout",
     "output_type": "stream",
     "text": [
      "adapter_config.json  adapter_model.bin\texperiment_config.json\r\n"
     ]
    }
   ],
   "source": [
    "!ls /root/experiments/t2c_concode_220428_v38_plustwoepoch_test_copy"
   ]
  },
  {
   "cell_type": "code",
   "execution_count": 35,
   "id": "1eeaaae1",
   "metadata": {},
   "outputs": [],
   "source": [
    "# h2 = \"\"\"/root/experiments/t2c_concode_220428_v38_plustwoepoch/adapter_model.bin-f33ae7e26d20987772b037ecd61f3021;/root/experiments/t2c_concode_220428_v38_plustwoepoch/experiment_config.json-797e81040a91cc07ac0de76ca9f581ee;/root/experiments/t2c_concode_220428_v38_plustwoepoch/adapter_config.json-5958f9f83cf24af529350e802b565fb0\"\"\"\n",
    "# res == h2\n",
    "# "
   ]
  },
  {
   "cell_type": "code",
   "execution_count": 36,
   "id": "bad001a0",
   "metadata": {},
   "outputs": [],
   "source": [
    "# hashlib.md5(open('/root/experiments/t2c_concode_220428_v38_plustwoepoch/adapter_model.bin',\n",
    "#                  'rb').read()).hexdigest()"
   ]
  },
  {
   "cell_type": "code",
   "execution_count": 37,
   "id": "ddcebdc5",
   "metadata": {},
   "outputs": [],
   "source": [
    "# !df -h ."
   ]
  },
  {
   "cell_type": "code",
   "execution_count": 38,
   "id": "ab18a3ec",
   "metadata": {},
   "outputs": [],
   "source": [
    "# !nvidia-smi"
   ]
  },
  {
   "cell_type": "code",
   "execution_count": null,
   "id": "968c9fcf",
   "metadata": {},
   "outputs": [],
   "source": []
  }
 ],
 "metadata": {
  "kernelspec": {
   "display_name": "Python 3 (ipykernel)",
   "language": "python",
   "name": "python3"
  },
  "language_info": {
   "codemirror_mode": {
    "name": "ipython",
    "version": 3
   },
   "file_extension": ".py",
   "mimetype": "text/x-python",
   "name": "python",
   "nbconvert_exporter": "python",
   "pygments_lexer": "ipython3",
   "version": "3.10.9"
  }
 },
 "nbformat": 4,
 "nbformat_minor": 5
}
