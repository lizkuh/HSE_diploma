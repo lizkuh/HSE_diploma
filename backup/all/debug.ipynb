{
 "cells": [
  {
   "cell_type": "code",
   "execution_count": null,
   "id": "59270a58",
   "metadata": {},
   "outputs": [],
   "source": [
    "To fix the bug I need to:\n",
    "    - test that evaluator.py works fine\n",
    "    - change evaluation to simmilar pipeline as in fintetune\n",
    "    - run an experiment at 1000 x 10 times (see that metrics are the same)"
   ]
  },
  {
   "cell_type": "code",
   "execution_count": 16,
   "id": "c708a7d4",
   "metadata": {},
   "outputs": [],
   "source": [
    "from create_subdataset import show_datasets_size, create_subsable_dataset\n",
    "from inference_v3 import inference"
   ]
  },
  {
   "cell_type": "code",
   "execution_count": 2,
   "id": "7a7451ad",
   "metadata": {},
   "outputs": [
    {
     "data": {
      "text/plain": [
       "1834"
      ]
     },
     "execution_count": 2,
     "metadata": {},
     "output_type": "execute_result"
    }
   ],
   "source": [
    "create_subsable_dataset(fn_train = \"alpaca-lora/t2c_concode/t2c_answers.json\", \n",
    "                        fn_val = \"alpaca-lora/t2c_concode/t2c_train.json\", \n",
    "                        fn_output = \"alpaca-lora/t2c_concode/t2c_10answers.json\", \n",
    "                        n_samples=10\n",
    "                       )\n",
    "\n",
    "# save dataset in format comfortable to evaluator.py \n",
    "# like here /root/CodeXGLUE/Text-Code/text-to-code/evaluator/answers.json\n",
    "# python /root/CodeXGLUE/Text-Code/text-to-code/evaluator/evaluator.py -a /root/CodeXGLUE/Text-Code/text-to-code/evaluator/answers.json -p {current_pred_name}\n",
    "import json\n",
    "answers = []\n",
    "\n",
    "lst = json.load(open(\"alpaca-lora/t2c_concode/t2c_10answers.json\", \"r\"))\n",
    "for i in lst:\n",
    "    answers.append({\"code\" : i['output'],\n",
    "                    \"nl\" : \"None\"\n",
    "                   }\n",
    "                  )\n",
    "\n",
    "res = '\\n'.join([json.dumps(i) for i in answers])\n",
    "open(\"alpaca-lora/t2c_concode/etalon/10answers.jsonl\", \"w+\").write(res)"
   ]
  },
  {
   "cell_type": "code",
   "execution_count": 3,
   "id": "bdfc3db6",
   "metadata": {},
   "outputs": [
    {
     "name": "stdout",
     "output_type": "stream",
     "text": [
      "|                     |   t2c_answers.json |   t2c_train.json |   t2c_test.json |   t2c_dev.json |   t2c_1000train.json |   t2c_10000train.json |   t2c_10answers.json |\n",
      "|:--------------------|-------------------:|-----------------:|----------------:|---------------:|---------------------:|----------------------:|---------------------:|\n",
      "| t2c_answers.json    |                 99 |               10 |               0 |             99 |                    0 |                     0 |                   10 |\n",
      "| t2c_train.json      |                 10 |            71262 |               0 |            114 |                  981 |                  9138 |                    0 |\n",
      "| t2c_test.json       |                  0 |                0 |               1 |              0 |                    0 |                     0 |                    0 |\n",
      "| t2c_dev.json        |                 99 |              114 |               0 |           1935 |                    0 |                     0 |                   10 |\n",
      "| t2c_1000train.json  |                  0 |              981 |               0 |              0 |                  981 |                   225 |                    0 |\n",
      "| t2c_10000train.json |                  0 |             9138 |               0 |              0 |                  225 |                  9138 |                    0 |\n",
      "| t2c_10answers.json  |                 10 |                0 |               0 |             10 |                    0 |                     0 |                   10 |\n"
     ]
    },
    {
     "data": {
      "text/html": [
       "<div>\n",
       "<style scoped>\n",
       "    .dataframe tbody tr th:only-of-type {\n",
       "        vertical-align: middle;\n",
       "    }\n",
       "\n",
       "    .dataframe tbody tr th {\n",
       "        vertical-align: top;\n",
       "    }\n",
       "\n",
       "    .dataframe thead th {\n",
       "        text-align: right;\n",
       "    }\n",
       "</style>\n",
       "<table border=\"1\" class=\"dataframe\">\n",
       "  <thead>\n",
       "    <tr style=\"text-align: right;\">\n",
       "      <th></th>\n",
       "      <th>t2c_answers.json</th>\n",
       "      <th>t2c_train.json</th>\n",
       "      <th>t2c_test.json</th>\n",
       "      <th>t2c_dev.json</th>\n",
       "      <th>t2c_1000train.json</th>\n",
       "      <th>t2c_10000train.json</th>\n",
       "      <th>t2c_10answers.json</th>\n",
       "    </tr>\n",
       "  </thead>\n",
       "  <tbody>\n",
       "    <tr>\n",
       "      <th>t2c_answers.json</th>\n",
       "      <td>99</td>\n",
       "      <td>10</td>\n",
       "      <td>0</td>\n",
       "      <td>99</td>\n",
       "      <td>0</td>\n",
       "      <td>0</td>\n",
       "      <td>10</td>\n",
       "    </tr>\n",
       "    <tr>\n",
       "      <th>t2c_train.json</th>\n",
       "      <td>10</td>\n",
       "      <td>71262</td>\n",
       "      <td>0</td>\n",
       "      <td>114</td>\n",
       "      <td>981</td>\n",
       "      <td>9138</td>\n",
       "      <td>0</td>\n",
       "    </tr>\n",
       "    <tr>\n",
       "      <th>t2c_test.json</th>\n",
       "      <td>0</td>\n",
       "      <td>0</td>\n",
       "      <td>1</td>\n",
       "      <td>0</td>\n",
       "      <td>0</td>\n",
       "      <td>0</td>\n",
       "      <td>0</td>\n",
       "    </tr>\n",
       "    <tr>\n",
       "      <th>t2c_dev.json</th>\n",
       "      <td>99</td>\n",
       "      <td>114</td>\n",
       "      <td>0</td>\n",
       "      <td>1935</td>\n",
       "      <td>0</td>\n",
       "      <td>0</td>\n",
       "      <td>10</td>\n",
       "    </tr>\n",
       "    <tr>\n",
       "      <th>t2c_1000train.json</th>\n",
       "      <td>0</td>\n",
       "      <td>981</td>\n",
       "      <td>0</td>\n",
       "      <td>0</td>\n",
       "      <td>981</td>\n",
       "      <td>225</td>\n",
       "      <td>0</td>\n",
       "    </tr>\n",
       "    <tr>\n",
       "      <th>t2c_10000train.json</th>\n",
       "      <td>0</td>\n",
       "      <td>9138</td>\n",
       "      <td>0</td>\n",
       "      <td>0</td>\n",
       "      <td>225</td>\n",
       "      <td>9138</td>\n",
       "      <td>0</td>\n",
       "    </tr>\n",
       "    <tr>\n",
       "      <th>t2c_10answers.json</th>\n",
       "      <td>10</td>\n",
       "      <td>0</td>\n",
       "      <td>0</td>\n",
       "      <td>10</td>\n",
       "      <td>0</td>\n",
       "      <td>0</td>\n",
       "      <td>10</td>\n",
       "    </tr>\n",
       "  </tbody>\n",
       "</table>\n",
       "</div>"
      ],
      "text/plain": [
       "                     t2c_answers.json  t2c_train.json  t2c_test.json   \n",
       "t2c_answers.json                   99              10              0  \\\n",
       "t2c_train.json                     10           71262              0   \n",
       "t2c_test.json                       0               0              1   \n",
       "t2c_dev.json                       99             114              0   \n",
       "t2c_1000train.json                  0             981              0   \n",
       "t2c_10000train.json                 0            9138              0   \n",
       "t2c_10answers.json                 10               0              0   \n",
       "\n",
       "                     t2c_dev.json  t2c_1000train.json  t2c_10000train.json   \n",
       "t2c_answers.json               99                   0                    0  \\\n",
       "t2c_train.json                114                 981                 9138   \n",
       "t2c_test.json                   0                   0                    0   \n",
       "t2c_dev.json                 1935                   0                    0   \n",
       "t2c_1000train.json              0                 981                  225   \n",
       "t2c_10000train.json             0                 225                 9138   \n",
       "t2c_10answers.json             10                   0                    0   \n",
       "\n",
       "                     t2c_10answers.json  \n",
       "t2c_answers.json                     10  \n",
       "t2c_train.json                        0  \n",
       "t2c_test.json                         0  \n",
       "t2c_dev.json                         10  \n",
       "t2c_1000train.json                    0  \n",
       "t2c_10000train.json                   0  \n",
       "t2c_10answers.json                   10  "
      ]
     },
     "execution_count": 3,
     "metadata": {},
     "output_type": "execute_result"
    }
   ],
   "source": [
    "res_dict = show_datasets_size(input_path = \"alpaca-lora/t2c_concode/\")\n",
    "import pandas as pd\n",
    "pd.DataFrame(res_dict)"
   ]
  },
  {
   "cell_type": "code",
   "execution_count": 10,
   "id": "68a40da7",
   "metadata": {},
   "outputs": [],
   "source": [
    "# hand check of the results\n",
    "\n",
    "res = open(\"/root/alpaca-lora/t2c_concode/results/2023-04-30-10_29_33.txt\", \"r\").read().split('\\n')\n",
    "\n",
    "import json\n",
    "answ = [json.loads(s)['code'] for s in open(\"alpaca-lora/t2c_concode/etalon/10answers.jsonl\", \"r\").read().split('\\n')]\n",
    "\n"
   ]
  },
  {
   "cell_type": "code",
   "execution_count": null,
   "id": "86aaa2a0",
   "metadata": {},
   "outputs": [],
   "source": []
  },
  {
   "cell_type": "code",
   "execution_count": 15,
   "id": "e0c1a622",
   "metadata": {},
   "outputs": [
    {
     "data": {
      "text/plain": [
       "('Item [ ] function ( ) { synchronized ( items ) { Item loc0 [ ] = new Item [ this . items . size ( ) ] ; return ( ( Item [ ] ) this . items . toArray ( loc0 ) ) ; } }',\n",
       " 'String[] getSkipDays = new String[skipDays.size()]; for (int i = 0; i < skipDays.size(); i++) { getSkipDays[i] = skipDays.get(i); } String[] findSkipDays = new String[skipDays.size()]; for (int i = 0; i < skipDays.size(); i++) { findSkipDays[i] = skipDays.get(i); } String[] findSkipHours = new String[skipHours.')"
      ]
     },
     "execution_count": 15,
     "metadata": {},
     "output_type": "execute_result"
    }
   ],
   "source": [
    "answ[3], res[3]"
   ]
  },
  {
   "cell_type": "code",
   "execution_count": 2,
   "id": "0a11d690",
   "metadata": {},
   "outputs": [
    {
     "name": "stderr",
     "output_type": "stream",
     "text": [
      "Overriding torch_dtype=None with `torch_dtype=torch.float16` due to requirements of `bitsandbytes` to enable model loading in mixed int8. Either pass torch_dtype=torch.float16 or don't pass this argument at all to remove this warning.\n"
     ]
    },
    {
     "data": {
      "application/vnd.jupyter.widget-view+json": {
       "model_id": "b9c2be3088c14fdf881f9c6360aa98f9",
       "version_major": 2,
       "version_minor": 0
      },
      "text/plain": [
       "Loading checkpoint shards:   0%|          | 0/33 [00:00<?, ?it/s]"
      ]
     },
     "metadata": {},
     "output_type": "display_data"
    },
    {
     "name": "stdout",
     "output_type": "stream",
     "text": [
      "alpaca-lora/t2c_concode_220428_finetune_v7/\n",
      "Below is an instruction that describes a task, paired with an input that provides further context. Write a response that appropriately completes the request.\n",
      "\n",
      "### Instruction:\n",
      "Generate java code\n",
      "look for fields in the specified class that begin with the specified prefix . \n",
      "\n",
      "### Input:\n",
      " String lineSep \n",
      " RootDoc root \n",
      " Map<ClassDoc,Set<ClassDoc>> cmap \n",
      " boolean dump_class_tree \n",
      "\n",
      " void gather_derived_classes \n",
      " void process_class_sorted_texinfo \n",
      " void process \n",
      " int find_enabled \n",
      " boolean start \n",
      " int optionLength \n",
      " void process_class_tree_txt\n",
      "\n",
      "### Response:\n",
      "\n"
     ]
    },
    {
     "name": "stderr",
     "output_type": "stream",
     "text": [
      "  0%|                                                     | 0/1 [00:00<?, ?it/s]Asking to truncate to max_length but no maximum length is provided and the model has no predefined maximum length. Default to no truncation.\n"
     ]
    },
    {
     "name": "stdout",
     "output_type": "stream",
     "text": [
      "0 10 10\n"
     ]
    },
    {
     "name": "stderr",
     "output_type": "stream",
     "text": [
      "100%|█████████████████████████████████████████████| 1/1 [01:04<00:00, 64.34s/it]\n",
      "100%|████████████████████████████████████████| 10/10 [00:00<00:00, 31488.77it/s]"
     ]
    },
    {
     "name": "stdout",
     "output_type": "stream",
     "text": [
      "empty res\n",
      "empty res\n",
      "empty res\n",
      "empty res\n",
      "empty res\n",
      "empty res\n",
      "empty res\n",
      "Save results at file /root/alpaca-lora/t2c_concode/results/2023-04-30-10_29_33.txt\n",
      "INFO:__main__:BLEU: 0.21, EM: 0.0\n",
      "\n",
      "\t\t[ind=0]\n",
      "\t\t>>metric_string\n",
      "INFO:__main__:BLEU: 0.21, EM: 0.0\n",
      "\n",
      "\t\t>>prompts_list\n",
      "Below is an instruction that describes a task, paired with an input that provides further context. Write a response that appropriately completes the request.\n",
      "\n",
      "### Instruction:\n",
      "Generate java code\n",
      "look for fields in the specified class that begin with the specified prefix . \n",
      "\n",
      "### Input:\n",
      " String lineSep \n",
      " RootDoc root \n",
      " Map<ClassDoc,Set<ClassDoc>> cmap \n",
      " boolean dump_class_tree \n",
      "\n",
      " void gather_derived_classes \n",
      " void process_class_sorted_texinfo \n",
      " void process \n",
      " int find_enabled \n",
      " boolean start \n",
      " int optionLength \n",
      " void process_class_tree_txt\n",
      "\n",
      "### Response:\n",
      "\n",
      "\t\t>>res_list\n",
      "  <unk><unk><unk><unk><unk><unk><unk><unk><unk><unk><unk><unk><unk><unk><unk><unk><unk><unk><unk><unk><unk><unk><unk><unk><unk><unk><unk><unk><unk><unk><unk><unk><unk><unk><unk><unk><unk><unk><unk><unk><unk><unk><unk><unk><unk><unk><unk><unk><unk><unk><unk><unk><unk><unk><unk><unk><unk><unk><unk><unk><unk><unk><unk><unk><unk><unk><unk><unk><unk><unk><unk><unk><unk><unk><unk><unk><unk><unk><unk><unk><unk><unk><unk><unk><unk><unk><unk><unk><unk><unk><unk><unk><unk><unk><unk><unk><unk><unk><unk><unk><unk><unk><unk><unk><unk><unk><unk><unk><unk><unk><unk><unk><unk><unk><unk><unk><unk><unk><unk><unk><unk><unk><unk><unk><unk><unk><unk><unk><unk><unk><unk><unk><unk><unk><unk><unk><unk><unk><unk><unk><unk><unk><unk><unk><unk><unk><unk><unk><unk><unk><unk><unk><unk><unk><unk><unk><unk><unk><unk><unk><unk><unk><unk><unk><unk><unk><unk><unk><unk><unk><unk><unk><unk><unk><unk><unk><unk><unk><unk><unk><unk><unk><unk><unk><unk><unk><unk><unk><unk><unk><unk><unk><unk><unk><unk><unk><unk><unk><unk><unk><unk><unk><unk><unk><unk><unk><unk><unk><unk><unk><unk><unk><unk><unk><unk><unk><unk><unk><unk><unk><unk><unk><unk><unk><unk><unk><unk><unk><unk><unk><unk><unk><unk><unk><unk><unk><unk><unk><unk><unk><unk><unk><unk><unk><unk><unk><unk><unk><unk><unk><unk><unk><unk><unk><unk><unk>Below is an instruction that describes a task, paired with an input that provides further context. Write a response that appropriately completes the request.\n",
      "\n",
      "### Instruction:\n",
      "Generate java code\n",
      "look for fields in the specified class that begin with the specified prefix. \n",
      "\n",
      "### Input:\n",
      " String lineSep \n",
      " RootDoc root \n",
      " Map<ClassDoc,Set<ClassDoc>> cmap \n",
      " boolean dump_class_tree \n",
      "\n",
      " void gather_derived_classes \n",
      " void process_class_sorted_texinfo \n",
      " void process \n",
      " int find_enabled \n",
      " boolean start \n",
      " int optionLength \n",
      " void process_class_tree_txt\n",
      "\n",
      "### Response:\n",
      "\n",
      "\n",
      "\n",
      "\n",
      "\n",
      "\n",
      "\n",
      "\n",
      "\n",
      "\n",
      "\n",
      "\n",
      "\n",
      "\n",
      "\n",
      "\n",
      "\n",
      "\n",
      "\n",
      "\n",
      "\n",
      "\n",
      "\n",
      "\n",
      "\n",
      "\n",
      "\n",
      "\n",
      "\n",
      "\n",
      "\n",
      "\n",
      "\n",
      "\n",
      "\n",
      "\n",
      "\n",
      "\n",
      "\n",
      "\n",
      "\n",
      "\n",
      "\n",
      "\n",
      "\n",
      "\n",
      "\n",
      "\n",
      "\n",
      "\n",
      "\n",
      "\n",
      "\n",
      "\n",
      "\n",
      "\n",
      "\n",
      "\n",
      "\n",
      "\n",
      "\n",
      "\n",
      "\n",
      "\n",
      "\n",
      "\n",
      "\n",
      "\n",
      "\n",
      "\n",
      "\n",
      "\n",
      "\n",
      "\n",
      "\n",
      "\n",
      "\n",
      "\n",
      "\n",
      "\n",
      "\n",
      "\n",
      "\n",
      "\n",
      "\n",
      "\n",
      "\n",
      "\n",
      "\n",
      "\n",
      "\n",
      "\n",
      "\n",
      "\n",
      "\n",
      "\n",
      "\n",
      "\n",
      "\n",
      "\n",
      "\n",
      "\n",
      "\n",
      "\n",
      "\n",
      "\n",
      "\n",
      "\n",
      "\n",
      "\n",
      "\n",
      "\n",
      "\n",
      "\n",
      "\n",
      "\n",
      "\n",
      "\n",
      "\n",
      "\n",
      "\n",
      "\n",
      "\n",
      "\n",
      "\n",
      "\n",
      "\n",
      "\n",
      "\n",
      "\t\t>>predict_list\n",
      " \n",
      "CPU times: user 5min 10s, sys: 17.5 s, total: 5min 28s\n",
      "Wall time: 1min 24s\n"
     ]
    },
    {
     "name": "stderr",
     "output_type": "stream",
     "text": [
      "\n"
     ]
    }
   ],
   "source": [
    "%%time\n",
    "results_dict = inference(default_model = \"decapoda-research/llama-7b-hf\", \n",
    "                         experiment_name = \"alpaca-lora/t2c_concode_220428_finetune_v7/\",\n",
    "                         test_dataset = 'alpaca-lora/t2c_concode/t2c_10answers.json',\n",
    "                         fn_answers = \"alpaca-lora/t2c_concode/etalon/10answers.jsonl\",\n",
    "                         batch_size = 10\n",
    "                        )\n",
    "\n",
    "for ind in [0]:\n",
    "    print(f\"\\t\\t[ind={ind}]\")\n",
    "    print('\\n'.join([\"\\t\\t>>\"+k + \"\\n\" + (v if isinstance(v, str) else v[ind]) for k, v in results_dict.items()]))"
   ]
  },
  {
   "cell_type": "code",
   "execution_count": null,
   "id": "2a48f66b",
   "metadata": {},
   "outputs": [],
   "source": [
    "%%time\n",
    "results_dict = inference(default_model = \"decapoda-research/llama-7b-hf\", \n",
    "                         experiment_name = \"alpaca-lora/t2c_concode_220428_finetune_v7/\",\n",
    "                         test_dataset = 'alpaca-lora/t2c_concode/t2c_10answers.json',\n",
    "                         fn_answers = \"alpaca-lora/t2c_concode/etalon/10answers.jsonl\",\n",
    "                         batch_size = 10\n",
    "                        )\n",
    "\n",
    "for ind in [0]:\n",
    "    print(f\"\\t\\t[ind={ind}]\")\n",
    "    print('\\n'.join([\"\\t\\t>>\"+k + \"\\n\" + (v if isinstance(v, str) else v[ind]) for k, v in results_dict.items()]))"
   ]
  },
  {
   "cell_type": "code",
   "execution_count": 7,
   "id": "96ca42ba",
   "metadata": {},
   "outputs": [
    {
     "data": {
      "text/plain": [
       "9"
      ]
     },
     "execution_count": 7,
     "metadata": {},
     "output_type": "execute_result"
    }
   ],
   "source": [
    "open(\"/root/alpaca-lora/t2c_concode/results/2023-04-29-20_42_34.txt\", \"r\").read().count('\\n')"
   ]
  },
  {
   "cell_type": "code",
   "execution_count": 3,
   "id": "b60eefa7",
   "metadata": {},
   "outputs": [
    {
     "name": "stderr",
     "output_type": "stream",
     "text": [
      "Overriding torch_dtype=None with `torch_dtype=torch.float16` due to requirements of `bitsandbytes` to enable model loading in mixed int8. Either pass torch_dtype=torch.float16 or don't pass this argument at all to remove this warning.\n"
     ]
    },
    {
     "data": {
      "application/vnd.jupyter.widget-view+json": {
       "model_id": "b997c3c9b4de461fa5ce27377c885d00",
       "version_major": 2,
       "version_minor": 0
      },
      "text/plain": [
       "Loading checkpoint shards:   0%|          | 0/33 [00:00<?, ?it/s]"
      ]
     },
     "metadata": {},
     "output_type": "display_data"
    },
    {
     "name": "stdout",
     "output_type": "stream",
     "text": [
      "Below is an instruction that describes a task, paired with an input that provides further context. Write a response that appropriately completes the request.\n",
      "    ### Instruction:\n",
      "    Generate java code\n",
      "returns the namespace uris found in the given xml file \n",
      "\n",
      "    ### Input:\n",
      "     SAXParserFactory factory \n",
      "\n",
      " void setFactory \n",
      " XmlNamespaceFinder createNamespaceFinder \n",
      " SAXParserFactory getFactory\n",
      "\n",
      "    ### Response:\n",
      "    \n"
     ]
    },
    {
     "name": "stderr",
     "output_type": "stream",
     "text": [
      "  0%|                                                     | 0/1 [00:00<?, ?it/s]Asking to truncate to max_length but no maximum length is provided and the model has no predefined maximum length. Default to no truncation.\n"
     ]
    },
    {
     "name": "stdout",
     "output_type": "stream",
     "text": [
      "0 10 10\n"
     ]
    },
    {
     "name": "stderr",
     "output_type": "stream",
     "text": [
      "100%|█████████████████████████████████████████████| 1/1 [01:15<00:00, 75.99s/it]\n",
      "100%|████████████████████████████████████████| 10/10 [00:00<00:00, 15202.26it/s]"
     ]
    },
    {
     "name": "stdout",
     "output_type": "stream",
     "text": [
      "Save results at file /root/alpaca-lora/t2c_concode/results/2023-04-29-20_34_53.txt\n",
      "INFO:__main__:BLEU: 0.64, EM: 0.0\n",
      "\n",
      "\t\t[ind=0]\n",
      "\t\t>>metric_string\n",
      "INFO:__main__:BLEU: 0.64, EM: 0.0\n",
      "\n",
      "\t\t>>prompts_list\n",
      "Below is an instruction that describes a task, paired with an input that provides further context. Write a response that appropriately completes the request.\n",
      "    ### Instruction:\n",
      "    Generate java code\n",
      "returns the namespace uris found in the given xml file \n",
      "\n",
      "    ### Input:\n",
      "     SAXParserFactory factory \n",
      "\n",
      " void setFactory \n",
      " XmlNamespaceFinder createNamespaceFinder \n",
      " SAXParserFactory getFactory\n",
      "\n",
      "    ### Response:\n",
      "    \n",
      "\t\t>>res_list\n",
      "  <unk><unk><unk><unk><unk><unk><unk><unk><unk><unk><unk><unk><unk><unk><unk><unk><unk><unk><unk><unk><unk><unk><unk><unk><unk><unk><unk><unk><unk><unk><unk><unk><unk><unk><unk><unk><unk><unk><unk><unk><unk><unk><unk><unk><unk><unk><unk><unk><unk><unk><unk><unk><unk><unk><unk><unk><unk><unk><unk><unk><unk><unk><unk><unk><unk><unk><unk><unk><unk><unk><unk><unk><unk><unk><unk><unk><unk><unk><unk><unk><unk><unk><unk><unk><unk><unk><unk><unk><unk><unk><unk><unk><unk><unk><unk><unk><unk><unk><unk><unk><unk><unk><unk><unk><unk><unk><unk><unk><unk><unk><unk><unk><unk><unk><unk><unk><unk><unk><unk><unk><unk><unk><unk><unk><unk><unk><unk><unk><unk><unk><unk><unk><unk><unk><unk><unk><unk><unk><unk><unk><unk><unk><unk><unk><unk><unk><unk><unk><unk><unk><unk><unk><unk><unk><unk><unk><unk><unk><unk><unk><unk><unk><unk><unk><unk><unk><unk><unk><unk><unk><unk><unk><unk><unk><unk><unk><unk><unk><unk><unk><unk><unk><unk><unk><unk><unk><unk><unk><unk><unk><unk><unk><unk><unk><unk><unk><unk><unk><unk><unk><unk><unk><unk><unk><unk><unk><unk><unk><unk><unk><unk><unk><unk><unk><unk><unk><unk><unk><unk><unk><unk><unk><unk><unk><unk><unk><unk><unk><unk><unk><unk><unk><unk><unk><unk><unk><unk><unk><unk><unk><unk><unk><unk><unk><unk><unk><unk><unk><unk><unk><unk><unk><unk><unk><unk><unk><unk><unk><unk><unk><unk><unk><unk><unk><unk><unk><unk><unk><unk><unk><unk><unk><unk><unk><unk><unk><unk><unk><unk><unk><unk><unk><unk><unk><unk><unk><unk><unk><unk><unk><unk><unk><unk><unk><unk><unk><unk><unk><unk><unk><unk><unk><unk><unk><unk><unk><unk><unk><unk><unk><unk>Below is an instruction that describes a task, paired with an input that provides further context. Write a response that appropriately completes the request.\n",
      "    ### Instruction:\n",
      "    Generate java code\n",
      "returns the namespace uris found in the given xml file \n",
      "\n",
      "    ### Input:\n",
      "     SAXParserFactory factory \n",
      "\n",
      " void setFactory \n",
      " XmlNamespaceFinder createNamespaceFinder \n",
      " SAXParserFactory getFactory\n",
      "\n",
      "    ### Response:\n",
      "     String namespaceUris \n",
      "\n",
      "    ### Output:\n",
      "     String namespaceUris \n",
      "\n",
      "    ### Examples:\n",
      "     String namespaceUris = generateJavaCode(factory, createNamespaceFinder);\n",
      "\n",
      "    ### Explanation:\n",
      "     The input is a factory and a namespace finder. The factory is used to create a parser. The namespace finder is used to find the namespace uris.\n",
      "     The output is the namespace uris.\n",
      "\n",
      "    ### References:\n",
      "     http://www.w3.org/TR/xml-names/\n",
      "\n",
      "    ### Implementation:\n",
      "    \n",
      "\t\t>>predict_list\n",
      "String namespaceUris ### Output: String namespaceUris ### Examples: String namespaceUris = generateJavaCode(factory, createNamespaceFinder); ### Explanation: The input is a factory and a namespace finder. The factory is used to create a parser. The namespace finder is used to find the namespace uris. The output is the namespace uris.\n",
      "CPU times: user 6min 5s, sys: 18.2 s, total: 6min 23s\n",
      "Wall time: 1min 35s\n"
     ]
    },
    {
     "name": "stderr",
     "output_type": "stream",
     "text": [
      "\n"
     ]
    }
   ],
   "source": []
  },
  {
   "cell_type": "code",
   "execution_count": 5,
   "id": "a12c687d",
   "metadata": {},
   "outputs": [],
   "source": [
    "# !head /root/alpaca-lora/t2c_concode/results/2023-04-29-20_34_53.txt"
   ]
  },
  {
   "cell_type": "code",
   "execution_count": 2,
   "id": "68071cab",
   "metadata": {},
   "outputs": [
    {
     "name": "stderr",
     "output_type": "stream",
     "text": [
      "Overriding torch_dtype=None with `torch_dtype=torch.float16` due to requirements of `bitsandbytes` to enable model loading in mixed int8. Either pass torch_dtype=torch.float16 or don't pass this argument at all to remove this warning.\n"
     ]
    },
    {
     "data": {
      "application/vnd.jupyter.widget-view+json": {
       "model_id": "408c155422dd4dc8bd219d7b9b070bb5",
       "version_major": 2,
       "version_minor": 0
      },
      "text/plain": [
       "Loading checkpoint shards:   0%|          | 0/33 [00:00<?, ?it/s]"
      ]
     },
     "metadata": {},
     "output_type": "display_data"
    },
    {
     "name": "stdout",
     "output_type": "stream",
     "text": [
      "Below is an instruction that describes a task, paired with an input that provides further context. Write a response that appropriately completes the request.\n",
      "    ### Instruction:\n",
      "    Generate java code\n",
      "returns the namespace uris found in the given xml file \n",
      "\n",
      "    ### Input:\n",
      "     SAXParserFactory factory \n",
      "\n",
      " void setFactory \n",
      " XmlNamespaceFinder createNamespaceFinder \n",
      " SAXParserFactory getFactory\n",
      "\n",
      "    ### Response:\n",
      "    \n"
     ]
    },
    {
     "name": "stderr",
     "output_type": "stream",
     "text": [
      "  0%|                                                     | 0/1 [00:00<?, ?it/s]Asking to truncate to max_length but no maximum length is provided and the model has no predefined maximum length. Default to no truncation.\n"
     ]
    },
    {
     "name": "stdout",
     "output_type": "stream",
     "text": [
      "0 10 10\n"
     ]
    },
    {
     "name": "stderr",
     "output_type": "stream",
     "text": [
      "100%|█████████████████████████████████████████████| 1/1 [01:15<00:00, 75.17s/it]\n",
      "100%|████████████████████████████████████████| 10/10 [00:00<00:00, 18876.26it/s]"
     ]
    },
    {
     "name": "stdout",
     "output_type": "stream",
     "text": [
      "Save results at file /root/alpaca-lora/t2c_concode/results/2023-04-29-19_36_14.txt\n",
      "INFO:__main__:BLEU: 0.64, EM: 0.0\n",
      "\n",
      "\t\t[ind=0]\n",
      "\t\t>>metric_string\n",
      "INFO:__main__:BLEU: 0.64, EM: 0.0\n",
      "\n",
      "\t\t>>prompts_list\n",
      "Below is an instruction that describes a task, paired with an input that provides further context. Write a response that appropriately completes the request.\n",
      "    ### Instruction:\n",
      "    Generate java code\n",
      "returns the namespace uris found in the given xml file \n",
      "\n",
      "    ### Input:\n",
      "     SAXParserFactory factory \n",
      "\n",
      " void setFactory \n",
      " XmlNamespaceFinder createNamespaceFinder \n",
      " SAXParserFactory getFactory\n",
      "\n",
      "    ### Response:\n",
      "    \n",
      "\t\t>>res_list\n",
      "  <unk><unk><unk><unk><unk><unk><unk><unk><unk><unk><unk><unk><unk><unk><unk><unk><unk><unk><unk><unk><unk><unk><unk><unk><unk><unk><unk><unk><unk><unk><unk><unk><unk><unk><unk><unk><unk><unk><unk><unk><unk><unk><unk><unk><unk><unk><unk><unk><unk><unk><unk><unk><unk><unk><unk><unk><unk><unk><unk><unk><unk><unk><unk><unk><unk><unk><unk><unk><unk><unk><unk><unk><unk><unk><unk><unk><unk><unk><unk><unk><unk><unk><unk><unk><unk><unk><unk><unk><unk><unk><unk><unk><unk><unk><unk><unk><unk><unk><unk><unk><unk><unk><unk><unk><unk><unk><unk><unk><unk><unk><unk><unk><unk><unk><unk><unk><unk><unk><unk><unk><unk><unk><unk><unk><unk><unk><unk><unk><unk><unk><unk><unk><unk><unk><unk><unk><unk><unk><unk><unk><unk><unk><unk><unk><unk><unk><unk><unk><unk><unk><unk><unk><unk><unk><unk><unk><unk><unk><unk><unk><unk><unk><unk><unk><unk><unk><unk><unk><unk><unk><unk><unk><unk><unk><unk><unk><unk><unk><unk><unk><unk><unk><unk><unk><unk><unk><unk><unk><unk><unk><unk><unk><unk><unk><unk><unk><unk><unk><unk><unk><unk><unk><unk><unk><unk><unk><unk><unk><unk><unk><unk><unk><unk><unk><unk><unk><unk><unk><unk><unk><unk><unk><unk><unk><unk><unk><unk><unk><unk><unk><unk><unk><unk><unk><unk><unk><unk><unk><unk><unk><unk><unk><unk><unk><unk><unk><unk><unk><unk><unk><unk><unk><unk><unk><unk><unk><unk><unk><unk><unk><unk><unk><unk><unk><unk><unk><unk><unk><unk><unk><unk><unk><unk><unk><unk><unk><unk><unk><unk><unk><unk><unk><unk><unk><unk><unk><unk><unk><unk><unk><unk><unk><unk><unk><unk><unk><unk><unk><unk><unk><unk><unk><unk><unk><unk><unk><unk><unk><unk><unk><unk>Below is an instruction that describes a task, paired with an input that provides further context. Write a response that appropriately completes the request.\n",
      "    ### Instruction:\n",
      "    Generate java code\n",
      "returns the namespace uris found in the given xml file \n",
      "\n",
      "    ### Input:\n",
      "     SAXParserFactory factory \n",
      "\n",
      " void setFactory \n",
      " XmlNamespaceFinder createNamespaceFinder \n",
      " SAXParserFactory getFactory\n",
      "\n",
      "    ### Response:\n",
      "     String namespaceUris \n",
      "\n",
      "    ### Output:\n",
      "     String namespaceUris \n",
      "\n",
      "    ### Examples:\n",
      "     String namespaceUris = generateJavaCode(factory, createNamespaceFinder);\n",
      "\n",
      "    ### Explanation:\n",
      "     The input is a factory and a namespace finder. The factory is used to create a parser. The namespace finder is used to find the namespace uris.\n",
      "     The output is the namespace uris.\n",
      "\n",
      "    ### References:\n",
      "     http://www.w3.org/TR/xml-names/\n",
      "\n",
      "    ### Implementation:\n",
      "    \n",
      "\t\t>>predict_list\n",
      "String namespaceUris ### Output: String namespaceUris ### Examples: String namespaceUris = generateJavaCode(factory, createNamespaceFinder); ### Explanation: The input is a factory and a namespace finder. The factory is used to create a parser. The namespace finder is used to find the namespace uris. The output is the namespace uris.\n",
      "CPU times: user 6min 1s, sys: 18.2 s, total: 6min 19s\n",
      "Wall time: 1min 34s\n"
     ]
    },
    {
     "name": "stderr",
     "output_type": "stream",
     "text": [
      "\n"
     ]
    }
   ],
   "source": [
    "%%time\n",
    "results_dict = inference(default_model = \"decapoda-research/llama-7b-hf\", \n",
    "                         experiment_name = \"alpaca-lora/t2c_concode_220428_finetune_v7/\",\n",
    "                         test_dataset = 'alpaca-lora/t2c_concode/t2c_10answers.json',\n",
    "                         fn_answers = \"alpaca-lora/t2c_concode/etalon/10answers.jsonl\",\n",
    "                         batch_size = 10\n",
    "                        )\n",
    "\n",
    "for ind in [0]:\n",
    "    print(f\"\\t\\t[ind={ind}]\")\n",
    "    print('\\n'.join([\"\\t\\t>>\"+k + \"\\n\" + (v if isinstance(v, str) else v[ind]) for k, v in results_dict.items()]))"
   ]
  },
  {
   "cell_type": "code",
   "execution_count": 4,
   "id": "5c23b20e",
   "metadata": {},
   "outputs": [
    {
     "name": "stderr",
     "output_type": "stream",
     "text": [
      "Overriding torch_dtype=None with `torch_dtype=torch.float16` due to requirements of `bitsandbytes` to enable model loading in mixed int8. Either pass torch_dtype=torch.float16 or don't pass this argument at all to remove this warning.\n"
     ]
    },
    {
     "data": {
      "application/vnd.jupyter.widget-view+json": {
       "model_id": "69af1a4bf8634b13bdb864d27c22083b",
       "version_major": 2,
       "version_minor": 0
      },
      "text/plain": [
       "Loading checkpoint shards:   0%|          | 0/33 [00:00<?, ?it/s]"
      ]
     },
     "metadata": {},
     "output_type": "display_data"
    },
    {
     "name": "stdout",
     "output_type": "stream",
     "text": [
      "Below is an instruction that describes a task, paired with an input that provides further context. Write a response that appropriately completes the request.\n",
      "    ### Instruction:\n",
      "    Generate java code\n",
      "returns the namespace uris found in the given xml file \n",
      "\n",
      "    ### Input:\n",
      "     SAXParserFactory factory \n",
      "\n",
      " void setFactory \n",
      " XmlNamespaceFinder createNamespaceFinder \n",
      " SAXParserFactory getFactory\n",
      "\n",
      "    ### Response:\n",
      "    \n"
     ]
    },
    {
     "name": "stderr",
     "output_type": "stream",
     "text": [
      "  0%|                                                     | 0/1 [00:00<?, ?it/s]Asking to truncate to max_length but no maximum length is provided and the model has no predefined maximum length. Default to no truncation.\n"
     ]
    },
    {
     "name": "stdout",
     "output_type": "stream",
     "text": [
      "0 10 10\n"
     ]
    },
    {
     "name": "stderr",
     "output_type": "stream",
     "text": [
      "100%|█████████████████████████████████████████████| 1/1 [01:16<00:00, 76.71s/it]\n",
      "100%|████████████████████████████████████████| 10/10 [00:00<00:00, 64927.31it/s]"
     ]
    },
    {
     "name": "stdout",
     "output_type": "stream",
     "text": [
      "Save results at file /root/alpaca-lora/t2c_concode/results/2023-04-29-18_41_20.txt\n",
      "INFO:__main__:BLEU: 19.52, EM: 20.0\n",
      "\n"
     ]
    },
    {
     "name": "stderr",
     "output_type": "stream",
     "text": [
      "\n"
     ]
    }
   ],
   "source": [
    "%%time\n",
    "results_dict = inference(default_model = \"decapoda-research/llama-7b-hf\", \n",
    "                         experiment_name = \"alpaca-lora/t2c_concode_220428_v6\",\n",
    "                         test_dataset = 'alpaca-lora/t2c_concode/t2c_10answers.json',\n",
    "                         fn_answers = \"alpaca-lora/t2c_concode/etalon/10answers.jsonl\",\n",
    "                         batch_size = 10\n",
    "                        )\n",
    "\n",
    "for ind in [0]:\n",
    "    print(f\"\\t\\t[ind={ind}]\")\n",
    "    print('\\n'.join([\"\\t\\t>>\"+k + \"\\n\" + (v if isinstance(v, str) else v[ind]) for k, v in results_dict.items()]))"
   ]
  },
  {
   "cell_type": "code",
   "execution_count": 33,
   "id": "e2ce1a0e",
   "metadata": {},
   "outputs": [
    {
     "name": "stdout",
     "output_type": "stream",
     "text": [
      "\t\t[ind=0]\n",
      "\t\t>>metric_string\n",
      "INFO:__main__:BLEU: 19.52, EM: 20.0\n",
      "\n",
      "\t\t>>prompts_list\n",
      "Below is an instruction that describes a task, paired with an input that provides further context. Write a response that appropriately completes the request.\n",
      "    ### Instruction:\n",
      "    Generate java code\n",
      "returns the namespace uris found in the given xml file \n",
      "\n",
      "    ### Input:\n",
      "     SAXParserFactory factory \n",
      "\n",
      " void setFactory \n",
      " XmlNamespaceFinder createNamespaceFinder \n",
      " SAXParserFactory getFactory\n",
      "\n",
      "    ### Response:\n",
      "    \n",
      "\t\t>>res_list\n",
      "  <unk><unk><unk><unk><unk><unk><unk><unk><unk><unk><unk><unk><unk><unk><unk><unk><unk><unk><unk><unk><unk><unk><unk><unk><unk><unk><unk><unk><unk><unk><unk><unk><unk><unk><unk><unk><unk><unk><unk><unk><unk><unk><unk><unk><unk><unk><unk><unk><unk><unk><unk><unk><unk><unk><unk><unk><unk><unk><unk><unk><unk><unk><unk><unk><unk><unk><unk><unk><unk><unk><unk><unk><unk><unk><unk><unk><unk><unk><unk><unk><unk><unk><unk><unk><unk><unk><unk><unk><unk><unk><unk><unk><unk><unk><unk><unk><unk><unk><unk><unk><unk><unk><unk><unk><unk><unk><unk><unk><unk><unk><unk><unk><unk><unk><unk><unk><unk><unk><unk><unk><unk><unk><unk><unk><unk><unk><unk><unk><unk><unk><unk><unk><unk><unk><unk><unk><unk><unk><unk><unk><unk><unk><unk><unk><unk><unk><unk><unk><unk><unk><unk><unk><unk><unk><unk><unk><unk><unk><unk><unk><unk><unk><unk><unk><unk><unk><unk><unk><unk><unk><unk><unk><unk><unk><unk><unk><unk><unk><unk><unk><unk><unk><unk><unk><unk><unk><unk><unk><unk><unk><unk><unk><unk><unk><unk><unk><unk><unk><unk><unk><unk><unk><unk><unk><unk><unk><unk><unk><unk><unk><unk><unk><unk><unk><unk><unk><unk><unk><unk><unk><unk><unk><unk><unk><unk><unk><unk><unk><unk><unk><unk><unk><unk><unk><unk><unk><unk><unk><unk><unk><unk><unk><unk><unk><unk><unk><unk><unk><unk><unk><unk><unk><unk><unk><unk><unk><unk><unk><unk><unk><unk><unk><unk><unk><unk><unk><unk><unk><unk><unk><unk><unk><unk><unk><unk><unk><unk><unk><unk><unk><unk><unk><unk><unk><unk><unk><unk><unk><unk><unk><unk><unk><unk><unk><unk><unk><unk><unk><unk><unk><unk><unk><unk><unk><unk><unk><unk><unk><unk><unk><unk>Below is an instruction that describes a task, paired with an input that provides further context. Write a response that appropriately completes the request.\n",
      "    ### Instruction:\n",
      "    Generate java code\n",
      "returns the namespace uris found in the given xml file \n",
      "\n",
      "    ### Input:\n",
      "     SAXParserFactory factory \n",
      "\n",
      " void setFactory \n",
      " XmlNamespaceFinder createNamespaceFinder \n",
      " SAXParserFactory getFactory\n",
      "\n",
      "    ### Response:\n",
      "     Vector function ( File arg0 ) { if ( factory == null ) { factory = createSAXParserFactory ( ) ; } Vector loc0 = new Vector ( ) ; try { SAXParser loc1 = factory. createSAXParser ( ) ; loc1. parse ( arg0, null ) ; } catch ( SAXException loc2 ) { loc2. printStackTrace ( ) ; return null ; } Vector loc0 loc3 = ( ( XmlNamespaceFinder ) arg0. getClass ( ). getName ( ) ). findNamespaceUris ( loc1 ) ; return loc0 ; }\n",
      "\t\t>>predict_list\n",
      "Vector function ( File arg0 ) { if ( factory == null ) { factory = createSAXParserFactory ( ) ; } Vector loc0 = new Vector ( ) ; try { SAXParser loc1 = factory. createSAXParser ( ) ; loc1. parse ( arg0, null ) ; } catch ( SAXException loc2 ) { loc2. printStackTrace ( ) ; return null ; } Vector loc0 loc3 = ( ( XmlNamespaceFinder ) arg0. getClass ( ). getName ( ) ). findNamespaceUris ( loc1 ) ; return loc0 ; }\n"
     ]
    }
   ],
   "source": [
    "for ind in [0]:\n",
    "    print(f\"\\t\\t[ind={ind}]\")\n",
    "    print('\\n'.join([\"\\t\\t>>\"+k + \"\\n\" + (v if isinstance(v, str) else v[ind]) for k, v in results_dict.items()]))"
   ]
  },
  {
   "cell_type": "code",
   "execution_count": null,
   "id": "a0451964",
   "metadata": {},
   "outputs": [],
   "source": [
    "python finetune.py  --base_model='decapoda-research/llama-7b-hf' --data_path=\"t2c_concode/t2c_1000train.json\" --val_set_size=10"
   ]
  },
  {
   "cell_type": "code",
   "execution_count": null,
   "id": "4ca067c8",
   "metadata": {},
   "outputs": [],
   "source": [
    "python finetune.py  --base_model='decapoda-research/llama-7b-hf' --data_path=\"t2c_concode/t2c_1000train.json\" --val_set_size=10 --experiment_name=\"t2c_concode_220428_finetune_v7\" --resume_from_checkpoint=\"t2c_concode_220428_finetune_v7\"\n",
    "\n",
    "\n"
   ]
  },
  {
   "cell_type": "code",
   "execution_count": null,
   "id": "263a9702",
   "metadata": {},
   "outputs": [],
   "source": [
    "python generate.py  --base_model='decapoda-research/llama-7b-hf' --lora_weights=\"t2c_concode_220428_finetune_v7\"\n"
   ]
  },
  {
   "cell_type": "code",
   "execution_count": 18,
   "id": "4442bb57",
   "metadata": {},
   "outputs": [
    {
     "name": "stdout",
     "output_type": "stream",
     "text": [
      "KeyboardInterrupt\n"
     ]
    }
   ],
   "source": [
    "import time\n",
    "try:\n",
    "    # do something that may fail\n",
    "    time.sleep(0.5)\n",
    "    print(1/0)\n",
    "except KeyboardInterrupt:\n",
    "    # say please\n",
    "    print(\"KeyboardInterrupt\")\n",
    "except Exception as e:\n",
    "    print(\"Exception: \", str(e))\n",
    "    # say please"
   ]
  },
  {
   "cell_type": "code",
   "execution_count": 15,
   "id": "a01ca765",
   "metadata": {},
   "outputs": [
    {
     "ename": "NameError",
     "evalue": "name 'e' is not defined",
     "output_type": "error",
     "traceback": [
      "\u001b[0;31m---------------------------------------------------------------------------\u001b[0m",
      "\u001b[0;31mNameError\u001b[0m                                 Traceback (most recent call last)",
      "Cell \u001b[0;32mIn[15], line 1\u001b[0m\n\u001b[0;32m----> 1\u001b[0m \u001b[43me\u001b[49m\n",
      "\u001b[0;31mNameError\u001b[0m: name 'e' is not defined"
     ]
    }
   ],
   "source": [
    "e"
   ]
  },
  {
   "cell_type": "code",
   "execution_count": 1,
   "id": "7a3f1e63",
   "metadata": {},
   "outputs": [],
   "source": [
    "from transformers import LLaMAForCausalLM, LLaMATokenizer, GenerationConfig"
   ]
  },
  {
   "cell_type": "code",
   "execution_count": 3,
   "id": "a46e9fba",
   "metadata": {},
   "outputs": [
    {
     "data": {
      "text/plain": [
       "[2, 3]"
      ]
     },
     "execution_count": 3,
     "metadata": {},
     "output_type": "execute_result"
    }
   ],
   "source": [
    "# GenerationConfig()\n",
    "lst = [1,2,3,4]\n",
    "lst[1:3]"
   ]
  },
  {
   "cell_type": "code",
   "execution_count": null,
   "id": "11d1f017",
   "metadata": {},
   "outputs": [],
   "source": []
  }
 ],
 "metadata": {
  "kernelspec": {
   "display_name": "Python 3 (ipykernel)",
   "language": "python",
   "name": "python3"
  },
  "language_info": {
   "codemirror_mode": {
    "name": "ipython",
    "version": 3
   },
   "file_extension": ".py",
   "mimetype": "text/x-python",
   "name": "python",
   "nbconvert_exporter": "python",
   "pygments_lexer": "ipython3",
   "version": "3.10.9"
  }
 },
 "nbformat": 4,
 "nbformat_minor": 5
}
