{
 "cells": [
  {
   "cell_type": "code",
   "execution_count": 1,
   "id": "ac0aa2a2",
   "metadata": {},
   "outputs": [
    {
     "name": "stdout",
     "output_type": "stream",
     "text": [
      "Cloning into 'CodeXGLUE'...\n",
      "remote: Enumerating objects: 3297, done.\u001b[K\n",
      "remote: Counting objects: 100% (187/187), done.\u001b[K\n",
      "remote: Compressing objects: 100% (106/106), done.\u001b[K\n",
      "remote: Total 3297 (delta 119), reused 125 (delta 79), pack-reused 3110\u001b[K\n",
      "Receiving objects: 100% (3297/3297), 213.13 MiB | 45.41 MiB/s, done.\n",
      "Resolving deltas: 100% (1697/1697), done.\n",
      "Checking out files: 100% (400/400), done.\n"
     ]
    }
   ],
   "source": [
    "!git clone https://github.com/microsoft/CodeXGLUE"
   ]
  },
  {
   "cell_type": "code",
   "execution_count": 6,
   "id": "b08dd7df",
   "metadata": {},
   "outputs": [
    {
     "name": "stdout",
     "output_type": "stream",
     "text": [
      " CodeXGLUE\t\t        alpaca-lora   read_dataset.ipynb\r\n",
      "'YT_Alpaca_7B_LoRa (5).ipynb'   onstart.sh\r\n"
     ]
    }
   ],
   "source": [
    "# %cd CodeXGLUE\n",
    "!ls"
   ]
  },
  {
   "cell_type": "code",
   "execution_count": 7,
   "id": "3a77e6cd",
   "metadata": {},
   "outputs": [],
   "source": [
    "import os\n",
    "import pandas as pd"
   ]
  },
  {
   "cell_type": "code",
   "execution_count": 8,
   "id": "fcfddfe5",
   "metadata": {},
   "outputs": [
    {
     "name": "stdout",
     "output_type": "stream",
     "text": [
      "CodeXGLUE/Code-Text/code-to-text\n",
      "CodeXGLUE/Text-Code/NL-code-search-Adv\n"
     ]
    },
    {
     "data": {
      "text/plain": [
       "[{'task_name': 'Code-Code',\n",
       "  'dataset_name': 'Clone-detection-BigCloneBench',\n",
       "  'fn': 'CodeXGLUE/Code-Code/Clone-detection-BigCloneBench/dataset'},\n",
       " {'task_name': 'Code-Code',\n",
       "  'dataset_name': 'Clone-detection-POJ-104',\n",
       "  'fn': 'CodeXGLUE/Code-Code/Clone-detection-POJ-104/dataset'},\n",
       " {'task_name': 'Code-Code',\n",
       "  'dataset_name': 'ClozeTesting-all',\n",
       "  'fn': 'CodeXGLUE/Code-Code/ClozeTesting-all/data'},\n",
       " {'task_name': 'Code-Code',\n",
       "  'dataset_name': 'ClozeTesting-maxmin',\n",
       "  'fn': 'CodeXGLUE/Code-Code/ClozeTesting-maxmin/data'},\n",
       " {'task_name': 'Code-Code',\n",
       "  'dataset_name': 'CodeCompletion-line',\n",
       "  'fn': 'CodeXGLUE/Code-Code/CodeCompletion-line/dataset'},\n",
       " {'task_name': 'Code-Code',\n",
       "  'dataset_name': 'CodeCompletion-token',\n",
       "  'fn': 'CodeXGLUE/Code-Code/CodeCompletion-token/dataset'},\n",
       " {'task_name': 'Code-Code',\n",
       "  'dataset_name': 'Defect-detection',\n",
       "  'fn': 'CodeXGLUE/Code-Code/Defect-detection/dataset'},\n",
       " {'task_name': 'Code-Code',\n",
       "  'dataset_name': 'Method-Generation',\n",
       "  'fn': 'CodeXGLUE/Code-Code/Method-Generation/dataset'},\n",
       " {'task_name': 'Code-Code',\n",
       "  'dataset_name': 'TypePrediction-TypeScript',\n",
       "  'fn': 'CodeXGLUE/Code-Code/TypePrediction-TypeScript/dataset'},\n",
       " {'task_name': 'Code-Code',\n",
       "  'dataset_name': 'code-refinement',\n",
       "  'fn': 'CodeXGLUE/Code-Code/code-refinement/data'},\n",
       " {'task_name': 'Code-Code',\n",
       "  'dataset_name': 'code-to-code-trans',\n",
       "  'fn': 'CodeXGLUE/Code-Code/code-to-code-trans/data'},\n",
       " {'task_name': 'Text-Code',\n",
       "  'dataset_name': 'NL-code-search-WebQuery',\n",
       "  'fn': 'CodeXGLUE/Text-Code/NL-code-search-WebQuery/data'},\n",
       " {'task_name': 'Text-Code',\n",
       "  'dataset_name': 'text-to-code',\n",
       "  'fn': 'CodeXGLUE/Text-Code/text-to-code/dataset'},\n",
       " {'task_name': 'Text-Text',\n",
       "  'dataset_name': 'text-to-text',\n",
       "  'fn': 'CodeXGLUE/Text-Text/text-to-text/data'}]"
      ]
     },
     "execution_count": 8,
     "metadata": {},
     "output_type": "execute_result"
    }
   ],
   "source": [
    "PATH = \"CodeXGLUE\"\n",
    "res = []\n",
    "task_name_list = []\n",
    "for task_name in os.listdir(PATH):\n",
    "    if '-' in task_name and task_name[0].isupper():\n",
    "        task_name_list.append(task_name)\n",
    "\n",
    "for task_name in task_name_list:\n",
    "    for dataset_name in os.listdir(os.path.join(PATH, task_name)):\n",
    "        list_of_files = os.listdir(os.path.join(PATH, \n",
    "                                                task_name, \n",
    "                                                dataset_name) \n",
    "                                  )\n",
    "        if any(['.zip' in i for i in list_of_files]):\n",
    "            print(os.path.join(PATH, task_name, dataset_name) )\n",
    "        \n",
    "        for folder_name in ['data', 'dataset']:\n",
    "            if folder_name in list_of_files:\n",
    "                fn = os.path.join(PATH, \n",
    "                                  task_name, \n",
    "                                  dataset_name,\n",
    "                                  folder_name\n",
    "                                 )\n",
    "                res.append({\"task_name\": task_name,\n",
    "                            \"dataset_name\": dataset_name,\n",
    "                            \"fn\": fn\n",
    "                           })\n",
    "res"
   ]
  },
  {
   "cell_type": "code",
   "execution_count": null,
   "id": "599cf4cf",
   "metadata": {},
   "outputs": [],
   "source": [
    "!ls CodeXGLUE/Code-Text/code-to-text"
   ]
  },
  {
   "cell_type": "code",
   "execution_count": 9,
   "id": "a48b1424",
   "metadata": {},
   "outputs": [
    {
     "data": {
      "text/html": [
       "<div>\n",
       "<style scoped>\n",
       "    .dataframe tbody tr th:only-of-type {\n",
       "        vertical-align: middle;\n",
       "    }\n",
       "\n",
       "    .dataframe tbody tr th {\n",
       "        vertical-align: top;\n",
       "    }\n",
       "\n",
       "    .dataframe thead th {\n",
       "        text-align: right;\n",
       "    }\n",
       "</style>\n",
       "<table border=\"1\" class=\"dataframe\">\n",
       "  <thead>\n",
       "    <tr style=\"text-align: right;\">\n",
       "      <th></th>\n",
       "      <th>task_name</th>\n",
       "      <th>dataset_name</th>\n",
       "      <th>fn</th>\n",
       "    </tr>\n",
       "  </thead>\n",
       "  <tbody>\n",
       "    <tr>\n",
       "      <th>0</th>\n",
       "      <td>Code-Code</td>\n",
       "      <td>Clone-detection-BigCloneBench</td>\n",
       "      <td>CodeXGLUE/Code-Code/Clone-detection-BigCloneBe...</td>\n",
       "    </tr>\n",
       "    <tr>\n",
       "      <th>1</th>\n",
       "      <td>Code-Code</td>\n",
       "      <td>Clone-detection-POJ-104</td>\n",
       "      <td>CodeXGLUE/Code-Code/Clone-detection-POJ-104/da...</td>\n",
       "    </tr>\n",
       "    <tr>\n",
       "      <th>2</th>\n",
       "      <td>Code-Code</td>\n",
       "      <td>ClozeTesting-all</td>\n",
       "      <td>CodeXGLUE/Code-Code/ClozeTesting-all/data</td>\n",
       "    </tr>\n",
       "    <tr>\n",
       "      <th>3</th>\n",
       "      <td>Code-Code</td>\n",
       "      <td>ClozeTesting-maxmin</td>\n",
       "      <td>CodeXGLUE/Code-Code/ClozeTesting-maxmin/data</td>\n",
       "    </tr>\n",
       "    <tr>\n",
       "      <th>4</th>\n",
       "      <td>Code-Code</td>\n",
       "      <td>CodeCompletion-line</td>\n",
       "      <td>CodeXGLUE/Code-Code/CodeCompletion-line/dataset</td>\n",
       "    </tr>\n",
       "    <tr>\n",
       "      <th>5</th>\n",
       "      <td>Code-Code</td>\n",
       "      <td>CodeCompletion-token</td>\n",
       "      <td>CodeXGLUE/Code-Code/CodeCompletion-token/dataset</td>\n",
       "    </tr>\n",
       "    <tr>\n",
       "      <th>6</th>\n",
       "      <td>Code-Code</td>\n",
       "      <td>Defect-detection</td>\n",
       "      <td>CodeXGLUE/Code-Code/Defect-detection/dataset</td>\n",
       "    </tr>\n",
       "    <tr>\n",
       "      <th>7</th>\n",
       "      <td>Code-Code</td>\n",
       "      <td>Method-Generation</td>\n",
       "      <td>CodeXGLUE/Code-Code/Method-Generation/dataset</td>\n",
       "    </tr>\n",
       "    <tr>\n",
       "      <th>8</th>\n",
       "      <td>Code-Code</td>\n",
       "      <td>TypePrediction-TypeScript</td>\n",
       "      <td>CodeXGLUE/Code-Code/TypePrediction-TypeScript/...</td>\n",
       "    </tr>\n",
       "    <tr>\n",
       "      <th>9</th>\n",
       "      <td>Code-Code</td>\n",
       "      <td>code-refinement</td>\n",
       "      <td>CodeXGLUE/Code-Code/code-refinement/data</td>\n",
       "    </tr>\n",
       "    <tr>\n",
       "      <th>10</th>\n",
       "      <td>Code-Code</td>\n",
       "      <td>code-to-code-trans</td>\n",
       "      <td>CodeXGLUE/Code-Code/code-to-code-trans/data</td>\n",
       "    </tr>\n",
       "    <tr>\n",
       "      <th>11</th>\n",
       "      <td>Text-Code</td>\n",
       "      <td>NL-code-search-WebQuery</td>\n",
       "      <td>CodeXGLUE/Text-Code/NL-code-search-WebQuery/data</td>\n",
       "    </tr>\n",
       "    <tr>\n",
       "      <th>12</th>\n",
       "      <td>Text-Code</td>\n",
       "      <td>text-to-code</td>\n",
       "      <td>CodeXGLUE/Text-Code/text-to-code/dataset</td>\n",
       "    </tr>\n",
       "    <tr>\n",
       "      <th>13</th>\n",
       "      <td>Text-Text</td>\n",
       "      <td>text-to-text</td>\n",
       "      <td>CodeXGLUE/Text-Text/text-to-text/data</td>\n",
       "    </tr>\n",
       "  </tbody>\n",
       "</table>\n",
       "</div>"
      ],
      "text/plain": [
       "    task_name                   dataset_name   \n",
       "0   Code-Code  Clone-detection-BigCloneBench  \\\n",
       "1   Code-Code        Clone-detection-POJ-104   \n",
       "2   Code-Code               ClozeTesting-all   \n",
       "3   Code-Code            ClozeTesting-maxmin   \n",
       "4   Code-Code            CodeCompletion-line   \n",
       "5   Code-Code           CodeCompletion-token   \n",
       "6   Code-Code               Defect-detection   \n",
       "7   Code-Code              Method-Generation   \n",
       "8   Code-Code      TypePrediction-TypeScript   \n",
       "9   Code-Code                code-refinement   \n",
       "10  Code-Code             code-to-code-trans   \n",
       "11  Text-Code        NL-code-search-WebQuery   \n",
       "12  Text-Code                   text-to-code   \n",
       "13  Text-Text                   text-to-text   \n",
       "\n",
       "                                                   fn  \n",
       "0   CodeXGLUE/Code-Code/Clone-detection-BigCloneBe...  \n",
       "1   CodeXGLUE/Code-Code/Clone-detection-POJ-104/da...  \n",
       "2           CodeXGLUE/Code-Code/ClozeTesting-all/data  \n",
       "3        CodeXGLUE/Code-Code/ClozeTesting-maxmin/data  \n",
       "4     CodeXGLUE/Code-Code/CodeCompletion-line/dataset  \n",
       "5    CodeXGLUE/Code-Code/CodeCompletion-token/dataset  \n",
       "6        CodeXGLUE/Code-Code/Defect-detection/dataset  \n",
       "7       CodeXGLUE/Code-Code/Method-Generation/dataset  \n",
       "8   CodeXGLUE/Code-Code/TypePrediction-TypeScript/...  \n",
       "9            CodeXGLUE/Code-Code/code-refinement/data  \n",
       "10        CodeXGLUE/Code-Code/code-to-code-trans/data  \n",
       "11   CodeXGLUE/Text-Code/NL-code-search-WebQuery/data  \n",
       "12           CodeXGLUE/Text-Code/text-to-code/dataset  \n",
       "13              CodeXGLUE/Text-Text/text-to-text/data  "
      ]
     },
     "execution_count": 9,
     "metadata": {},
     "output_type": "execute_result"
    }
   ],
   "source": [
    "df = pd.DataFrame(res)\n",
    "df['fn'].apply(lambda x: ','.join(os.listdir(x)))\n",
    "df"
   ]
  },
  {
   "cell_type": "code",
   "execution_count": 39,
   "id": "8049c937",
   "metadata": {},
   "outputs": [
    {
     "data": {
      "text/plain": [
       "0               data.jsonl,test.txt,train.txt,valid.txt\n",
       "1                                         preprocess.py\n",
       "2                                             cloze-all\n",
       "3                                          cloze-maxmin\n",
       "4                                      javaCorpus,py150\n",
       "5                                      javaCorpus,py150\n",
       "6            preprocess.py,test.txt,train.txt,valid.txt\n",
       "7                           literals.json,preprocess.py\n",
       "8                                  process_datafiles.py\n",
       "9                                          medium,small\n",
       "10    test.java-cs.txt.cs,test.java-cs.txt.java,trai...\n",
       "11     go,java,javascript,php,preprocess.py,python,ruby\n",
       "12    preprocess.py,train.txt,test.txt,valid.txt,tes...\n",
       "13    preprocess.py,test_webquery.json,train.txt,val...\n",
       "14                                              concode\n",
       "15                      dev,preprocessing.py,test,train\n",
       "Name: fn, dtype: object"
      ]
     },
     "execution_count": 39,
     "metadata": {},
     "output_type": "execute_result"
    }
   ],
   "source": []
  },
  {
   "cell_type": "code",
   "execution_count": 34,
   "id": "5d2ffdda",
   "metadata": {},
   "outputs": [
    {
     "data": {
      "text/plain": [
       "'CodeXGLUE/Code-Code/Clone-detection-BigCloneBench/dataset'"
      ]
     },
     "execution_count": 34,
     "metadata": {},
     "output_type": "execute_result"
    }
   ],
   "source": [
    "df.loc[0, 'fn']"
   ]
  },
  {
   "cell_type": "code",
   "execution_count": 35,
   "id": "2ef46ec6",
   "metadata": {},
   "outputs": [
    {
     "name": "stdout",
     "output_type": "stream",
     "text": [
      "data.jsonl  test.txt  train.txt  valid.txt\r\n"
     ]
    }
   ],
   "source": [
    "!ls {df.loc[0, 'fn']}"
   ]
  },
  {
   "cell_type": "code",
   "execution_count": 37,
   "id": "98aed3da",
   "metadata": {},
   "outputs": [
    {
     "name": "stdout",
     "output_type": "stream",
     "text": [
      "13988825\t8660836\t0\r\n",
      "80378\t18548122\t1\r\n",
      "21354223\t7421563\t1\r\n",
      "15826299\t19728871\t0\r\n",
      "9938081\t11517213\t0\r\n",
      "18220543\t17366812\t0\r\n",
      "22328849\t17334846\t0\r\n",
      "19130322\t15710690\t1\r\n",
      "1111832\t789472\t1\r\n",
      "7046481\t18317332\t0\r\n"
     ]
    }
   ],
   "source": [
    "!head CodeXGLUE/Code-Code/Clone-detection-BigCloneBench/dataset/train.txt"
   ]
  },
  {
   "cell_type": "code",
   "execution_count": 30,
   "id": "242420a8",
   "metadata": {},
   "outputs": [
    {
     "data": {
      "text/plain": [
       "dict_keys(['func', 'idx'])"
      ]
     },
     "execution_count": 30,
     "metadata": {},
     "output_type": "execute_result"
    }
   ],
   "source": [
    "import json\n",
    "\n",
    "fn = df.loc[0, 'fn'] + '/data.jsonl'\n",
    "json.loads(open(fn, 'r').read().split('\\n')[3]).keys()\n",
    "# !head {df.loc[0, 'fn']}/data.jsonl"
   ]
  },
  {
   "cell_type": "code",
   "execution_count": 11,
   "id": "2d387861",
   "metadata": {},
   "outputs": [
    {
     "name": "stdout",
     "output_type": "stream",
     "text": [
      "README.md  code  dataset  evaluator\r\n"
     ]
    }
   ],
   "source": [
    "!ls CodeXGLUE/Code-Code/Defect-detection/"
   ]
  },
  {
   "cell_type": "code",
   "execution_count": 5,
   "id": "1555392f",
   "metadata": {},
   "outputs": [
    {
     "name": "stdout",
     "output_type": "stream",
     "text": [
      "<!-- BEGIN MICROSOFT SECURITY.MD V0.0.5 BLOCK -->\r\n",
      "\r\n",
      "## Security\r\n",
      "\r\n",
      "Microsoft takes the security of our software products and services seriously, which includes all source code repositories managed through our GitHub organizations, which include [Microsoft](https://github.com/Microsoft), [Azure](https://github.com/Azure), [DotNet](https://github.com/dotnet), [AspNet](https://github.com/aspnet), [Xamarin](https://github.com/xamarin), and [our GitHub organizations](https://opensource.microsoft.com/).\r\n",
      "\r\n",
      "If you believe you have found a security vulnerability in any Microsoft-owned repository that meets [Microsoft's definition of a security vulnerability](https://docs.microsoft.com/en-us/previous-versions/tn-archive/cc751383(v=technet.10)), please report it to us as described below.\r\n",
      "\r\n",
      "## Reporting Security Issues\r\n",
      "\r\n",
      "**Please do not report security vulnerabilities through public GitHub issues.**\r\n",
      "\r\n",
      "Instead, please report them to the Microsoft Security Response Center (MSRC) at [https://msrc.microsoft.com/create-report](https://msrc.microsoft.com/create-report).\r\n",
      "\r\n",
      "If you prefer to submit without logging in, send email to [secure@microsoft.com](mailto:secure@microsoft.com).  If possible, encrypt your message with our PGP key; please download it from the [Microsoft Security Response Center PGP Key page](https://www.microsoft.com/en-us/msrc/pgp-key-msrc).\r\n",
      "\r\n",
      "You should receive a response within 24 hours. If for some reason you do not, please follow up via email to ensure we received your original message. Additional information can be found at [microsoft.com/msrc](https://www.microsoft.com/msrc). \r\n",
      "\r\n",
      "Please include the requested information listed below (as much as you can provide) to help us better understand the nature and scope of the possible issue:\r\n",
      "\r\n",
      "  * Type of issue (e.g. buffer overflow, SQL injection, cross-site scripting, etc.)\r\n",
      "  * Full paths of source file(s) related to the manifestation of the issue\r\n",
      "  * The location of the affected source code (tag/branch/commit or direct URL)\r\n",
      "  * Any special configuration required to reproduce the issue\r\n",
      "  * Step-by-step instructions to reproduce the issue\r\n",
      "  * Proof-of-concept or exploit code (if possible)\r\n",
      "  * Impact of the issue, including how an attacker might exploit the issue\r\n",
      "\r\n",
      "This information will help us triage your report more quickly.\r\n",
      "\r\n",
      "If you are reporting for a bug bounty, more complete reports can contribute to a higher bounty award. Please visit our [Microsoft Bug Bounty Program](https://microsoft.com/msrc/bounty) page for more details about our active programs.\r\n",
      "\r\n",
      "## Preferred Languages\r\n",
      "\r\n",
      "We prefer all communications to be in English.\r\n",
      "\r\n",
      "## Policy\r\n",
      "\r\n",
      "Microsoft follows the principle of [Coordinated Vulnerability Disclosure](https://www.microsoft.com/en-us/msrc/cvd).\r\n",
      "\r\n",
      "<!-- END MICROSOFT SECURITY.MD BLOCK -->"
     ]
    }
   ],
   "source": [
    "!cat CodeXGLUE/SECURITY.md"
   ]
  },
  {
   "cell_type": "code",
   "execution_count": 41,
   "id": "2941f41d",
   "metadata": {},
   "outputs": [
    {
     "name": "stdout",
     "output_type": "stream",
     "text": [
      "/root/data\r\n"
     ]
    }
   ],
   "source": [
    "!pwd"
   ]
  },
  {
   "cell_type": "code",
   "execution_count": 42,
   "id": "951ee260",
   "metadata": {},
   "outputs": [
    {
     "name": "stdout",
     "output_type": "stream",
     "text": [
      "CodeXGLUE  read_dataset.ipynb\r\n"
     ]
    }
   ],
   "source": [
    "!ls"
   ]
  },
  {
   "cell_type": "code",
   "execution_count": 48,
   "id": "c19f3d2b",
   "metadata": {},
   "outputs": [
    {
     "name": "stdout",
     "output_type": "stream",
     "text": [
      "dev.json  test.json  train.json\r\n"
     ]
    }
   ],
   "source": [
    "!ls CodeXGLUE/Text-Code/text-to-code/dataset/concode/"
   ]
  },
  {
   "cell_type": "code",
   "execution_count": null,
   "id": "fb743198",
   "metadata": {},
   "outputs": [],
   "source": []
  }
 ],
 "metadata": {
  "kernelspec": {
   "display_name": "Python 3 (ipykernel)",
   "language": "python",
   "name": "python3"
  },
  "language_info": {
   "codemirror_mode": {
    "name": "ipython",
    "version": 3
   },
   "file_extension": ".py",
   "mimetype": "text/x-python",
   "name": "python",
   "nbconvert_exporter": "python",
   "pygments_lexer": "ipython3",
   "version": "3.10.9"
  }
 },
 "nbformat": 4,
 "nbformat_minor": 5
}
